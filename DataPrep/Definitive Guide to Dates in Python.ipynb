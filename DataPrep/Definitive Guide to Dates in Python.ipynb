{
 "cells": [
  {
   "cell_type": "markdown",
   "metadata": {},
   "source": [
    "# Pandas + Dates in Python"
   ]
  },
  {
   "cell_type": "code",
   "execution_count": 2,
   "metadata": {},
   "outputs": [],
   "source": [
    "#Importamos pandas sobre el acrónimo pd\n",
    "import pandas as pd\n",
    "import numpy as np\n",
    "import datetime"
   ]
  },
  {
   "cell_type": "markdown",
   "metadata": {},
   "source": [
    "**Pandas** tiene 3 estructuras principales:\n",
    "* Series\n",
    "* Data Frames\n",
    "* Índices"
   ]
  },
  {
   "cell_type": "markdown",
   "metadata": {},
   "source": [
    "### Resumen de creación de series"
   ]
  },
  {
   "cell_type": "code",
   "execution_count": 2,
   "metadata": {},
   "outputs": [
    {
     "name": "stdout",
     "output_type": "stream",
     "text": [
      "0    0.25\n",
      "1    0.50\n",
      "2    0.75\n",
      "3    1.00\n",
      "dtype: float64\n"
     ]
    }
   ],
   "source": [
    "# Nos creamos un objeto tipo serie, tambien se podría hacer desde un array numpy\n",
    "data = pd.Series([0.25, 0.5, 0.75, 1.0])\n",
    "\n",
    "# Mostramos el resultado. Hay índices por defecto, y también hay inferencia de tipo (dtype.)\n",
    "print(data)"
   ]
  },
  {
   "cell_type": "markdown",
   "metadata": {},
   "source": [
    "Como podemos ver, por defecto los índices que coge son [0,1,2,...,i,...)"
   ]
  },
  {
   "cell_type": "code",
   "execution_count": 4,
   "metadata": {},
   "outputs": [
    {
     "name": "stdout",
     "output_type": "stream",
     "text": [
      "RangeIndex(start=0, stop=4, step=1)\n",
      "<class 'pandas.core.indexes.range.RangeIndex'>\n",
      "<class 'numpy.ndarray'>\n",
      "<class 'numpy.float64'> <class 'numpy.float64'>\n"
     ]
    }
   ],
   "source": [
    "# Podemos acceder a los valores:\n",
    "print(data.index)\n",
    "\n",
    "# Y al tipo de dato:\n",
    "print(type(data.index))\n",
    "\n",
    "# Y al tipo de dato de la serie en si\n",
    "print(type(data.values))\n",
    "\n",
    "# O al tipo de dato de un dato en concreto, utiliza los tipos de numpy\n",
    "print(type(data[0]), type(data.values[0]))"
   ]
  },
  {
   "cell_type": "markdown",
   "metadata": {},
   "source": [
    "Como antes, podemos acceder al indexado normal de la Serie, como si fuera un numpy array."
   ]
  },
  {
   "cell_type": "code",
   "execution_count": 10,
   "metadata": {},
   "outputs": [
    {
     "name": "stdout",
     "output_type": "stream",
     "text": [
      "<class 'pandas.core.series.Series'>\n",
      "1    0.50\n",
      "2    0.75\n",
      "dtype: float64\n",
      "float64\n",
      "(4,)\n"
     ]
    }
   ],
   "source": [
    "# Clase de la serie, una 'Series'\n",
    "print(type(data))\n",
    "\n",
    "# Podemos slicear\n",
    "print(data[1:3])\n",
    "\n",
    "# Podemos utilizar cosas que utilizabamos para numpy arrays\n",
    "print(data.dtype)\n",
    "print(data.shape)"
   ]
  },
  {
   "cell_type": "markdown",
   "metadata": {},
   "source": [
    "Podríamos haber puesto el índice que queríamos:"
   ]
  },
  {
   "cell_type": "code",
   "execution_count": 11,
   "metadata": {},
   "outputs": [
    {
     "name": "stdout",
     "output_type": "stream",
     "text": [
      "a    0.25\n",
      "b    0.50\n",
      "c    0.75\n",
      "d    1.00\n",
      "dtype: float64\n"
     ]
    }
   ],
   "source": [
    "# Nos creamos un objeto pandas series modificando los índices\n",
    "data = pd.Series([0.25, 0.5, 0.75, 1.0], index = ['a', 'b', 'c', 'd'])\n",
    "\n",
    "# Mostramos el resultado\n",
    "print(data)"
   ]
  },
  {
   "cell_type": "code",
   "execution_count": 13,
   "metadata": {},
   "outputs": [
    {
     "name": "stdout",
     "output_type": "stream",
     "text": [
      "0.25\n",
      "0.25\n"
     ]
    }
   ],
   "source": [
    "# Podríamos accedes al vector por indexado clásico o por \"key\"\n",
    "print(data[0])\n",
    "print(data['a'])"
   ]
  },
  {
   "cell_type": "markdown",
   "metadata": {},
   "source": [
    "# Fechas - Numpy & Pandas & Base Python"
   ]
  },
  {
   "cell_type": "markdown",
   "metadata": {},
   "source": [
    "Pandas fue desarrollado en el contexto de modelización financiera, por lo que es de esperar que contenga un amplio conjunto de herramientas para trabajar con fechas, tiempo y datos indexados a patir de fechas. Los tipos de fechas que podemos encontrar son los siguientes:\n",
    "\n",
    "* **Time Stamps**: hacen referencia o momentos concretos en el tiempo (4 julio de 2015 07:00:01).\n",
    "\n",
    "* **Intervalos de tiempo**: hace referencia a un intervalo de tiempo entre un momento inicial y un momento final. Los periodos usualmente hacen referencia a intervalos temporales uniformes.\n",
    "\n",
    "* **Time deltas**: también conocidos como como duraciones hacen referencia a una longitud exacta del tiempo (22.56 segundos)."
   ]
  },
  {
   "cell_type": "markdown",
   "metadata": {},
   "source": [
    "# Objetos de tiempo nativos en python: datetime y dateutil"
   ]
  },
  {
   "cell_type": "code",
   "execution_count": 25,
   "metadata": {},
   "outputs": [
    {
     "name": "stdout",
     "output_type": "stream",
     "text": [
      "Fechas con datetime.date: \t 2015-07-04 \n",
      "\n",
      "Fechas con datetime.datetime: \t 2015-07-04 00:00:00 \n",
      "\n",
      "Fechas con datetime.time: \t 12:03:00 \n",
      "\n"
     ]
    }
   ],
   "source": [
    "# Modulo por defecto para fechas\n",
    "from datetime import *\n",
    "\n",
    "# Tenemos \"date\"\n",
    "fecha_0 = date(2015, 7, 4)\n",
    "print('Fechas con datetime.date:', '\\t',fecha_0, '\\n')\n",
    "\n",
    "# Tenemos \"datetime\"\n",
    "fecha_1 = datetime(year = 2015, month = 7, day = 4)\n",
    "print('Fechas con datetime.datetime:', '\\t',fecha_1, '\\n')\n",
    "\n",
    "# Tenemos \"time\"\n",
    "fecha_2 = time(hour = 12, minute= 3)\n",
    "print('Fechas con datetime.time:', '\\t',fecha_2, '\\n')\n"
   ]
  },
  {
   "cell_type": "code",
   "execution_count": 51,
   "metadata": {},
   "outputs": [
    {
     "name": "stdout",
     "output_type": "stream",
     "text": [
      "2015-07-04 | 2015-07-04 00:00:00 \n",
      " Are equal?  False\n",
      "2015-07-04 | 2015-07-04 00:00:00 \n",
      " Are the same?  False \n",
      "\n",
      "\n",
      "<class 'datetime.date'>  is by default of type datetime.date\n"
     ]
    }
   ],
   "source": [
    "# Son comparables date y datime? (DATE hereda de DATETIME)\n",
    "print(fecha_0,'|' ,fecha_1, '\\n','Are equal? ', fecha_0 == fecha_1)\n",
    "print(fecha_0, '|',fecha_1, '\\n','Are the same? ', fecha_0 is fecha_1, '\\n\\n')\n",
    "\n",
    "print(type(date.today()), ' is by default of type datetime.date')"
   ]
  },
  {
   "cell_type": "code",
   "execution_count": 34,
   "metadata": {},
   "outputs": [
    {
     "name": "stdout",
     "output_type": "stream",
     "text": [
      "Saturday\n",
      "Saturday\n"
     ]
    }
   ],
   "source": [
    "# Para sacar el dia de la semana, por ejemplo\n",
    "print(fecha_0.strftime('%A'))\n",
    "print(fecha_1.strftime('%A'))"
   ]
  },
  {
   "cell_type": "markdown",
   "metadata": {},
   "source": [
    "#### Introduciendo los timedelta:"
   ]
  },
  {
   "cell_type": "code",
   "execution_count": 45,
   "metadata": {},
   "outputs": [
    {
     "name": "stdout",
     "output_type": "stream",
     "text": [
      "1096 days, 4:03:00  is of type  <class 'datetime.timedelta'>\n"
     ]
    }
   ],
   "source": [
    "fecha_3 = datetime(year = 2018, month = 7, day = 4, hour = 4, minute = 3)\n",
    "fecha_delta = fecha_3 - fecha_1\n",
    "print(fecha_delta, ' is of type ', type(fecha_delta))"
   ]
  },
  {
   "cell_type": "code",
   "execution_count": 3,
   "metadata": {},
   "outputs": [
    {
     "data": {
      "text/plain": [
       "datetime.datetime(2017, 10, 24, 4, 4, 10, 7199)"
      ]
     },
     "execution_count": 3,
     "metadata": {},
     "output_type": "execute_result"
    }
   ],
   "source": [
    "# datetime.timedelta es un espacio de tiempo\n",
    "prueba = datetime.timedelta(minutes = 1)\n",
    "\n",
    "datetime.datetime(year=2017, month=10, day=24, hour=4, minute=3, second=10, microsecond=7199) + prueba\n",
    "# Sumamos un minuto!"
   ]
  },
  {
   "cell_type": "code",
   "execution_count": null,
   "metadata": {},
   "outputs": [],
   "source": []
  },
  {
   "cell_type": "markdown",
   "metadata": {},
   "source": [
    "# Objetos temporales en Numpy:  datetime64"
   ]
  },
  {
   "cell_type": "code",
   "execution_count": 100,
   "metadata": {},
   "outputs": [
    {
     "name": "stdout",
     "output_type": "stream",
     "text": [
      "array(['2015-01-01', '1970-01-03'], dtype='datetime64[D]')\n",
      "array(['2015'], dtype='datetime64[Y]')\n",
      "date[0] == date_2 ?  True\n",
      "Todas iguales?   True\n"
     ]
    }
   ],
   "source": [
    "# Se puede crear parecido a en OracleDB. \n",
    "# Varias cosas a tener en cuenta:\n",
    "## Como forzamos dtype, el 2 se convierte automaticamente en fecha, y automaticamente escoge [D] como unidad básica\n",
    "\n",
    "date = np.array(['2015-01-01',2], dtype = np.datetime64)\n",
    "print(repr(date))\n",
    "\n",
    "date_2 = np.array(['2015'], dtype = np.datetime64)\n",
    "print(repr(date_2))\n",
    "\n",
    "# Aún con distinta unidad, podrían ser iguales:\n",
    "print('date[0] == date_2 ? ', date[0] == date_2[0])\n",
    "\n",
    "# Y esto claro sería igual a hacer:\n",
    "date_3 = np.datetime64('2015')\n",
    "\n",
    "# Los tres son lo mismo\n",
    "print('Todas iguales?  ',date_3 == date_2[0] == date[0])"
   ]
  },
  {
   "cell_type": "markdown",
   "metadata": {},
   "source": [
    "#### Las fechas de numpy ya tienen propiedades más intuitivas:"
   ]
  },
  {
   "cell_type": "code",
   "execution_count": 85,
   "metadata": {},
   "outputs": [
    {
     "name": "stdout",
     "output_type": "stream",
     "text": [
      "2015-01-01  => SE PUEDE SUMAR =>  2015-01-02\n"
     ]
    }
   ],
   "source": [
    "print(date[0],' => SE PUEDE SUMAR => ' ,date[0] + 1)"
   ]
  },
  {
   "cell_type": "markdown",
   "metadata": {},
   "source": [
    "Esto nos permite hace un array de numpy tipado (**Los arrays de numpy tienen el mismo  tipo de dato en todas sus elementos**) "
   ]
  },
  {
   "cell_type": "code",
   "execution_count": 94,
   "metadata": {},
   "outputs": [
    {
     "name": "stdout",
     "output_type": "stream",
     "text": [
      "['2015-01-01' '2015-01-02' '2015-01-03']\n",
      "['2015-01-01' '2015-01-02']\n",
      "['2015-01-01T01' '2015-01-01T02' '2015-01-01T03' '2015-01-01T04'\n",
      " '2015-01-01T05' '2015-01-01T06' '2015-01-01T07' '2015-01-01T08'\n",
      " '2015-01-01T09'] ... CADA HORA\n"
     ]
    }
   ],
   "source": [
    "# Indirectamente aprovechándonos de las propiedades vectoriales:\n",
    "print(date[0] + np.arange(3))\n",
    "\n",
    "# O directamente, ya con arrange\n",
    "print(np.arange('2015-01-01', '2015-01-03', dtype = 'datetime64[D]'))\n",
    "\n",
    "# Cada hora\n",
    "print(np.arange('2015-01-01', '2015-01-03', dtype = 'datetime64[h]')[1:10], '... CADA HORA')"
   ]
  },
  {
   "cell_type": "code",
   "execution_count": 97,
   "metadata": {},
   "outputs": [
    {
     "name": "stdout",
     "output_type": "stream",
     "text": [
      "<class 'numpy.timedelta64'> 0 days\n"
     ]
    }
   ],
   "source": [
    "# Como antes podemos hacer TIMEDELTAS64\n",
    "\n",
    "intervalo = date[0] - date_2[0]\n",
    "print(type(intervalo), intervalo)"
   ]
  },
  {
   "cell_type": "code",
   "execution_count": 4,
   "metadata": {},
   "outputs": [
    {
     "data": {
      "text/plain": [
       "numpy.datetime64('2017-10-24T06:30:45.670')"
      ]
     },
     "execution_count": 4,
     "metadata": {},
     "output_type": "execute_result"
    }
   ],
   "source": [
    "numpy1 = np.datetime64('2017-10-24T05:30:45.67')\n",
    "numpy2 = np.timedelta64(1, 'h')\n",
    "numpy1 + numpy2"
   ]
  },
  {
   "cell_type": "markdown",
   "metadata": {},
   "source": [
    "# Tiempo utilizando Pandas"
   ]
  },
  {
   "cell_type": "markdown",
   "metadata": {},
   "source": [
    "Pandas nos permite **combinar** **datetime** y **dateutil** con el almacenamiento eficiente y vectorizado de **np.datetime64**."
   ]
  },
  {
   "cell_type": "code",
   "execution_count": 112,
   "metadata": {},
   "outputs": [
    {
     "name": "stdout",
     "output_type": "stream",
     "text": [
      "<class 'pandas._libs.tslibs.timestamps.Timestamp'>\n",
      "2015-01-01 00:00:00\n",
      "Timestamp('2015-01-01 00:00:00')\n"
     ]
    }
   ],
   "source": [
    "# El format es opcional, lo hace más rápido\n",
    "date_5 = pd.to_datetime('2015-01-01', format='%Y-%m-%d')\n",
    "\n",
    "# Esto será un timestamp de pandas, que de alguna manera unifica lo visto hasta ahora. \n",
    "# Es parecido al datetime, o datetime64 pero con muchas mas funcionalidades\n",
    "print(type(date_5))\n",
    "print(date_5)\n",
    "print(repr(date_5))"
   ]
  },
  {
   "cell_type": "markdown",
   "metadata": {},
   "source": [
    "#####  Comparable con datetime o numpy?"
   ]
  },
  {
   "cell_type": "code",
   "execution_count": 146,
   "metadata": {},
   "outputs": [
    {
     "name": "stdout",
     "output_type": "stream",
     "text": [
      "<class 'numpy.datetime64'> <class 'datetime.datetime'> <class 'pandas._libs.tslibs.timestamps.Timestamp'>\n",
      "2015-01-01 | 2015-01-01 00:00:00 | 2015-01-01 00:00:00\n",
      "datetime vs numpy= \t False\n",
      "datetime vs pandas= \t True\n",
      "numpy vs pandas= \t False\n",
      "numpy vs datetime= \t False\n"
     ]
    }
   ],
   "source": [
    "# Se puede comparar con objetos de numpy?\n",
    "date_10 = datetime(2015,1,1)\n",
    "print(type(date[0]), type(date_10), type(date_5))\n",
    "print(date[0], '|',date_10,'|' ,date_5)\n",
    "\n",
    "print('datetime vs numpy =','\\t' , date_10 == date[0]) \n",
    "print('datetime vs pandas =','\\t' , date_10 == date_5)\n",
    "print('numpy vs pandas =' ,'\\t', date[0] == date_5)\n",
    "print('numpy vs datetime =','\\t' , date[0] == date_10)"
   ]
  },
  {
   "cell_type": "code",
   "execution_count": 121,
   "metadata": {},
   "outputs": [
    {
     "data": {
      "text/plain": [
       "DatetimeIndex(['2015-01-01', '2015-01-02', '2015-01-03', '2015-01-04',\n",
       "               '2015-01-05', '2015-01-06'],\n",
       "              dtype='datetime64[ns]', freq=None)"
      ]
     },
     "execution_count": 121,
     "metadata": {},
     "output_type": "execute_result"
    }
   ],
   "source": [
    "# Podemos utilizar operaciones vectorizadas como con el de numpy\n",
    "date_5 + pd.to_timedelta(np.arange(6), 'D')"
   ]
  },
  {
   "cell_type": "markdown",
   "metadata": {},
   "source": [
    "### Caso de uso normal con Pandas"
   ]
  },
  {
   "cell_type": "code",
   "execution_count": 124,
   "metadata": {},
   "outputs": [
    {
     "name": "stdout",
     "output_type": "stream",
     "text": [
      "[0.73174554 2.2614398  0.07447543 2.6853462  8.48639668 7.03198704\n",
      " 7.63606629 6.45308008 9.10659668 2.81816803]\n"
     ]
    }
   ],
   "source": [
    "my_ts = np.random.random(10)*10\n",
    "print(my_ts)"
   ]
  },
  {
   "cell_type": "code",
   "execution_count": 131,
   "metadata": {},
   "outputs": [
    {
     "name": "stdout",
     "output_type": "stream",
     "text": [
      "[ True  True  True  True  True  True  True  True  True  True] \n",
      "\n",
      "2018-09-10    0.731746\n",
      "2018-09-11    2.261440\n",
      "2018-09-12    0.074475\n",
      "2018-09-13    2.685346\n",
      "2018-09-14    8.486397\n",
      "2018-09-15    7.031987\n",
      "2018-09-16    7.636066\n",
      "2018-09-17    6.453080\n",
      "2018-09-18    9.106597\n",
      "2018-09-19    2.818168\n",
      "Freq: D, dtype: float64 \n",
      "\n",
      "<class 'pandas.core.indexes.datetimes.DatetimeIndex'>\n",
      "<class 'pandas.core.indexes.datetimes.DatetimeIndex'>\n"
     ]
    }
   ],
   "source": [
    "# Nuestra serie será de unos días de este més, así que creamos el índice\n",
    "# Para metérselo a la Serie de Pandas.\n",
    "index_1 = pd.to_datetime('2018-09-10') + pd.to_timedelta(np.arange(10), 'D')\n",
    "index_2 = pd.date_range('2018-09-10', periods = 10, freq = 'D')\n",
    "\n",
    "# Are equal! \n",
    "print(index_1 == index_2, '\\n')\n",
    "\n",
    "my_ts = pd.Series(my_ts, index = index)\n",
    "print(my_ts, '\\n')\n",
    "\n",
    "print(type(my_ts.index))\n",
    "print(type(index_1))"
   ]
  },
  {
   "cell_type": "code",
   "execution_count": 132,
   "metadata": {},
   "outputs": [
    {
     "data": {
      "text/plain": [
       "0.7317455386218663"
      ]
     },
     "execution_count": 132,
     "metadata": {},
     "output_type": "execute_result"
    }
   ],
   "source": [
    "# Y podemos indexar por fecha\n",
    "my_ts['2018-09-10']"
   ]
  },
  {
   "cell_type": "markdown",
   "metadata": {},
   "source": [
    "Los tipos de datos más fundamentales son los objetos **TimeStamps** y los **DatetimeIndex**. Aunque estos objetos puede invocarse de forma directa, es más común hacer uso de **pd.to_datetime()**, la cual puede parsear una gran variedad de formatos. Si a esta función le pasamos una única fecha de lugar a una marca en el tiempo, en cambio si le pasamos un rango de fechas da lugar a un **DatetimeIndex**."
   ]
  },
  {
   "cell_type": "code",
   "execution_count": 65,
   "metadata": {},
   "outputs": [
    {
     "data": {
      "text/plain": [
       "pandas._libs.tslibs.timestamps.Timestamp"
      ]
     },
     "execution_count": 65,
     "metadata": {},
     "output_type": "execute_result"
    }
   ],
   "source": [
    "# Uno solo se convierte en timestamp\n",
    "ex1 = pd.to_datetime('2018-09-09')\n",
    "type(ex1)"
   ]
  },
  {
   "cell_type": "code",
   "execution_count": 67,
   "metadata": {},
   "outputs": [
    {
     "data": {
      "text/plain": [
       "pandas.core.indexes.datetimes.DatetimeIndex"
      ]
     },
     "execution_count": 67,
     "metadata": {},
     "output_type": "execute_result"
    }
   ],
   "source": [
    "# Varios se convierten en DatetimeIndex\n",
    "ex2 = pd.to_datetime(['2018-09-09','20150708'])\n",
    "type(ex2)"
   ]
  },
  {
   "cell_type": "markdown",
   "metadata": {},
   "source": [
    "### Operaciones con tipos e fechas"
   ]
  },
  {
   "cell_type": "code",
   "execution_count": 72,
   "metadata": {},
   "outputs": [
    {
     "data": {
      "text/plain": [
       "TimedeltaIndex(['0 days', '-1159 days'], dtype='timedelta64[ns]', freq=None)"
      ]
     },
     "execution_count": 72,
     "metadata": {},
     "output_type": "execute_result"
    }
   ],
   "source": [
    "# Diferencias entre fechas, como uno es un array queda un TimedeltaIndex, sino seria un timedelta!\n",
    "ex2 - pd.to_datetime('2018-09-09')"
   ]
  },
  {
   "cell_type": "markdown",
   "metadata": {},
   "source": [
    "## Rangos de fechas mejores:"
   ]
  },
  {
   "cell_type": "code",
   "execution_count": 75,
   "metadata": {},
   "outputs": [
    {
     "data": {
      "text/plain": [
       "DatetimeIndex(['2018-09-10', '2018-09-11', '2018-09-12', '2018-09-13',\n",
       "               '2018-09-14', '2018-09-15', '2018-09-16', '2018-09-17',\n",
       "               '2018-09-18', '2018-09-19'],\n",
       "              dtype='datetime64[ns]', freq=None)"
      ]
     },
     "execution_count": 75,
     "metadata": {},
     "output_type": "execute_result"
    }
   ],
   "source": [
    "index = pd.to_datetime('2018-09-10') + pd.to_timedelta(np.arange(10), 'D')\n",
    "index"
   ]
  },
  {
   "cell_type": "code",
   "execution_count": 80,
   "metadata": {},
   "outputs": [
    {
     "data": {
      "text/plain": [
       "DatetimeIndex(['2018-09-10', '2018-09-11', '2018-09-12', '2018-09-13',\n",
       "               '2018-09-14', '2018-09-15', '2018-09-16', '2018-09-17',\n",
       "               '2018-09-18', '2018-09-19'],\n",
       "              dtype='datetime64[ns]', freq='D')"
      ]
     },
     "execution_count": 80,
     "metadata": {},
     "output_type": "execute_result"
    }
   ],
   "source": [
    "# Se podría poner 'D','M', etc\n",
    "pd.date_range('2018-09-10','2018-09-19', freq = 'D')"
   ]
  },
  {
   "cell_type": "code",
   "execution_count": 81,
   "metadata": {},
   "outputs": [
    {
     "data": {
      "text/plain": [
       "DatetimeIndex(['2015-07-03', '2015-07-04', '2015-07-05', '2015-07-06',\n",
       "               '2015-07-07', '2015-07-08', '2015-07-09', '2015-07-10',\n",
       "               '2015-07-11', '2015-07-12'],\n",
       "              dtype='datetime64[ns]', freq='D')"
      ]
     },
     "execution_count": 81,
     "metadata": {},
     "output_type": "execute_result"
    }
   ],
   "source": [
    "pd.date_range('2015-07-03', periods = 10)"
   ]
  },
  {
   "cell_type": "markdown",
   "metadata": {},
   "source": [
    "* **D**: diario.\n",
    "\n",
    "* **W**: semanal.\n",
    "\n",
    "* **M**: mensual (fin de mes).\n",
    "\n",
    "* **Q**: cuatrimestral.\n",
    "\n",
    "* **A**: anual.\n",
    "\n",
    "* **H**: nivel horario.\n",
    "\n",
    "* **T**: a nivel de minutos.\n",
    "\n",
    "* **S**: a nivel de segundos.\n",
    "\n",
    "* **L**: a nivel de milisegundos.\n",
    "\n",
    "* **U**: a nivel de microsegundos.\n",
    "\n",
    "* **N**: a nivel de nanosegundos."
   ]
  },
  {
   "cell_type": "code",
   "execution_count": 108,
   "metadata": {},
   "outputs": [
    {
     "name": "stdout",
     "output_type": "stream",
     "text": [
      "2018-09-09 00:00:00 2018-09-09 00:00:00\n",
      "True\n",
      "<class 'pandas._libs.tslibs.timestamps.Timestamp'>\n"
     ]
    },
    {
     "data": {
      "text/plain": [
       "datetime.datetime"
      ]
     },
     "execution_count": 108,
     "metadata": {},
     "output_type": "execute_result"
    }
   ],
   "source": [
    "ex3 = pd.to_datetime('2018-09-09')\n",
    "ex4 = datetime.datetime(2018,9,9)\n",
    "print(ex3,ex4)\n",
    "print(ex3 == ex4)\n",
    "print(type(ex3))\n",
    "type(ex4)"
   ]
  },
  {
   "cell_type": "code",
   "execution_count": 118,
   "metadata": {},
   "outputs": [
    {
     "name": "stdout",
     "output_type": "stream",
     "text": [
      "2018-09-09\n",
      "2018-09-09 00:00:00\n",
      "False\n"
     ]
    }
   ],
   "source": [
    "ex7 = datetime.date(2018,9,9)\n",
    "print(ex7)\n",
    "print(ex4)\n",
    "print(ex4 == ex7)"
   ]
  },
  {
   "cell_type": "markdown",
   "metadata": {},
   "source": [
    "\n",
    "\n",
    "\n",
    "\n",
    "\n"
   ]
  },
  {
   "cell_type": "markdown",
   "metadata": {},
   "source": [
    "# Caso normal, con Timestamps de pandas"
   ]
  },
  {
   "cell_type": "code",
   "execution_count": 147,
   "metadata": {},
   "outputs": [
    {
     "name": "stdout",
     "output_type": "stream",
     "text": [
      "[9.30550138 9.2879722  2.73641602 0.6773163  4.4004079  9.90108756\n",
      " 1.85640156 4.96419737 7.35061259 6.72635982]\n"
     ]
    }
   ],
   "source": [
    "my_ts = np.random.random(10)*10\n",
    "print(my_ts)"
   ]
  },
  {
   "cell_type": "markdown",
   "metadata": {},
   "source": [
    "#### Por día"
   ]
  },
  {
   "cell_type": "code",
   "execution_count": 150,
   "metadata": {},
   "outputs": [
    {
     "name": "stdout",
     "output_type": "stream",
     "text": [
      "DatetimeIndex(['2015-07-03', '2015-07-04', '2015-07-05', '2015-07-06',\n",
      "               '2015-07-07', '2015-07-08', '2015-07-09', '2015-07-10',\n",
      "               '2015-07-11', '2015-07-12'],\n",
      "              dtype='datetime64[ns]', freq='D') \n",
      "\n",
      "2015-07-03    9.305501\n",
      "2015-07-04    9.287972\n",
      "2015-07-05    2.736416\n",
      "2015-07-06    0.677316\n",
      "2015-07-07    4.400408\n",
      "2015-07-08    9.901088\n",
      "2015-07-09    1.856402\n",
      "2015-07-10    4.964197\n",
      "2015-07-11    7.350613\n",
      "2015-07-12    6.726360\n",
      "Freq: D, dtype: float64\n"
     ]
    },
    {
     "data": {
      "text/plain": [
       "pandas.core.indexes.datetimes.DatetimeIndex"
      ]
     },
     "execution_count": 150,
     "metadata": {},
     "output_type": "execute_result"
    }
   ],
   "source": [
    "index = pd.date_range('2015-07-03', periods = len(my_ts), freq = 'D')\n",
    "\n",
    "print(index, '\\n')\n",
    "my_pd_ts = pd.Series(my_ts, index = index)\n",
    "print(my_pd_ts)\n",
    "\n",
    "type(my_pd_ts.index)"
   ]
  },
  {
   "cell_type": "markdown",
   "metadata": {},
   "source": [
    "### Por hora"
   ]
  },
  {
   "cell_type": "code",
   "execution_count": 164,
   "metadata": {},
   "outputs": [
    {
     "name": "stdout",
     "output_type": "stream",
     "text": [
      "DatetimeIndex(['2015-07-03 00:00:00', '2015-07-03 01:00:00',\n",
      "               '2015-07-03 02:00:00', '2015-07-03 03:00:00',\n",
      "               '2015-07-03 04:00:00', '2015-07-03 05:00:00',\n",
      "               '2015-07-03 06:00:00', '2015-07-03 07:00:00',\n",
      "               '2015-07-03 08:00:00', '2015-07-03 09:00:00'],\n",
      "              dtype='datetime64[ns]', freq='H') \n",
      "\n",
      "2015-07-03 00:00:00    9.305501\n",
      "2015-07-03 01:00:00    9.287972\n",
      "2015-07-03 02:00:00    2.736416\n",
      "2015-07-03 03:00:00    0.677316\n",
      "2015-07-03 04:00:00    4.400408\n",
      "2015-07-03 05:00:00    9.901088\n",
      "2015-07-03 06:00:00    1.856402\n",
      "2015-07-03 07:00:00    4.964197\n",
      "2015-07-03 08:00:00    7.350613\n",
      "2015-07-03 09:00:00    6.726360\n",
      "Freq: H, dtype: float64\n"
     ]
    },
    {
     "data": {
      "text/plain": [
       "pandas.core.indexes.datetimes.DatetimeIndex"
      ]
     },
     "execution_count": 164,
     "metadata": {},
     "output_type": "execute_result"
    }
   ],
   "source": [
    "index = pd.date_range('2015-07-03', periods = len(my_ts), freq = 'h')\n",
    "\n",
    "print(index, '\\n')\n",
    "my_pd_ts = pd.Series(my_ts, index = index)\n",
    "print(my_pd_ts)\n",
    "\n",
    "type(my_pd_ts.index)"
   ]
  },
  {
   "cell_type": "markdown",
   "metadata": {},
   "source": [
    "###  JOIN!!"
   ]
  },
  {
   "cell_type": "code",
   "execution_count": 204,
   "metadata": {},
   "outputs": [
    {
     "name": "stdout",
     "output_type": "stream",
     "text": [
      "            Cantidad\n",
      "2018-09-10  9.305501\n",
      "2018-09-12  9.287972\n",
      "2018-09-14  2.736416\n",
      "2018-09-16  0.677316\n",
      "2018-09-18  4.400408\n",
      "2018-09-20  9.901088\n",
      "2018-09-22  1.856402\n",
      "2018-09-24  4.964197\n",
      "2018-09-26  7.350613\n",
      "2018-09-28  6.726360\n"
     ]
    }
   ],
   "source": [
    "index = pd.date_range('2018-09-10', periods = len(my_ts), freq = '2D')\n",
    "my_pd_ts = pd.DataFrame({'Cantidad':my_ts}, index = index)\n",
    "print(my_pd_ts)"
   ]
  },
  {
   "cell_type": "code",
   "execution_count": 203,
   "metadata": {
    "collapsed": true
   },
   "outputs": [
    {
     "data": {
      "text/html": [
       "<div>\n",
       "<style scoped>\n",
       "    .dataframe tbody tr th:only-of-type {\n",
       "        vertical-align: middle;\n",
       "    }\n",
       "\n",
       "    .dataframe tbody tr th {\n",
       "        vertical-align: top;\n",
       "    }\n",
       "\n",
       "    .dataframe thead th {\n",
       "        text-align: right;\n",
       "    }\n",
       "</style>\n",
       "<table border=\"1\" class=\"dataframe\">\n",
       "  <thead>\n",
       "    <tr style=\"text-align: right;\">\n",
       "      <th></th>\n",
       "      <th>Cantidad</th>\n",
       "    </tr>\n",
       "  </thead>\n",
       "  <tbody>\n",
       "    <tr>\n",
       "      <th>2018-09-28</th>\n",
       "      <td>0</td>\n",
       "    </tr>\n",
       "    <tr>\n",
       "      <th>2018-09-27</th>\n",
       "      <td>0</td>\n",
       "    </tr>\n",
       "    <tr>\n",
       "      <th>2018-09-26</th>\n",
       "      <td>0</td>\n",
       "    </tr>\n",
       "    <tr>\n",
       "      <th>2018-09-25</th>\n",
       "      <td>0</td>\n",
       "    </tr>\n",
       "    <tr>\n",
       "      <th>2018-09-24</th>\n",
       "      <td>0</td>\n",
       "    </tr>\n",
       "    <tr>\n",
       "      <th>2018-09-23</th>\n",
       "      <td>0</td>\n",
       "    </tr>\n",
       "    <tr>\n",
       "      <th>2018-09-22</th>\n",
       "      <td>0</td>\n",
       "    </tr>\n",
       "    <tr>\n",
       "      <th>2018-09-21</th>\n",
       "      <td>0</td>\n",
       "    </tr>\n",
       "    <tr>\n",
       "      <th>2018-09-20</th>\n",
       "      <td>0</td>\n",
       "    </tr>\n",
       "    <tr>\n",
       "      <th>2018-09-19</th>\n",
       "      <td>0</td>\n",
       "    </tr>\n",
       "    <tr>\n",
       "      <th>2018-09-18</th>\n",
       "      <td>0</td>\n",
       "    </tr>\n",
       "    <tr>\n",
       "      <th>2018-09-17</th>\n",
       "      <td>0</td>\n",
       "    </tr>\n",
       "    <tr>\n",
       "      <th>2018-09-16</th>\n",
       "      <td>0</td>\n",
       "    </tr>\n",
       "    <tr>\n",
       "      <th>2018-09-15</th>\n",
       "      <td>0</td>\n",
       "    </tr>\n",
       "    <tr>\n",
       "      <th>2018-09-14</th>\n",
       "      <td>0</td>\n",
       "    </tr>\n",
       "    <tr>\n",
       "      <th>2018-09-13</th>\n",
       "      <td>0</td>\n",
       "    </tr>\n",
       "    <tr>\n",
       "      <th>2018-09-12</th>\n",
       "      <td>0</td>\n",
       "    </tr>\n",
       "    <tr>\n",
       "      <th>2018-09-11</th>\n",
       "      <td>0</td>\n",
       "    </tr>\n",
       "    <tr>\n",
       "      <th>2018-09-10</th>\n",
       "      <td>0</td>\n",
       "    </tr>\n",
       "    <tr>\n",
       "      <th>2018-09-09</th>\n",
       "      <td>0</td>\n",
       "    </tr>\n",
       "  </tbody>\n",
       "</table>\n",
       "</div>"
      ],
      "text/plain": [
       "            Cantidad\n",
       "2018-09-28         0\n",
       "2018-09-27         0\n",
       "2018-09-26         0\n",
       "2018-09-25         0\n",
       "2018-09-24         0\n",
       "2018-09-23         0\n",
       "2018-09-22         0\n",
       "2018-09-21         0\n",
       "2018-09-20         0\n",
       "2018-09-19         0\n",
       "2018-09-18         0\n",
       "2018-09-17         0\n",
       "2018-09-16         0\n",
       "2018-09-15         0\n",
       "2018-09-14         0\n",
       "2018-09-13         0\n",
       "2018-09-12         0\n",
       "2018-09-11         0\n",
       "2018-09-10         0\n",
       "2018-09-09         0"
      ]
     },
     "execution_count": 203,
     "metadata": {},
     "output_type": "execute_result"
    }
   ],
   "source": [
    "# Como vemos, faltan días. Desde el último día, hacemos la lista hacia atras de los días completos que cogimos. Imaginemos que cogimos 20 días\n",
    "# Y solo aparecieron esos:\n",
    "\n",
    "# Creamos el dataframe con todos\n",
    "tempo = pd.to_datetime('2018-09-28') - pd.to_timedelta(np.arange(20), 'D')\n",
    "tempo_ts = pd.DataFrame({'Cantidad': 0}, index = tempo)\n",
    "tempo_ts"
   ]
  },
  {
   "cell_type": "code",
   "execution_count": 242,
   "metadata": {},
   "outputs": [
    {
     "data": {
      "text/html": [
       "<div>\n",
       "<style scoped>\n",
       "    .dataframe tbody tr th:only-of-type {\n",
       "        vertical-align: middle;\n",
       "    }\n",
       "\n",
       "    .dataframe tbody tr th {\n",
       "        vertical-align: top;\n",
       "    }\n",
       "\n",
       "    .dataframe thead th {\n",
       "        text-align: right;\n",
       "    }\n",
       "</style>\n",
       "<table border=\"1\" class=\"dataframe\">\n",
       "  <thead>\n",
       "    <tr style=\"text-align: right;\">\n",
       "      <th></th>\n",
       "      <th>Cantidad_completo</th>\n",
       "      <th>Cantidad_original</th>\n",
       "    </tr>\n",
       "  </thead>\n",
       "  <tbody>\n",
       "    <tr>\n",
       "      <th>2018-09-28</th>\n",
       "      <td>0</td>\n",
       "      <td>6.726360</td>\n",
       "    </tr>\n",
       "    <tr>\n",
       "      <th>2018-09-27</th>\n",
       "      <td>0</td>\n",
       "      <td>NaN</td>\n",
       "    </tr>\n",
       "    <tr>\n",
       "      <th>2018-09-26</th>\n",
       "      <td>0</td>\n",
       "      <td>7.350613</td>\n",
       "    </tr>\n",
       "    <tr>\n",
       "      <th>2018-09-25</th>\n",
       "      <td>0</td>\n",
       "      <td>NaN</td>\n",
       "    </tr>\n",
       "    <tr>\n",
       "      <th>2018-09-24</th>\n",
       "      <td>0</td>\n",
       "      <td>4.964197</td>\n",
       "    </tr>\n",
       "    <tr>\n",
       "      <th>2018-09-23</th>\n",
       "      <td>0</td>\n",
       "      <td>NaN</td>\n",
       "    </tr>\n",
       "    <tr>\n",
       "      <th>2018-09-22</th>\n",
       "      <td>0</td>\n",
       "      <td>1.856402</td>\n",
       "    </tr>\n",
       "    <tr>\n",
       "      <th>2018-09-21</th>\n",
       "      <td>0</td>\n",
       "      <td>NaN</td>\n",
       "    </tr>\n",
       "    <tr>\n",
       "      <th>2018-09-20</th>\n",
       "      <td>0</td>\n",
       "      <td>9.901088</td>\n",
       "    </tr>\n",
       "    <tr>\n",
       "      <th>2018-09-19</th>\n",
       "      <td>0</td>\n",
       "      <td>NaN</td>\n",
       "    </tr>\n",
       "    <tr>\n",
       "      <th>2018-09-18</th>\n",
       "      <td>0</td>\n",
       "      <td>4.400408</td>\n",
       "    </tr>\n",
       "    <tr>\n",
       "      <th>2018-09-17</th>\n",
       "      <td>0</td>\n",
       "      <td>NaN</td>\n",
       "    </tr>\n",
       "    <tr>\n",
       "      <th>2018-09-16</th>\n",
       "      <td>0</td>\n",
       "      <td>0.677316</td>\n",
       "    </tr>\n",
       "    <tr>\n",
       "      <th>2018-09-15</th>\n",
       "      <td>0</td>\n",
       "      <td>NaN</td>\n",
       "    </tr>\n",
       "    <tr>\n",
       "      <th>2018-09-14</th>\n",
       "      <td>0</td>\n",
       "      <td>2.736416</td>\n",
       "    </tr>\n",
       "    <tr>\n",
       "      <th>2018-09-13</th>\n",
       "      <td>0</td>\n",
       "      <td>NaN</td>\n",
       "    </tr>\n",
       "    <tr>\n",
       "      <th>2018-09-12</th>\n",
       "      <td>0</td>\n",
       "      <td>9.287972</td>\n",
       "    </tr>\n",
       "    <tr>\n",
       "      <th>2018-09-11</th>\n",
       "      <td>0</td>\n",
       "      <td>NaN</td>\n",
       "    </tr>\n",
       "    <tr>\n",
       "      <th>2018-09-10</th>\n",
       "      <td>0</td>\n",
       "      <td>9.305501</td>\n",
       "    </tr>\n",
       "    <tr>\n",
       "      <th>2018-09-09</th>\n",
       "      <td>0</td>\n",
       "      <td>NaN</td>\n",
       "    </tr>\n",
       "  </tbody>\n",
       "</table>\n",
       "</div>"
      ],
      "text/plain": [
       "            Cantidad_completo  Cantidad_original\n",
       "2018-09-28                  0           6.726360\n",
       "2018-09-27                  0                NaN\n",
       "2018-09-26                  0           7.350613\n",
       "2018-09-25                  0                NaN\n",
       "2018-09-24                  0           4.964197\n",
       "2018-09-23                  0                NaN\n",
       "2018-09-22                  0           1.856402\n",
       "2018-09-21                  0                NaN\n",
       "2018-09-20                  0           9.901088\n",
       "2018-09-19                  0                NaN\n",
       "2018-09-18                  0           4.400408\n",
       "2018-09-17                  0                NaN\n",
       "2018-09-16                  0           0.677316\n",
       "2018-09-15                  0                NaN\n",
       "2018-09-14                  0           2.736416\n",
       "2018-09-13                  0                NaN\n",
       "2018-09-12                  0           9.287972\n",
       "2018-09-11                  0                NaN\n",
       "2018-09-10                  0           9.305501\n",
       "2018-09-09                  0                NaN"
      ]
     },
     "execution_count": 242,
     "metadata": {},
     "output_type": "execute_result"
    }
   ],
   "source": [
    "# Hacemos join\n",
    "tempo_ts.join(my_pd_ts,lsuffix = '_completo', rsuffix = '_original')\n",
    "\n"
   ]
  },
  {
   "cell_type": "code",
   "execution_count": 243,
   "metadata": {},
   "outputs": [
    {
     "data": {
      "text/html": [
       "<div>\n",
       "<style scoped>\n",
       "    .dataframe tbody tr th:only-of-type {\n",
       "        vertical-align: middle;\n",
       "    }\n",
       "\n",
       "    .dataframe tbody tr th {\n",
       "        vertical-align: top;\n",
       "    }\n",
       "\n",
       "    .dataframe thead th {\n",
       "        text-align: right;\n",
       "    }\n",
       "</style>\n",
       "<table border=\"1\" class=\"dataframe\">\n",
       "  <thead>\n",
       "    <tr style=\"text-align: right;\">\n",
       "      <th></th>\n",
       "      <th>Cantidad_x</th>\n",
       "      <th>Cantidad_y</th>\n",
       "    </tr>\n",
       "  </thead>\n",
       "  <tbody>\n",
       "    <tr>\n",
       "      <th>2018-09-28</th>\n",
       "      <td>0</td>\n",
       "      <td>6.726360</td>\n",
       "    </tr>\n",
       "    <tr>\n",
       "      <th>2018-09-27</th>\n",
       "      <td>0</td>\n",
       "      <td>NaN</td>\n",
       "    </tr>\n",
       "    <tr>\n",
       "      <th>2018-09-26</th>\n",
       "      <td>0</td>\n",
       "      <td>7.350613</td>\n",
       "    </tr>\n",
       "    <tr>\n",
       "      <th>2018-09-25</th>\n",
       "      <td>0</td>\n",
       "      <td>NaN</td>\n",
       "    </tr>\n",
       "    <tr>\n",
       "      <th>2018-09-24</th>\n",
       "      <td>0</td>\n",
       "      <td>4.964197</td>\n",
       "    </tr>\n",
       "    <tr>\n",
       "      <th>2018-09-23</th>\n",
       "      <td>0</td>\n",
       "      <td>NaN</td>\n",
       "    </tr>\n",
       "    <tr>\n",
       "      <th>2018-09-22</th>\n",
       "      <td>0</td>\n",
       "      <td>1.856402</td>\n",
       "    </tr>\n",
       "    <tr>\n",
       "      <th>2018-09-21</th>\n",
       "      <td>0</td>\n",
       "      <td>NaN</td>\n",
       "    </tr>\n",
       "    <tr>\n",
       "      <th>2018-09-20</th>\n",
       "      <td>0</td>\n",
       "      <td>9.901088</td>\n",
       "    </tr>\n",
       "    <tr>\n",
       "      <th>2018-09-19</th>\n",
       "      <td>0</td>\n",
       "      <td>NaN</td>\n",
       "    </tr>\n",
       "    <tr>\n",
       "      <th>2018-09-18</th>\n",
       "      <td>0</td>\n",
       "      <td>4.400408</td>\n",
       "    </tr>\n",
       "    <tr>\n",
       "      <th>2018-09-17</th>\n",
       "      <td>0</td>\n",
       "      <td>NaN</td>\n",
       "    </tr>\n",
       "    <tr>\n",
       "      <th>2018-09-16</th>\n",
       "      <td>0</td>\n",
       "      <td>0.677316</td>\n",
       "    </tr>\n",
       "    <tr>\n",
       "      <th>2018-09-15</th>\n",
       "      <td>0</td>\n",
       "      <td>NaN</td>\n",
       "    </tr>\n",
       "    <tr>\n",
       "      <th>2018-09-14</th>\n",
       "      <td>0</td>\n",
       "      <td>2.736416</td>\n",
       "    </tr>\n",
       "    <tr>\n",
       "      <th>2018-09-13</th>\n",
       "      <td>0</td>\n",
       "      <td>NaN</td>\n",
       "    </tr>\n",
       "    <tr>\n",
       "      <th>2018-09-12</th>\n",
       "      <td>0</td>\n",
       "      <td>9.287972</td>\n",
       "    </tr>\n",
       "    <tr>\n",
       "      <th>2018-09-11</th>\n",
       "      <td>0</td>\n",
       "      <td>NaN</td>\n",
       "    </tr>\n",
       "    <tr>\n",
       "      <th>2018-09-10</th>\n",
       "      <td>0</td>\n",
       "      <td>9.305501</td>\n",
       "    </tr>\n",
       "    <tr>\n",
       "      <th>2018-09-09</th>\n",
       "      <td>0</td>\n",
       "      <td>NaN</td>\n",
       "    </tr>\n",
       "  </tbody>\n",
       "</table>\n",
       "</div>"
      ],
      "text/plain": [
       "            Cantidad_x  Cantidad_y\n",
       "2018-09-28           0    6.726360\n",
       "2018-09-27           0         NaN\n",
       "2018-09-26           0    7.350613\n",
       "2018-09-25           0         NaN\n",
       "2018-09-24           0    4.964197\n",
       "2018-09-23           0         NaN\n",
       "2018-09-22           0    1.856402\n",
       "2018-09-21           0         NaN\n",
       "2018-09-20           0    9.901088\n",
       "2018-09-19           0         NaN\n",
       "2018-09-18           0    4.400408\n",
       "2018-09-17           0         NaN\n",
       "2018-09-16           0    0.677316\n",
       "2018-09-15           0         NaN\n",
       "2018-09-14           0    2.736416\n",
       "2018-09-13           0         NaN\n",
       "2018-09-12           0    9.287972\n",
       "2018-09-11           0         NaN\n",
       "2018-09-10           0    9.305501\n",
       "2018-09-09           0         NaN"
      ]
     },
     "execution_count": 243,
     "metadata": {},
     "output_type": "execute_result"
    }
   ],
   "source": [
    "pd.merge(tempo_ts, my_pd_ts, how = \"left\",left_index = True, right_index = True)\n"
   ]
  },
  {
   "cell_type": "code",
   "execution_count": null,
   "metadata": {},
   "outputs": [],
   "source": []
  },
  {
   "cell_type": "markdown",
   "metadata": {},
   "source": [
    "# Simulacro outliers"
   ]
  },
  {
   "cell_type": "code",
   "execution_count": 225,
   "metadata": {},
   "outputs": [
    {
     "data": {
      "text/plain": [
       "[datetime.datetime(2018, 9, 28, 14, 10, 49, 203021),\n",
       " datetime.datetime(2018, 9, 26, 14, 10, 49, 203021),\n",
       " datetime.datetime(2018, 9, 24, 14, 10, 49, 203021),\n",
       " datetime.datetime(2018, 9, 22, 14, 10, 49, 203021),\n",
       " datetime.datetime(2018, 9, 20, 14, 10, 49, 203021)]"
      ]
     },
     "execution_count": 225,
     "metadata": {},
     "output_type": "execute_result"
    }
   ],
   "source": [
    "dias = 10\n",
    "base = datetime.datetime.today()\n",
    "date_list = [base - datetime.timedelta(days=x) for x in range(0, dias) if x%2 == 0]\n",
    "date_list"
   ]
  },
  {
   "cell_type": "code",
   "execution_count": 226,
   "metadata": {},
   "outputs": [],
   "source": [
    "importes = np.random.random(5)*10\n",
    "fechas = date_list"
   ]
  },
  {
   "cell_type": "code",
   "execution_count": 233,
   "metadata": {},
   "outputs": [
    {
     "data": {
      "text/html": [
       "<div>\n",
       "<style scoped>\n",
       "    .dataframe tbody tr th:only-of-type {\n",
       "        vertical-align: middle;\n",
       "    }\n",
       "\n",
       "    .dataframe tbody tr th {\n",
       "        vertical-align: top;\n",
       "    }\n",
       "\n",
       "    .dataframe thead th {\n",
       "        text-align: right;\n",
       "    }\n",
       "</style>\n",
       "<table border=\"1\" class=\"dataframe\">\n",
       "  <thead>\n",
       "    <tr style=\"text-align: right;\">\n",
       "      <th></th>\n",
       "      <th>Importes</th>\n",
       "    </tr>\n",
       "  </thead>\n",
       "  <tbody>\n",
       "    <tr>\n",
       "      <th>2018-09-28</th>\n",
       "      <td>4.468132</td>\n",
       "    </tr>\n",
       "    <tr>\n",
       "      <th>2018-09-26</th>\n",
       "      <td>1.361555</td>\n",
       "    </tr>\n",
       "    <tr>\n",
       "      <th>2018-09-24</th>\n",
       "      <td>8.439119</td>\n",
       "    </tr>\n",
       "    <tr>\n",
       "      <th>2018-09-22</th>\n",
       "      <td>5.836842</td>\n",
       "    </tr>\n",
       "    <tr>\n",
       "      <th>2018-09-20</th>\n",
       "      <td>1.621609</td>\n",
       "    </tr>\n",
       "  </tbody>\n",
       "</table>\n",
       "</div>"
      ],
      "text/plain": [
       "            Importes\n",
       "2018-09-28  4.468132\n",
       "2018-09-26  1.361555\n",
       "2018-09-24  8.439119\n",
       "2018-09-22  5.836842\n",
       "2018-09-20  1.621609"
      ]
     },
     "execution_count": 233,
     "metadata": {},
     "output_type": "execute_result"
    }
   ],
   "source": [
    "data = pd.DataFrame({\"Importes\": importes}, index = pd.Series(map(datetime.datetime.date, fechas), dtype = 'object'), )\n",
    "data"
   ]
  },
  {
   "cell_type": "code",
   "execution_count": 236,
   "metadata": {},
   "outputs": [
    {
     "data": {
      "text/html": [
       "<div>\n",
       "<style scoped>\n",
       "    .dataframe tbody tr th:only-of-type {\n",
       "        vertical-align: middle;\n",
       "    }\n",
       "\n",
       "    .dataframe tbody tr th {\n",
       "        vertical-align: top;\n",
       "    }\n",
       "\n",
       "    .dataframe thead th {\n",
       "        text-align: right;\n",
       "    }\n",
       "</style>\n",
       "<table border=\"1\" class=\"dataframe\">\n",
       "  <thead>\n",
       "    <tr style=\"text-align: right;\">\n",
       "      <th></th>\n",
       "    </tr>\n",
       "  </thead>\n",
       "  <tbody>\n",
       "    <tr>\n",
       "      <th>2018-09-28</th>\n",
       "    </tr>\n",
       "    <tr>\n",
       "      <th>2018-09-27</th>\n",
       "    </tr>\n",
       "    <tr>\n",
       "      <th>2018-09-26</th>\n",
       "    </tr>\n",
       "    <tr>\n",
       "      <th>2018-09-25</th>\n",
       "    </tr>\n",
       "    <tr>\n",
       "      <th>2018-09-24</th>\n",
       "    </tr>\n",
       "    <tr>\n",
       "      <th>2018-09-23</th>\n",
       "    </tr>\n",
       "    <tr>\n",
       "      <th>2018-09-22</th>\n",
       "    </tr>\n",
       "    <tr>\n",
       "      <th>2018-09-21</th>\n",
       "    </tr>\n",
       "    <tr>\n",
       "      <th>2018-09-20</th>\n",
       "    </tr>\n",
       "    <tr>\n",
       "      <th>2018-09-19</th>\n",
       "    </tr>\n",
       "  </tbody>\n",
       "</table>\n",
       "</div>"
      ],
      "text/plain": [
       "Empty DataFrame\n",
       "Columns: []\n",
       "Index: [2018-09-28, 2018-09-27, 2018-09-26, 2018-09-25, 2018-09-24, 2018-09-23, 2018-09-22, 2018-09-21, 2018-09-20, 2018-09-19]"
      ]
     },
     "execution_count": 236,
     "metadata": {},
     "output_type": "execute_result"
    }
   ],
   "source": [
    "base1 = datetime.date.today()\n",
    "date_list1 = [base1 - datetime.timedelta(days=x) for x in range(0, dias)]\n",
    "complete_data = pd.DataFrame(index = date_list1)\n",
    "complete_data"
   ]
  },
  {
   "cell_type": "code",
   "execution_count": 240,
   "metadata": {
    "collapsed": true
   },
   "outputs": [
    {
     "data": {
      "text/html": [
       "<div>\n",
       "<style scoped>\n",
       "    .dataframe tbody tr th:only-of-type {\n",
       "        vertical-align: middle;\n",
       "    }\n",
       "\n",
       "    .dataframe tbody tr th {\n",
       "        vertical-align: top;\n",
       "    }\n",
       "\n",
       "    .dataframe thead th {\n",
       "        text-align: right;\n",
       "    }\n",
       "</style>\n",
       "<table border=\"1\" class=\"dataframe\">\n",
       "  <thead>\n",
       "    <tr style=\"text-align: right;\">\n",
       "      <th></th>\n",
       "      <th>Importes</th>\n",
       "    </tr>\n",
       "  </thead>\n",
       "  <tbody>\n",
       "    <tr>\n",
       "      <th>2018-09-28</th>\n",
       "      <td>4.468132</td>\n",
       "    </tr>\n",
       "    <tr>\n",
       "      <th>2018-09-27</th>\n",
       "      <td>NaN</td>\n",
       "    </tr>\n",
       "    <tr>\n",
       "      <th>2018-09-26</th>\n",
       "      <td>1.361555</td>\n",
       "    </tr>\n",
       "    <tr>\n",
       "      <th>2018-09-25</th>\n",
       "      <td>NaN</td>\n",
       "    </tr>\n",
       "    <tr>\n",
       "      <th>2018-09-24</th>\n",
       "      <td>8.439119</td>\n",
       "    </tr>\n",
       "    <tr>\n",
       "      <th>2018-09-23</th>\n",
       "      <td>NaN</td>\n",
       "    </tr>\n",
       "    <tr>\n",
       "      <th>2018-09-22</th>\n",
       "      <td>5.836842</td>\n",
       "    </tr>\n",
       "    <tr>\n",
       "      <th>2018-09-21</th>\n",
       "      <td>NaN</td>\n",
       "    </tr>\n",
       "    <tr>\n",
       "      <th>2018-09-20</th>\n",
       "      <td>1.621609</td>\n",
       "    </tr>\n",
       "    <tr>\n",
       "      <th>2018-09-19</th>\n",
       "      <td>NaN</td>\n",
       "    </tr>\n",
       "  </tbody>\n",
       "</table>\n",
       "</div>"
      ],
      "text/plain": [
       "            Importes\n",
       "2018-09-28  4.468132\n",
       "2018-09-27       NaN\n",
       "2018-09-26  1.361555\n",
       "2018-09-25       NaN\n",
       "2018-09-24  8.439119\n",
       "2018-09-23       NaN\n",
       "2018-09-22  5.836842\n",
       "2018-09-21       NaN\n",
       "2018-09-20  1.621609\n",
       "2018-09-19       NaN"
      ]
     },
     "execution_count": 240,
     "metadata": {},
     "output_type": "execute_result"
    }
   ],
   "source": [
    "complete = complete_data.join(data)\n",
    "complete"
   ]
  },
  {
   "cell_type": "code",
   "execution_count": 244,
   "metadata": {},
   "outputs": [
    {
     "data": {
      "text/html": [
       "<div>\n",
       "<style scoped>\n",
       "    .dataframe tbody tr th:only-of-type {\n",
       "        vertical-align: middle;\n",
       "    }\n",
       "\n",
       "    .dataframe tbody tr th {\n",
       "        vertical-align: top;\n",
       "    }\n",
       "\n",
       "    .dataframe thead th {\n",
       "        text-align: right;\n",
       "    }\n",
       "</style>\n",
       "<table border=\"1\" class=\"dataframe\">\n",
       "  <thead>\n",
       "    <tr style=\"text-align: right;\">\n",
       "      <th></th>\n",
       "      <th>Importes</th>\n",
       "    </tr>\n",
       "  </thead>\n",
       "  <tbody>\n",
       "    <tr>\n",
       "      <th>2018-09-28</th>\n",
       "      <td>4.468132</td>\n",
       "    </tr>\n",
       "    <tr>\n",
       "      <th>2018-09-27</th>\n",
       "      <td>NaN</td>\n",
       "    </tr>\n",
       "    <tr>\n",
       "      <th>2018-09-26</th>\n",
       "      <td>1.361555</td>\n",
       "    </tr>\n",
       "    <tr>\n",
       "      <th>2018-09-25</th>\n",
       "      <td>NaN</td>\n",
       "    </tr>\n",
       "    <tr>\n",
       "      <th>2018-09-24</th>\n",
       "      <td>8.439119</td>\n",
       "    </tr>\n",
       "    <tr>\n",
       "      <th>2018-09-23</th>\n",
       "      <td>NaN</td>\n",
       "    </tr>\n",
       "    <tr>\n",
       "      <th>2018-09-22</th>\n",
       "      <td>5.836842</td>\n",
       "    </tr>\n",
       "    <tr>\n",
       "      <th>2018-09-21</th>\n",
       "      <td>NaN</td>\n",
       "    </tr>\n",
       "    <tr>\n",
       "      <th>2018-09-20</th>\n",
       "      <td>1.621609</td>\n",
       "    </tr>\n",
       "    <tr>\n",
       "      <th>2018-09-19</th>\n",
       "      <td>NaN</td>\n",
       "    </tr>\n",
       "  </tbody>\n",
       "</table>\n",
       "</div>"
      ],
      "text/plain": [
       "            Importes\n",
       "2018-09-28  4.468132\n",
       "2018-09-27       NaN\n",
       "2018-09-26  1.361555\n",
       "2018-09-25       NaN\n",
       "2018-09-24  8.439119\n",
       "2018-09-23       NaN\n",
       "2018-09-22  5.836842\n",
       "2018-09-21       NaN\n",
       "2018-09-20  1.621609\n",
       "2018-09-19       NaN"
      ]
     },
     "execution_count": 244,
     "metadata": {},
     "output_type": "execute_result"
    }
   ],
   "source": [
    "complete_2 = pd.merge(complete_data, data, how = \"left\",left_index = True, right_index = True)\n",
    "complete_2"
   ]
  },
  {
   "cell_type": "code",
   "execution_count": null,
   "metadata": {},
   "outputs": [],
   "source": []
  }
 ],
 "metadata": {
  "kernelspec": {
   "display_name": "Python 3",
   "language": "python",
   "name": "python3"
  },
  "language_info": {
   "codemirror_mode": {
    "name": "ipython",
    "version": 3
   },
   "file_extension": ".py",
   "mimetype": "text/x-python",
   "name": "python",
   "nbconvert_exporter": "python",
   "pygments_lexer": "ipython3",
   "version": "3.6.8"
  }
 },
 "nbformat": 4,
 "nbformat_minor": 2
}
