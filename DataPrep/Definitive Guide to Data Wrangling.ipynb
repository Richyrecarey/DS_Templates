{
 "cells": [
  {
   "cell_type": "markdown",
   "metadata": {},
   "source": [
    "# *Definitive Guide to Data Wrangling (dplyr & tidyr)*"
   ]
  },
  {
   "cell_type": "code",
   "execution_count": 1,
   "metadata": {},
   "outputs": [],
   "source": [
    "# <a name=\"introduction\"></a>\n",
    "# <a name=\"slicing\"></a>\n",
    "# [To Some Internal Section](another_notebook.ipynb#section_id2)"
   ]
  },
  {
   "cell_type": "markdown",
   "metadata": {},
   "source": [
    "# Table of contents\n",
    "1. [Introduction](#introduction)\n",
    "1. [Ingesta a Tibble - Dplyr](#ingesta)\n",
    "1. [Reshaping básico - Tidyr](#reshape)\n",
    "1. [Row & Col Subseting - Dplyr](#subset)\n",
    "1. [Group + Summarize - Dplyr](#group)\n",
    "1. [New Variables - Dplyr](#mutate)"
   ]
  },
  {
   "cell_type": "code",
   "execution_count": 2,
   "metadata": {},
   "outputs": [
    {
     "name": "stderr",
     "output_type": "stream",
     "text": [
      "Registered S3 methods overwritten by 'ggplot2':\n",
      "  method         from \n",
      "  [.quosures     rlang\n",
      "  c.quosures     rlang\n",
      "  print.quosures rlang\n",
      "-- Attaching packages --------------------------------------- tidyverse 1.2.1 --\n",
      "v ggplot2 3.1.1     v purrr   0.3.2\n",
      "v tibble  2.1.2     v dplyr   0.8.1\n",
      "v tidyr   0.8.3     v stringr 1.4.0\n",
      "v readr   1.3.1     v forcats 0.4.0\n",
      "-- Conflicts ------------------------------------------ tidyverse_conflicts() --\n",
      "x dplyr::filter() masks stats::filter()\n",
      "x dplyr::lag()    masks stats::lag()\n"
     ]
    }
   ],
   "source": [
    "library(tidyverse)"
   ]
  },
  {
   "cell_type": "markdown",
   "metadata": {},
   "source": [
    "Dplyr y tidyr son los pilares básicos del tidyverse para transformación y manejo de datos.\n",
    "\n",
    "Se puede acceder a la cheat sheet aquí: [Link](https://rstudio.com/wp-content/uploads/2015/02/data-wrangling-cheatsheet.pdf)"
   ]
  },
  {
   "cell_type": "markdown",
   "metadata": {},
   "source": [
    "<a name=\"ingesta\"></a>"
   ]
  },
  {
   "cell_type": "markdown",
   "metadata": {},
   "source": [
    "# 2. Ingesta - Tibble"
   ]
  },
  {
   "cell_type": "code",
   "execution_count": 13,
   "metadata": {},
   "outputs": [
    {
     "name": "stdout",
     "output_type": "stream",
     "text": [
      "Observations: 150\n",
      "Variables: 5\n",
      "$ Sepal.Length <dbl> 5.1, 4.9, 4.7, 4.6, 5.0, 5.4, 4.6, 5.0, 4.4, 4.9, 5.4,...\n",
      "$ Sepal.Width  <dbl> 3.5, 3.0, 3.2, 3.1, 3.6, 3.9, 3.4, 3.4, 2.9, 3.1, 3.7,...\n",
      "$ Petal.Length <dbl> 1.4, 1.4, 1.3, 1.5, 1.4, 1.7, 1.4, 1.5, 1.4, 1.5, 1.5,...\n",
      "$ Petal.Width  <dbl> 0.2, 0.2, 0.2, 0.2, 0.2, 0.4, 0.3, 0.2, 0.2, 0.1, 0.2,...\n",
      "$ Species      <fct> setosa, setosa, setosa, setosa, setosa, setosa, setosa...\n",
      "# A tibble: 150 x 5\n",
      "   Sepal.Length Sepal.Width Petal.Length Petal.Width Species\n",
      "          <dbl>       <dbl>        <dbl>       <dbl> <fct>  \n",
      " 1          5.1         3.5          1.4         0.2 setosa \n",
      " 2          4.9         3            1.4         0.2 setosa \n",
      " 3          4.7         3.2          1.3         0.2 setosa \n",
      " 4          4.6         3.1          1.5         0.2 setosa \n",
      " 5          5           3.6          1.4         0.2 setosa \n",
      " 6          5.4         3.9          1.7         0.4 setosa \n",
      " 7          4.6         3.4          1.4         0.3 setosa \n",
      " 8          5           3.4          1.5         0.2 setosa \n",
      " 9          4.4         2.9          1.4         0.2 setosa \n",
      "10          4.9         3.1          1.5         0.1 setosa \n",
      "# ... with 140 more rows\n"
     ]
    }
   ],
   "source": [
    "# Podríamos ingerir de archivo con read_csv o read_csv2, o:\n",
    "tb = as_tibble(iris)\n",
    "tb %>% \n",
    "    glimpse() %>% \n",
    "    print()"
   ]
  },
  {
   "cell_type": "code",
   "execution_count": 16,
   "metadata": {},
   "outputs": [
    {
     "name": "stdout",
     "output_type": "stream",
     "text": [
      "# A tibble: 150 x 5\n",
      "   Sepal.Length Sepal.Width Petal.Length Petal.Width Species\n",
      "          <dbl>       <dbl>        <dbl>       <dbl> <fct>  \n",
      " 1          5.1         3.5          1.4         0.2 setosa \n",
      " 2          4.9         3            1.4         0.2 setosa \n",
      " 3          4.7         3.2          1.3         0.2 setosa \n",
      " 4          4.6         3.1          1.5         0.2 setosa \n",
      " 5          5           3.6          1.4         0.2 setosa \n",
      " 6          5.4         3.9          1.7         0.4 setosa \n",
      " 7          4.6         3.4          1.4         0.3 setosa \n",
      " 8          5           3.4          1.5         0.2 setosa \n",
      " 9          4.4         2.9          1.4         0.2 setosa \n",
      "10          4.9         3.1          1.5         0.1 setosa \n",
      "# ... with 140 more rows\n"
     ]
    }
   ],
   "source": [
    "print(tb)"
   ]
  },
  {
   "cell_type": "markdown",
   "metadata": {},
   "source": [
    "# 3. Reshaping básico"
   ]
  },
  {
   "cell_type": "markdown",
   "metadata": {},
   "source": [
    "## 3.1. gather()"
   ]
  },
  {
   "cell_type": "code",
   "execution_count": 23,
   "metadata": {},
   "outputs": [
    {
     "name": "stdout",
     "output_type": "stream",
     "text": [
      "# A tibble: 600 x 3\n",
      "   Species Variable     cases\n",
      "   <fct>   <chr>        <dbl>\n",
      " 1 setosa  Sepal.Length   5.1\n",
      " 2 setosa  Sepal.Length   4.9\n",
      " 3 setosa  Sepal.Length   4.7\n",
      " 4 setosa  Sepal.Length   4.6\n",
      " 5 setosa  Sepal.Length   5  \n",
      " 6 setosa  Sepal.Length   5.4\n",
      " 7 setosa  Sepal.Length   4.6\n",
      " 8 setosa  Sepal.Length   5  \n",
      " 9 setosa  Sepal.Length   4.4\n",
      "10 setosa  Sepal.Length   4.9\n",
      "# ... with 590 more rows\n"
     ]
    }
   ],
   "source": [
    "tb %>% \n",
    "    gather(\"Variable\", \"cases\", 1:4) %>% \n",
    "    print()"
   ]
  },
  {
   "cell_type": "code",
   "execution_count": null,
   "metadata": {},
   "outputs": [],
   "source": []
  },
  {
   "cell_type": "code",
   "execution_count": null,
   "metadata": {},
   "outputs": [],
   "source": []
  },
  {
   "cell_type": "markdown",
   "metadata": {},
   "source": [
    "## 3.2. spread()"
   ]
  },
  {
   "cell_type": "markdown",
   "metadata": {},
   "source": [
    "# 4. Basic slicing (rows & cols)"
   ]
  },
  {
   "cell_type": "code",
   "execution_count": null,
   "metadata": {},
   "outputs": [],
   "source": []
  },
  {
   "cell_type": "code",
   "execution_count": null,
   "metadata": {},
   "outputs": [],
   "source": []
  },
  {
   "cell_type": "code",
   "execution_count": null,
   "metadata": {},
   "outputs": [],
   "source": []
  },
  {
   "cell_type": "code",
   "execution_count": null,
   "metadata": {},
   "outputs": [],
   "source": []
  },
  {
   "cell_type": "code",
   "execution_count": null,
   "metadata": {},
   "outputs": [],
   "source": []
  }
 ],
 "metadata": {
  "kernelspec": {
   "display_name": "R",
   "language": "R",
   "name": "ir"
  },
  "language_info": {
   "codemirror_mode": "r",
   "file_extension": ".r",
   "mimetype": "text/x-r-source",
   "name": "R",
   "pygments_lexer": "r",
   "version": "3.6.1"
  }
 },
 "nbformat": 4,
 "nbformat_minor": 2
}
