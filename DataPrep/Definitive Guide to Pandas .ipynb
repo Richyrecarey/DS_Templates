{
 "cells": [
  {
   "cell_type": "markdown",
   "metadata": {},
   "source": [
    "# Guía Definitiva para Pandas"
   ]
  },
  {
   "cell_type": "code",
   "execution_count": 1,
   "metadata": {},
   "outputs": [],
   "source": [
    "# Carga de librerías necesarias\n",
    "\n",
    "import pandas as pd\n",
    "import numpy as np\n",
    "import matplotlib.pyplot as plt\n",
    "import datetime"
   ]
  },
  {
   "cell_type": "markdown",
   "metadata": {},
   "source": [
    "Pandas es una librería de python que añade una funcionalidad que, a diferencia de R, python no trae en su distribución base: los dataframes. Estos son estructuras similares a las encontradas en las tablas de bases de datos relacionales, en donde los datos se almacenan por filas (registros) y columnas (variables). "
   ]
  },
  {
   "cell_type": "code",
   "execution_count": 2,
   "metadata": {},
   "outputs": [
    {
     "data": {
      "text/html": [
       "<div>\n",
       "<style scoped>\n",
       "    .dataframe tbody tr th:only-of-type {\n",
       "        vertical-align: middle;\n",
       "    }\n",
       "\n",
       "    .dataframe tbody tr th {\n",
       "        vertical-align: top;\n",
       "    }\n",
       "\n",
       "    .dataframe thead th {\n",
       "        text-align: right;\n",
       "    }\n",
       "</style>\n",
       "<table border=\"1\" class=\"dataframe\">\n",
       "  <thead>\n",
       "    <tr style=\"text-align: right;\">\n",
       "      <th></th>\n",
       "      <th>first_name</th>\n",
       "      <th>last_name</th>\n",
       "      <th>age</th>\n",
       "      <th>preTestScore</th>\n",
       "      <th>postTestScore</th>\n",
       "      <th>Birthday</th>\n",
       "    </tr>\n",
       "  </thead>\n",
       "  <tbody>\n",
       "    <tr>\n",
       "      <th>0</th>\n",
       "      <td>Jason</td>\n",
       "      <td>Miller</td>\n",
       "      <td>42</td>\n",
       "      <td>4</td>\n",
       "      <td>25</td>\n",
       "      <td>1994-02-19</td>\n",
       "    </tr>\n",
       "    <tr>\n",
       "      <th>1</th>\n",
       "      <td>Molly</td>\n",
       "      <td>Jacobson</td>\n",
       "      <td>52</td>\n",
       "      <td>24</td>\n",
       "      <td>94</td>\n",
       "      <td>1982-02-07</td>\n",
       "    </tr>\n",
       "    <tr>\n",
       "      <th>2</th>\n",
       "      <td>Tina</td>\n",
       "      <td>Ali</td>\n",
       "      <td>36</td>\n",
       "      <td>31</td>\n",
       "      <td>57</td>\n",
       "      <td>1987-09-11</td>\n",
       "    </tr>\n",
       "    <tr>\n",
       "      <th>3</th>\n",
       "      <td>Jake</td>\n",
       "      <td>Milner</td>\n",
       "      <td>24</td>\n",
       "      <td>2</td>\n",
       "      <td>62</td>\n",
       "      <td>1992-08-02</td>\n",
       "    </tr>\n",
       "    <tr>\n",
       "      <th>4</th>\n",
       "      <td>Amy</td>\n",
       "      <td>Cooze</td>\n",
       "      <td>73</td>\n",
       "      <td>3</td>\n",
       "      <td>70</td>\n",
       "      <td>1994-05-04</td>\n",
       "    </tr>\n",
       "    <tr>\n",
       "      <th>5</th>\n",
       "      <td>Richy</td>\n",
       "      <td>Recarey</td>\n",
       "      <td>12</td>\n",
       "      <td>21</td>\n",
       "      <td>21</td>\n",
       "      <td>1992-03-03</td>\n",
       "    </tr>\n",
       "    <tr>\n",
       "      <th>6</th>\n",
       "      <td>Josh</td>\n",
       "      <td>Brown</td>\n",
       "      <td>19</td>\n",
       "      <td>9</td>\n",
       "      <td>10</td>\n",
       "      <td>2000-09-12</td>\n",
       "    </tr>\n",
       "  </tbody>\n",
       "</table>\n",
       "</div>"
      ],
      "text/plain": [
       "  first_name last_name  age  preTestScore  postTestScore    Birthday\n",
       "0      Jason    Miller   42             4             25  1994-02-19\n",
       "1      Molly  Jacobson   52            24             94  1982-02-07\n",
       "2       Tina       Ali   36            31             57  1987-09-11\n",
       "3       Jake    Milner   24             2             62  1992-08-02\n",
       "4        Amy     Cooze   73             3             70  1994-05-04\n",
       "5      Richy   Recarey   12            21             21  1992-03-03\n",
       "6       Josh     Brown   19             9             10  2000-09-12"
      ]
     },
     "execution_count": 2,
     "metadata": {},
     "output_type": "execute_result"
    }
   ],
   "source": [
    "# Creacion de datos desde un dictionary\n",
    "raw_data = {'first_name': ['Jason', 'Molly', 'Tina', 'Jake', 'Amy', 'Richy', 'Josh'], \n",
    "        'last_name': ['Miller', 'Jacobson', 'Ali', 'Milner', 'Cooze', 'Recarey','Brown'], \n",
    "        'age': [42, 52, 36, 24, 73,12,19], \n",
    "        'preTestScore': [4, 24, 31, 2, 3,21,9],\n",
    "        'postTestScore': [25, 94, 57, 62, 70,21,10],\n",
    "        'Birthday':['1994-02-19','1982-02-07','1987-09-11','1992-08-02','1994-05-04', '1992-03-03','2000-09-12']}\n",
    "\n",
    "# La creacion es directa, con los nombres de la columna inferido\n",
    "# Ambas versiones son correctas\n",
    "df = pd.DataFrame(raw_data, columns = ['first_name', 'last_name', 'age', 'preTestScore', 'postTestScore', 'Birthday'])\n",
    "df = pd.DataFrame(raw_data)\n",
    "df"
   ]
  },
  {
   "cell_type": "markdown",
   "metadata": {},
   "source": [
    "### Comandos básicos de información sobre el DataFrame"
   ]
  },
  {
   "cell_type": "code",
   "execution_count": 44,
   "metadata": {},
   "outputs": [
    {
     "name": "stdout",
     "output_type": "stream",
     "text": [
      "(7, 7)\n",
      "Index(['first_name', 'last_name', 'age', 'preTestScore', 'postTestScore',\n",
      "       'Birthday', 'Team'],\n",
      "      dtype='object')\n"
     ]
    }
   ],
   "source": [
    "# Forma\n",
    "print(df.shape)\n",
    "\n",
    "# Nombre de las columnas\n",
    "print(df.columns)"
   ]
  },
  {
   "cell_type": "code",
   "execution_count": 4,
   "metadata": {},
   "outputs": [
    {
     "name": "stdout",
     "output_type": "stream",
     "text": [
      "int64\n",
      "object\n",
      "int64\n",
      "datetime64[ns]\n"
     ]
    }
   ],
   "source": [
    "# Tipos de las columnas\n",
    "print(df.age.dtype)\n",
    "print(df.Birthday.dtype)\n",
    "\n",
    "df.Birthday = pd.to_datetime(df.Birthday, format = '%Y-%m-%d')\n",
    "\n",
    "print(df.age.dtype)\n",
    "print(df.Birthday.dtype)"
   ]
  },
  {
   "cell_type": "code",
   "execution_count": 5,
   "metadata": {},
   "outputs": [
    {
     "data": {
      "text/html": [
       "<div>\n",
       "<style scoped>\n",
       "    .dataframe tbody tr th:only-of-type {\n",
       "        vertical-align: middle;\n",
       "    }\n",
       "\n",
       "    .dataframe tbody tr th {\n",
       "        vertical-align: top;\n",
       "    }\n",
       "\n",
       "    .dataframe thead th {\n",
       "        text-align: right;\n",
       "    }\n",
       "</style>\n",
       "<table border=\"1\" class=\"dataframe\">\n",
       "  <thead>\n",
       "    <tr style=\"text-align: right;\">\n",
       "      <th></th>\n",
       "      <th>0</th>\n",
       "      <th>1</th>\n",
       "      <th>2</th>\n",
       "      <th>3</th>\n",
       "      <th>4</th>\n",
       "      <th>5</th>\n",
       "      <th>6</th>\n",
       "    </tr>\n",
       "  </thead>\n",
       "  <tbody>\n",
       "    <tr>\n",
       "      <th>first_name</th>\n",
       "      <td>Jason</td>\n",
       "      <td>Molly</td>\n",
       "      <td>Tina</td>\n",
       "      <td>Jake</td>\n",
       "      <td>Amy</td>\n",
       "      <td>Richy</td>\n",
       "      <td>Josh</td>\n",
       "    </tr>\n",
       "    <tr>\n",
       "      <th>last_name</th>\n",
       "      <td>Miller</td>\n",
       "      <td>Jacobson</td>\n",
       "      <td>Ali</td>\n",
       "      <td>Milner</td>\n",
       "      <td>Cooze</td>\n",
       "      <td>Recarey</td>\n",
       "      <td>Brown</td>\n",
       "    </tr>\n",
       "    <tr>\n",
       "      <th>age</th>\n",
       "      <td>42</td>\n",
       "      <td>52</td>\n",
       "      <td>36</td>\n",
       "      <td>24</td>\n",
       "      <td>73</td>\n",
       "      <td>12</td>\n",
       "      <td>19</td>\n",
       "    </tr>\n",
       "    <tr>\n",
       "      <th>preTestScore</th>\n",
       "      <td>4</td>\n",
       "      <td>24</td>\n",
       "      <td>31</td>\n",
       "      <td>2</td>\n",
       "      <td>3</td>\n",
       "      <td>21</td>\n",
       "      <td>9</td>\n",
       "    </tr>\n",
       "    <tr>\n",
       "      <th>postTestScore</th>\n",
       "      <td>25</td>\n",
       "      <td>94</td>\n",
       "      <td>57</td>\n",
       "      <td>62</td>\n",
       "      <td>70</td>\n",
       "      <td>21</td>\n",
       "      <td>10</td>\n",
       "    </tr>\n",
       "    <tr>\n",
       "      <th>Birthday</th>\n",
       "      <td>1994-02-19 00:00:00</td>\n",
       "      <td>1982-02-07 00:00:00</td>\n",
       "      <td>1987-09-11 00:00:00</td>\n",
       "      <td>1992-08-02 00:00:00</td>\n",
       "      <td>1994-05-04 00:00:00</td>\n",
       "      <td>1992-03-03 00:00:00</td>\n",
       "      <td>2000-09-12 00:00:00</td>\n",
       "    </tr>\n",
       "  </tbody>\n",
       "</table>\n",
       "</div>"
      ],
      "text/plain": [
       "                                 0                    1                    2  \\\n",
       "first_name                   Jason                Molly                 Tina   \n",
       "last_name                   Miller             Jacobson                  Ali   \n",
       "age                             42                   52                   36   \n",
       "preTestScore                     4                   24                   31   \n",
       "postTestScore                   25                   94                   57   \n",
       "Birthday       1994-02-19 00:00:00  1982-02-07 00:00:00  1987-09-11 00:00:00   \n",
       "\n",
       "                                 3                    4                    5  \\\n",
       "first_name                    Jake                  Amy                Richy   \n",
       "last_name                   Milner                Cooze              Recarey   \n",
       "age                             24                   73                   12   \n",
       "preTestScore                     2                    3                   21   \n",
       "postTestScore                   62                   70                   21   \n",
       "Birthday       1992-08-02 00:00:00  1994-05-04 00:00:00  1992-03-03 00:00:00   \n",
       "\n",
       "                                 6  \n",
       "first_name                    Josh  \n",
       "last_name                    Brown  \n",
       "age                             19  \n",
       "preTestScore                     9  \n",
       "postTestScore                   10  \n",
       "Birthday       2000-09-12 00:00:00  "
      ]
     },
     "execution_count": 5,
     "metadata": {},
     "output_type": "execute_result"
    }
   ],
   "source": [
    "# Transponer\n",
    "df.T"
   ]
  },
  {
   "cell_type": "code",
   "execution_count": 6,
   "metadata": {},
   "outputs": [
    {
     "name": "stdout",
     "output_type": "stream",
     "text": [
      "[['Jason' 'Miller' 42 4 25 Timestamp('1994-02-19 00:00:00')]\n",
      " ['Molly' 'Jacobson' 52 24 94 Timestamp('1982-02-07 00:00:00')]\n",
      " ['Tina' 'Ali' 36 31 57 Timestamp('1987-09-11 00:00:00')]\n",
      " ['Jake' 'Milner' 24 2 62 Timestamp('1992-08-02 00:00:00')]\n",
      " ['Amy' 'Cooze' 73 3 70 Timestamp('1994-05-04 00:00:00')]\n",
      " ['Richy' 'Recarey' 12 21 21 Timestamp('1992-03-03 00:00:00')]\n",
      " ['Josh' 'Brown' 19 9 10 Timestamp('2000-09-12 00:00:00')]] \n",
      "\n",
      "\n",
      "<class 'numpy.ndarray'>\n"
     ]
    }
   ],
   "source": [
    "# Obtenemos un array de arrays, donde cada array va una FILA!\n",
    "print(df.values, '\\n\\n')\n",
    "print(type(df.values))"
   ]
  },
  {
   "cell_type": "markdown",
   "metadata": {},
   "source": [
    "## Slicing básico"
   ]
  },
  {
   "cell_type": "code",
   "execution_count": 7,
   "metadata": {},
   "outputs": [
    {
     "name": "stdout",
     "output_type": "stream",
     "text": [
      "0    Jason\n",
      "1    Molly\n",
      "2     Tina\n",
      "3     Jake\n",
      "4      Amy\n",
      "5    Richy\n",
      "6     Josh\n",
      "Name: first_name, dtype: object\n",
      "<class 'pandas.core.series.Series'>\n",
      "object\n"
     ]
    }
   ],
   "source": [
    "# Acceder a unha columna:\n",
    "## Los datos en si mismos:\n",
    "print(df.first_name)\n",
    "\n",
    "## Que tipo de datos nos dió dicho slice:\n",
    "print(type(df.first_name))\n",
    "\n",
    "print(df.first_name.dtype)"
   ]
  },
  {
   "cell_type": "code",
   "execution_count": 8,
   "metadata": {},
   "outputs": [
    {
     "name": "stdout",
     "output_type": "stream",
     "text": [
      "0    42\n",
      "1    52\n",
      "2    36\n",
      "3    24\n",
      "4    73\n",
      "5    12\n",
      "6    19\n",
      "Name: age, dtype: int64\n",
      "<class 'pandas.core.series.Series'>\n"
     ]
    }
   ],
   "source": [
    "# Acceder a unha columna:\n",
    "## Los datos en si mismos:\n",
    "print(df.age)\n",
    "\n",
    "## Que tipo de datos nos dió dicho slice:\n",
    "print(type(df.age))\n",
    "\n"
   ]
  },
  {
   "cell_type": "markdown",
   "metadata": {},
   "source": [
    "### Slicing básico, estilo R"
   ]
  },
  {
   "cell_type": "markdown",
   "metadata": {},
   "source": [
    "Coge filas por defecto, y por posición como en R."
   ]
  },
  {
   "cell_type": "code",
   "execution_count": 52,
   "metadata": {},
   "outputs": [
    {
     "name": "stdout",
     "output_type": "stream",
     "text": [
      "  first_name last_name  age  preTestScore  postTestScore   Birthday  Team\n",
      "4       Tina       Ali   36            31             57 1987-09-11     1\n",
      "5       Jake    Milner   24             2             62 1992-08-02     1\n",
      "2        Amy     Cooze   73             3             70 1994-05-04     0\n",
      "3      Richy   Recarey   12            21             21 1992-03-03     1\n",
      "6       Josh     Brown   19             9             10 2000-09-12     1 \n",
      "\n",
      "\n",
      "  first_name last_name  age  preTestScore  postTestScore   Birthday  Team\n",
      "1      Jason    Miller   42             4             25 1994-02-19     0\n",
      "0      Molly  Jacobson   52            24             94 1982-02-07     0\n",
      "4       Tina       Ali   36            31             57 1987-09-11     1\n",
      "5       Jake    Milner   24             2             62 1992-08-02     1\n",
      "2        Amy     Cooze   73             3             70 1994-05-04     0 \n",
      "\n",
      "\n",
      "  first_name last_name  age  preTestScore  postTestScore   Birthday  Team\n",
      "0      Molly  Jacobson   52            24             94 1982-02-07     0 \n",
      "\n",
      "\n",
      "  last_name  age  preTestScore\n",
      "4       Ali   36            31\n",
      "5    Milner   24             2\n",
      "2     Cooze   73             3\n",
      "3   Recarey   12            21\n",
      "6     Brown   19             9 \n",
      "\n",
      "\n",
      "<class 'pandas.core.series.Series'> \n",
      "\n",
      "  first_name last_name  age  preTestScore  postTestScore   Birthday  Team\n",
      "1      Jason    Miller   42             4             25 1994-02-19     0\n",
      "2        Amy     Cooze   73             3             70 1994-05-04     0\n",
      "5       Jake    Milner   24             2             62 1992-08-02     1\n"
     ]
    }
   ],
   "source": [
    "# De la segunda fila, incluido, al final\n",
    "print(df[2:],'\\n\\n')\n",
    "\n",
    "# Del principio hasta la 5ª, sin incluir\n",
    "print(df[:5], '\\n\\n')\n",
    "\n",
    "# Solo una file\n",
    "print(df[1:2],'\\n\\n')\n",
    "\n",
    "# Serie horizontal, por fila, y por posición de columna tambien\n",
    "print(df.iloc[2:, 1:4],'\\n\\n')\n",
    "\n",
    "\n",
    "print(type(df.iloc[1]), \"\\n\")\n",
    "\n",
    "# Si la queremos por etiqueta en vez de posición\n",
    "print(df.loc[[1,2,5]])"
   ]
  },
  {
   "cell_type": "code",
   "execution_count": 10,
   "metadata": {},
   "outputs": [
    {
     "data": {
      "text/plain": [
       "1    Molly\n",
       "2     Tina\n",
       "Name: first_name, dtype: object"
      ]
     },
     "execution_count": 10,
     "metadata": {},
     "output_type": "execute_result"
    }
   ],
   "source": [
    "# Accediendo a una Serie por un indice normal\n",
    "df.first_name[1:3]"
   ]
  },
  {
   "cell_type": "code",
   "execution_count": 11,
   "metadata": {},
   "outputs": [
    {
     "data": {
      "text/plain": [
       "0    42\n",
       "2    36\n",
       "4    73\n",
       "6    19\n",
       "Name: age, dtype: int64"
      ]
     },
     "execution_count": 11,
     "metadata": {},
     "output_type": "execute_result"
    }
   ],
   "source": [
    "# Indexamos cada 2!\n",
    "df.age[::2]"
   ]
  },
  {
   "cell_type": "markdown",
   "metadata": {},
   "source": [
    "### More advanced slicing:"
   ]
  },
  {
   "cell_type": "markdown",
   "metadata": {},
   "source": [
    "- Slicing normal va por posición, y filtra por toda la fila. Una vez hecho, se pueden coger determinadas columnas a mano.\n",
    "- Con .loc se permiten boleans, o etiquetas\n",
    "- Con .iloc NO se permiten boleans, y va por posición\n"
   ]
  },
  {
   "cell_type": "code",
   "execution_count": 12,
   "metadata": {},
   "outputs": [
    {
     "name": "stdout",
     "output_type": "stream",
     "text": [
      "  first_name last_name  age  preTestScore  postTestScore   Birthday\n",
      "6       Josh     Brown   19             9             10 2000-09-12 \n",
      "\n",
      "\n",
      "  first_name last_name  age  preTestScore  postTestScore   Birthday\n",
      "0      Jason    Miller   42             4             25 1994-02-19\n",
      "1      Molly  Jacobson   52            24             94 1982-02-07\n",
      "2       Tina       Ali   36            31             57 1987-09-11\n",
      "3       Jake    Milner   24             2             62 1992-08-02\n",
      "4        Amy     Cooze   73             3             70 1994-05-04\n"
     ]
    }
   ],
   "source": [
    "print(df[df.age == 19], '\\n\\n')\n",
    "\n",
    "#Se utiliza el operador bitewise \"&\" en pandas!\n",
    "print(df[(df.age > 19) & (df.postTestScore > 10)])"
   ]
  },
  {
   "cell_type": "markdown",
   "metadata": {},
   "source": [
    "### Esto sería lo mismo"
   ]
  },
  {
   "cell_type": "code",
   "execution_count": 53,
   "metadata": {},
   "outputs": [
    {
     "name": "stdout",
     "output_type": "stream",
     "text": [
      "  first_name last_name  age  preTestScore  postTestScore   Birthday  Team\n",
      "0      Molly  Jacobson   52            24             94 1982-02-07     0\n",
      "4       Tina       Ali   36            31             57 1987-09-11     1\n"
     ]
    },
    {
     "data": {
      "text/html": [
       "<div>\n",
       "<style scoped>\n",
       "    .dataframe tbody tr th:only-of-type {\n",
       "        vertical-align: middle;\n",
       "    }\n",
       "\n",
       "    .dataframe tbody tr th {\n",
       "        vertical-align: top;\n",
       "    }\n",
       "\n",
       "    .dataframe thead th {\n",
       "        text-align: right;\n",
       "    }\n",
       "</style>\n",
       "<table border=\"1\" class=\"dataframe\">\n",
       "  <thead>\n",
       "    <tr style=\"text-align: right;\">\n",
       "      <th></th>\n",
       "      <th>first_name</th>\n",
       "      <th>last_name</th>\n",
       "      <th>age</th>\n",
       "      <th>preTestScore</th>\n",
       "      <th>postTestScore</th>\n",
       "      <th>Birthday</th>\n",
       "      <th>Team</th>\n",
       "    </tr>\n",
       "  </thead>\n",
       "  <tbody>\n",
       "    <tr>\n",
       "      <th>0</th>\n",
       "      <td>Molly</td>\n",
       "      <td>Jacobson</td>\n",
       "      <td>52</td>\n",
       "      <td>24</td>\n",
       "      <td>94</td>\n",
       "      <td>1982-02-07</td>\n",
       "      <td>0</td>\n",
       "    </tr>\n",
       "    <tr>\n",
       "      <th>4</th>\n",
       "      <td>Tina</td>\n",
       "      <td>Ali</td>\n",
       "      <td>36</td>\n",
       "      <td>31</td>\n",
       "      <td>57</td>\n",
       "      <td>1987-09-11</td>\n",
       "      <td>1</td>\n",
       "    </tr>\n",
       "  </tbody>\n",
       "</table>\n",
       "</div>"
      ],
      "text/plain": [
       "  first_name last_name  age  preTestScore  postTestScore   Birthday  Team\n",
       "0      Molly  Jacobson   52            24             94 1982-02-07     0\n",
       "4       Tina       Ali   36            31             57 1987-09-11     1"
      ]
     },
     "execution_count": 53,
     "metadata": {},
     "output_type": "execute_result"
    }
   ],
   "source": [
    "print(df.iloc[1:3,:])\n",
    "df[1:3]"
   ]
  },
  {
   "cell_type": "markdown",
   "metadata": {},
   "source": [
    "### Esto también sería lo mismo, ya que loc permite boleans:"
   ]
  },
  {
   "cell_type": "code",
   "execution_count": 56,
   "metadata": {},
   "outputs": [
    {
     "name": "stdout",
     "output_type": "stream",
     "text": [
      "  first_name last_name  age  preTestScore  postTestScore   Birthday  Team\n",
      "1      Jason    Miller   42             4             25 1994-02-19     0\n",
      "0      Molly  Jacobson   52            24             94 1982-02-07     0\n",
      "2        Amy     Cooze   73             3             70 1994-05-04     0\n"
     ]
    }
   ],
   "source": [
    "print(df[df.age > 40])"
   ]
  },
  {
   "cell_type": "code",
   "execution_count": 58,
   "metadata": {},
   "outputs": [
    {
     "name": "stdout",
     "output_type": "stream",
     "text": [
      "  first_name last_name  age  preTestScore  postTestScore   Birthday  Team\n",
      "1      Jason    Miller   42             4             25 1994-02-19     0\n",
      "0      Molly  Jacobson   52            24             94 1982-02-07     0\n",
      "2        Amy     Cooze   73             3             70 1994-05-04     0\n"
     ]
    }
   ],
   "source": [
    "print(df.loc[df.age > 40,:])"
   ]
  },
  {
   "cell_type": "code",
   "execution_count": 65,
   "metadata": {},
   "outputs": [
    {
     "name": "stdout",
     "output_type": "stream",
     "text": [
      "   age  Team\n",
      "1   42     0\n",
      "0   52     0\n",
      "2   73     0\n"
     ]
    }
   ],
   "source": [
    "# No onstante loc nos permite coger columnas!!\n",
    "print(df.loc[df.age > 40,['age','Team']])"
   ]
  },
  {
   "cell_type": "markdown",
   "metadata": {},
   "source": [
    "### Slicing con %in% bitewise"
   ]
  },
  {
   "cell_type": "code",
   "execution_count": 71,
   "metadata": {},
   "outputs": [
    {
     "name": "stdout",
     "output_type": "stream",
     "text": [
      "1    False\n",
      "0    False\n",
      "4    False\n",
      "5    False\n",
      "2    False\n",
      "3    False\n",
      "6     True\n",
      "Name: age, dtype: bool\n"
     ]
    }
   ],
   "source": [
    "# Pandas permite operaciones del estilo\n",
    "print(df.age == 19)"
   ]
  },
  {
   "cell_type": "code",
   "execution_count": 75,
   "metadata": {},
   "outputs": [
    {
     "ename": "ValueError",
     "evalue": "The truth value of a Series is ambiguous. Use a.empty, a.bool(), a.item(), a.any() or a.all().",
     "output_type": "error",
     "traceback": [
      "\u001b[1;31m---------------------------------------------------------------------------\u001b[0m",
      "\u001b[1;31mValueError\u001b[0m                                Traceback (most recent call last)",
      "\u001b[1;32m<ipython-input-75-7d3219d62ea6>\u001b[0m in \u001b[0;36m<module>\u001b[1;34m()\u001b[0m\n\u001b[0;32m      1\u001b[0m \u001b[1;31m# Pero no del estilo:\u001b[0m\u001b[1;33m\u001b[0m\u001b[1;33m\u001b[0m\u001b[0m\n\u001b[1;32m----> 2\u001b[1;33m \u001b[0mprint\u001b[0m\u001b[1;33m(\u001b[0m\u001b[0mdf\u001b[0m\u001b[1;33m.\u001b[0m\u001b[0mage\u001b[0m \u001b[1;32min\u001b[0m \u001b[1;33m[\u001b[0m\u001b[1;36m18\u001b[0m\u001b[1;33m,\u001b[0m\u001b[1;36m19\u001b[0m\u001b[1;33m,\u001b[0m\u001b[1;36m20\u001b[0m\u001b[1;33m,\u001b[0m\u001b[1;36m21\u001b[0m\u001b[1;33m,\u001b[0m\u001b[1;36m22\u001b[0m\u001b[1;33m,\u001b[0m\u001b[1;36m23\u001b[0m\u001b[1;33m,\u001b[0m\u001b[1;36m24\u001b[0m\u001b[1;33m,\u001b[0m\u001b[1;36m25\u001b[0m\u001b[1;33m]\u001b[0m\u001b[1;33m)\u001b[0m\u001b[1;33m\u001b[0m\u001b[0m\n\u001b[0m",
      "\u001b[1;32m~\\AppData\\Local\\Continuum\\miniconda3\\lib\\site-packages\\pandas\\core\\generic.py\u001b[0m in \u001b[0;36m__nonzero__\u001b[1;34m(self)\u001b[0m\n\u001b[0;32m   1574\u001b[0m         raise ValueError(\"The truth value of a {0} is ambiguous. \"\n\u001b[0;32m   1575\u001b[0m                          \u001b[1;34m\"Use a.empty, a.bool(), a.item(), a.any() or a.all().\"\u001b[0m\u001b[1;33m\u001b[0m\u001b[0m\n\u001b[1;32m-> 1576\u001b[1;33m                          .format(self.__class__.__name__))\n\u001b[0m\u001b[0;32m   1577\u001b[0m \u001b[1;33m\u001b[0m\u001b[0m\n\u001b[0;32m   1578\u001b[0m     \u001b[0m__bool__\u001b[0m \u001b[1;33m=\u001b[0m \u001b[0m__nonzero__\u001b[0m\u001b[1;33m\u001b[0m\u001b[0m\n",
      "\u001b[1;31mValueError\u001b[0m: The truth value of a Series is ambiguous. Use a.empty, a.bool(), a.item(), a.any() or a.all()."
     ]
    }
   ],
   "source": [
    "# Pero no del estilo:\n",
    "print(df.age in [18,19,20,21,22,23,24,25])"
   ]
  },
  {
   "cell_type": "code",
   "execution_count": 76,
   "metadata": {},
   "outputs": [
    {
     "name": "stdout",
     "output_type": "stream",
     "text": [
      "1    False\n",
      "0    False\n",
      "4    False\n",
      "5     True\n",
      "2    False\n",
      "3    False\n",
      "6     True\n",
      "Name: age, dtype: bool\n"
     ]
    }
   ],
   "source": [
    "# Esa se haría de forma:\n",
    "print(df.age.isin([18,19,20,21,22,23,24,25]))"
   ]
  },
  {
   "cell_type": "code",
   "execution_count": null,
   "metadata": {},
   "outputs": [],
   "source": []
  },
  {
   "cell_type": "code",
   "execution_count": null,
   "metadata": {},
   "outputs": [],
   "source": []
  },
  {
   "cell_type": "markdown",
   "metadata": {},
   "source": [
    "##### Información sobre el índice:"
   ]
  },
  {
   "cell_type": "code",
   "execution_count": 14,
   "metadata": {},
   "outputs": [
    {
     "name": "stdout",
     "output_type": "stream",
     "text": [
      "RangeIndex(start=0, stop=7, step=1)\n",
      "<class 'pandas.core.indexes.range.RangeIndex'>\n",
      "Index(['a', 'b', 'c', 'd'], dtype='object')\n",
      "<class 'pandas.core.indexes.base.Index'>\n"
     ]
    }
   ],
   "source": [
    "print(df.index)\n",
    "\n",
    "print(type(df.index))\n",
    "\n",
    "data = pd.Series([0.25, 0.5, 0.75, 1.0], index = ['a', 'b', 'c', 'd'])\n",
    "\n",
    "# Ya no es el por defecto\n",
    "print(data.index)\n",
    "\n",
    "print(type(data.index))"
   ]
  },
  {
   "cell_type": "code",
   "execution_count": 15,
   "metadata": {},
   "outputs": [
    {
     "name": "stdout",
     "output_type": "stream",
     "text": [
      "7 (7,) 1 int64\n"
     ]
    }
   ],
   "source": [
    "# Los objetos de tipo Index son inmutables: Más info sobre ellos:\n",
    "print(df.index.size, df.index.shape, df.index.ndim, df.index.dtype)"
   ]
  },
  {
   "cell_type": "code",
   "execution_count": null,
   "metadata": {},
   "outputs": [],
   "source": []
  },
  {
   "cell_type": "code",
   "execution_count": null,
   "metadata": {},
   "outputs": [],
   "source": []
  },
  {
   "cell_type": "markdown",
   "metadata": {},
   "source": [
    "# iloc vs loc"
   ]
  },
  {
   "cell_type": "code",
   "execution_count": 16,
   "metadata": {},
   "outputs": [
    {
     "name": "stdout",
     "output_type": "stream",
     "text": [
      "  first_name last_name  age  preTestScore  postTestScore   Birthday\n",
      "1      Jason    Miller   42             4             25 1994-02-19\n",
      "0      Molly  Jacobson   52            24             94 1982-02-07\n",
      "4       Tina       Ali   36            31             57 1987-09-11\n",
      "5       Jake    Milner   24             2             62 1992-08-02\n",
      "2        Amy     Cooze   73             3             70 1994-05-04\n",
      "3      Richy   Recarey   12            21             21 1992-03-03\n",
      "6       Josh     Brown   19             9             10 2000-09-12 \n",
      "\n",
      "  first_name last_name  age  preTestScore  postTestScore   Birthday\n",
      "1      Jason    Miller   42             4             25 1994-02-19\n",
      "2        Amy     Cooze   73             3             70 1994-05-04 \n",
      "\n",
      "  first_name last_name  age  preTestScore  postTestScore   Birthday\n",
      "1      Jason    Miller   42             4             25 1994-02-19\n",
      "2        Amy     Cooze   73             3             70 1994-05-04 \n",
      "\n",
      "  first_name last_name  age  preTestScore  postTestScore   Birthday\n",
      "0      Molly  Jacobson   52            24             94 1982-02-07\n",
      "4       Tina       Ali   36            31             57 1987-09-11\n"
     ]
    }
   ],
   "source": [
    "df.index = [1,0,4,5,2,3,6]\n",
    "print(df, \"\\n\")\n",
    "# loc: Etiquetas y booleans por fila: A por Jason\n",
    "print(df.loc[[1,2]], \"\\n\") # Fila con el indice 1 o 2!\n",
    "print(df.loc[(df.index == 1) | (df.index == 2)], \"\\n\") # Igual\n",
    "# Filas con las posicion 1 y 2\n",
    "print(df[1:3])"
   ]
  },
  {
   "cell_type": "code",
   "execution_count": 17,
   "metadata": {},
   "outputs": [
    {
     "name": "stdout",
     "output_type": "stream",
     "text": [
      "first_name                     Molly\n",
      "last_name                   Jacobson\n",
      "age                               52\n",
      "preTestScore                      24\n",
      "postTestScore                     94\n",
      "Birthday         1982-02-07 00:00:00\n",
      "Name: 0, dtype: object\n"
     ]
    }
   ],
   "source": [
    "print(df.iloc[1])"
   ]
  },
  {
   "cell_type": "code",
   "execution_count": 18,
   "metadata": {},
   "outputs": [
    {
     "name": "stdout",
     "output_type": "stream",
     "text": [
      "  first_name last_name  age  preTestScore  postTestScore   Birthday\n",
      "1      Jason    Miller   42             4             25 1994-02-19\n",
      "0      Molly  Jacobson   52            24             94 1982-02-07\n",
      "4       Tina       Ali   36            31             57 1987-09-11\n",
      "5       Jake    Milner   24             2             62 1992-08-02\n",
      "2        Amy     Cooze   73             3             70 1994-05-04\n",
      "3      Richy   Recarey   12            21             21 1992-03-03\n",
      "6       Josh     Brown   19             9             10 2000-09-12 \n",
      "\n",
      "  first_name last_name\n",
      "1      Jason    Miller\n",
      "0      Molly  Jacobson\n",
      "4       Tina       Ali\n"
     ]
    },
    {
     "data": {
      "text/html": [
       "<div>\n",
       "<style scoped>\n",
       "    .dataframe tbody tr th:only-of-type {\n",
       "        vertical-align: middle;\n",
       "    }\n",
       "\n",
       "    .dataframe tbody tr th {\n",
       "        vertical-align: top;\n",
       "    }\n",
       "\n",
       "    .dataframe thead th {\n",
       "        text-align: right;\n",
       "    }\n",
       "</style>\n",
       "<table border=\"1\" class=\"dataframe\">\n",
       "  <thead>\n",
       "    <tr style=\"text-align: right;\">\n",
       "      <th></th>\n",
       "      <th>first_name</th>\n",
       "      <th>last_name</th>\n",
       "    </tr>\n",
       "  </thead>\n",
       "  <tbody>\n",
       "    <tr>\n",
       "      <th>0</th>\n",
       "      <td>Molly</td>\n",
       "      <td>Jacobson</td>\n",
       "    </tr>\n",
       "    <tr>\n",
       "      <th>4</th>\n",
       "      <td>Tina</td>\n",
       "      <td>Ali</td>\n",
       "    </tr>\n",
       "    <tr>\n",
       "      <th>5</th>\n",
       "      <td>Jake</td>\n",
       "      <td>Milner</td>\n",
       "    </tr>\n",
       "    <tr>\n",
       "      <th>2</th>\n",
       "      <td>Amy</td>\n",
       "      <td>Cooze</td>\n",
       "    </tr>\n",
       "    <tr>\n",
       "      <th>3</th>\n",
       "      <td>Richy</td>\n",
       "      <td>Recarey</td>\n",
       "    </tr>\n",
       "  </tbody>\n",
       "</table>\n",
       "</div>"
      ],
      "text/plain": [
       "  first_name last_name\n",
       "0      Molly  Jacobson\n",
       "4       Tina       Ali\n",
       "5       Jake    Milner\n",
       "2        Amy     Cooze\n",
       "3      Richy   Recarey"
      ]
     },
     "execution_count": 18,
     "metadata": {},
     "output_type": "execute_result"
    }
   ],
   "source": [
    "print(df, '\\n')\n",
    "print(df.iloc[0:3, 0:2])\n",
    "df.loc[0:3, ['first_name', 'last_name']]"
   ]
  },
  {
   "cell_type": "code",
   "execution_count": 19,
   "metadata": {},
   "outputs": [
    {
     "name": "stdout",
     "output_type": "stream",
     "text": [
      "first_name                      Tina\n",
      "last_name                        Ali\n",
      "age                               36\n",
      "preTestScore                      31\n",
      "postTestScore                     57\n",
      "Birthday         1987-09-11 00:00:00\n",
      "Name: 4, dtype: object\n"
     ]
    },
    {
     "data": {
      "text/plain": [
       "1    42\n",
       "Name: age, dtype: int64"
      ]
     },
     "execution_count": 19,
     "metadata": {},
     "output_type": "execute_result"
    }
   ],
   "source": [
    "print(df.iloc[2])\n",
    "df.loc[df.age == 42, 'age']\n"
   ]
  },
  {
   "cell_type": "code",
   "execution_count": 20,
   "metadata": {},
   "outputs": [
    {
     "name": "stdout",
     "output_type": "stream",
     "text": [
      "  first_name last_name  age  preTestScore  postTestScore   Birthday\n",
      "1      Jason    Miller   42             4             25 1994-02-19\n",
      "0      Molly  Jacobson   52            24             94 1982-02-07\n",
      "4       Tina       Ali   36            31             57 1987-09-11\n",
      "5       Jake    Milner   24             2             62 1992-08-02\n"
     ]
    }
   ],
   "source": [
    "# Booleans en columnas con loc\n",
    "print(df.loc[1:5,:]) # Todas las columnas entre la etiqueta 1 y 5\n",
    "# queremos las columnas tal que age es 24"
   ]
  },
  {
   "cell_type": "code",
   "execution_count": 21,
   "metadata": {},
   "outputs": [
    {
     "name": "stdout",
     "output_type": "stream",
     "text": [
      "1    a\n",
      "5    b\n",
      "3    c\n",
      "dtype: object\n"
     ]
    }
   ],
   "source": [
    "data = pd.Series(['a', 'b', 'c'], index=[1, 5, 3])\n",
    "print(data)"
   ]
  },
  {
   "cell_type": "code",
   "execution_count": 22,
   "metadata": {},
   "outputs": [
    {
     "name": "stdout",
     "output_type": "stream",
     "text": [
      "a\n"
     ]
    }
   ],
   "source": [
    "# Slicing por indice\n",
    "print(data[1])"
   ]
  },
  {
   "cell_type": "code",
   "execution_count": 23,
   "metadata": {},
   "outputs": [
    {
     "name": "stdout",
     "output_type": "stream",
     "text": [
      "a\n",
      "a\n"
     ]
    }
   ],
   "source": [
    "# loc permite indexar mediante índice normal\n",
    "print(data.loc[1])\n",
    "print(data.loc[1])"
   ]
  },
  {
   "cell_type": "code",
   "execution_count": 24,
   "metadata": {},
   "outputs": [
    {
     "name": "stdout",
     "output_type": "stream",
     "text": [
      "a\n"
     ]
    }
   ],
   "source": [
    "# iloc permite indexar de manera convencional\n",
    "print(data.iloc[0])"
   ]
  },
  {
   "cell_type": "code",
   "execution_count": 25,
   "metadata": {},
   "outputs": [
    {
     "name": "stdout",
     "output_type": "stream",
     "text": [
      "1    a\n",
      "dtype: object\n",
      "1    a\n",
      "dtype: object\n",
      "1     True\n",
      "5    False\n",
      "3    False\n",
      "dtype: bool\n"
     ]
    }
   ],
   "source": [
    "print(data.loc[data == 'a'])\n",
    "print(data[data == 'a'])\n",
    "print(data == 'a')"
   ]
  },
  {
   "cell_type": "markdown",
   "metadata": {},
   "source": [
    "##### iloc permite slicing como el de R, con loc hai que ser congruente"
   ]
  },
  {
   "cell_type": "code",
   "execution_count": 26,
   "metadata": {},
   "outputs": [
    {
     "name": "stdout",
     "output_type": "stream",
     "text": [
      "42\n",
      "52\n"
     ]
    }
   ],
   "source": [
    "print(df.loc[1,'age'])\n",
    "# print(df[1,'age']) # ERROR!\n",
    "print(df.iloc[1,2])"
   ]
  },
  {
   "cell_type": "code",
   "execution_count": 27,
   "metadata": {},
   "outputs": [
    {
     "data": {
      "text/plain": [
       "0    52\n",
       "Name: age, dtype: int64"
      ]
     },
     "execution_count": 27,
     "metadata": {},
     "output_type": "execute_result"
    }
   ],
   "source": [
    "# Para este tipo de indexado se utiliza iloc\n",
    "df.iloc[1:2,2]"
   ]
  },
  {
   "cell_type": "markdown",
   "metadata": {},
   "source": [
    "# Group by"
   ]
  },
  {
   "cell_type": "code",
   "execution_count": 28,
   "metadata": {},
   "outputs": [
    {
     "data": {
      "text/html": [
       "<div>\n",
       "<style scoped>\n",
       "    .dataframe tbody tr th:only-of-type {\n",
       "        vertical-align: middle;\n",
       "    }\n",
       "\n",
       "    .dataframe tbody tr th {\n",
       "        vertical-align: top;\n",
       "    }\n",
       "\n",
       "    .dataframe thead th {\n",
       "        text-align: right;\n",
       "    }\n",
       "</style>\n",
       "<table border=\"1\" class=\"dataframe\">\n",
       "  <thead>\n",
       "    <tr style=\"text-align: right;\">\n",
       "      <th></th>\n",
       "      <th>first_name</th>\n",
       "      <th>last_name</th>\n",
       "      <th>age</th>\n",
       "      <th>preTestScore</th>\n",
       "      <th>postTestScore</th>\n",
       "      <th>Birthday</th>\n",
       "    </tr>\n",
       "  </thead>\n",
       "  <tbody>\n",
       "    <tr>\n",
       "      <th>1</th>\n",
       "      <td>Jason</td>\n",
       "      <td>Miller</td>\n",
       "      <td>42</td>\n",
       "      <td>4</td>\n",
       "      <td>25</td>\n",
       "      <td>1994-02-19</td>\n",
       "    </tr>\n",
       "    <tr>\n",
       "      <th>0</th>\n",
       "      <td>Molly</td>\n",
       "      <td>Jacobson</td>\n",
       "      <td>52</td>\n",
       "      <td>24</td>\n",
       "      <td>94</td>\n",
       "      <td>1982-02-07</td>\n",
       "    </tr>\n",
       "    <tr>\n",
       "      <th>4</th>\n",
       "      <td>Tina</td>\n",
       "      <td>Ali</td>\n",
       "      <td>36</td>\n",
       "      <td>31</td>\n",
       "      <td>57</td>\n",
       "      <td>1987-09-11</td>\n",
       "    </tr>\n",
       "    <tr>\n",
       "      <th>5</th>\n",
       "      <td>Jake</td>\n",
       "      <td>Milner</td>\n",
       "      <td>24</td>\n",
       "      <td>2</td>\n",
       "      <td>62</td>\n",
       "      <td>1992-08-02</td>\n",
       "    </tr>\n",
       "    <tr>\n",
       "      <th>2</th>\n",
       "      <td>Amy</td>\n",
       "      <td>Cooze</td>\n",
       "      <td>73</td>\n",
       "      <td>3</td>\n",
       "      <td>70</td>\n",
       "      <td>1994-05-04</td>\n",
       "    </tr>\n",
       "    <tr>\n",
       "      <th>3</th>\n",
       "      <td>Richy</td>\n",
       "      <td>Recarey</td>\n",
       "      <td>12</td>\n",
       "      <td>21</td>\n",
       "      <td>21</td>\n",
       "      <td>1992-03-03</td>\n",
       "    </tr>\n",
       "    <tr>\n",
       "      <th>6</th>\n",
       "      <td>Josh</td>\n",
       "      <td>Brown</td>\n",
       "      <td>19</td>\n",
       "      <td>9</td>\n",
       "      <td>10</td>\n",
       "      <td>2000-09-12</td>\n",
       "    </tr>\n",
       "  </tbody>\n",
       "</table>\n",
       "</div>"
      ],
      "text/plain": [
       "  first_name last_name  age  preTestScore  postTestScore   Birthday\n",
       "1      Jason    Miller   42             4             25 1994-02-19\n",
       "0      Molly  Jacobson   52            24             94 1982-02-07\n",
       "4       Tina       Ali   36            31             57 1987-09-11\n",
       "5       Jake    Milner   24             2             62 1992-08-02\n",
       "2        Amy     Cooze   73             3             70 1994-05-04\n",
       "3      Richy   Recarey   12            21             21 1992-03-03\n",
       "6       Josh     Brown   19             9             10 2000-09-12"
      ]
     },
     "execution_count": 28,
     "metadata": {},
     "output_type": "execute_result"
    }
   ],
   "source": [
    "df"
   ]
  },
  {
   "cell_type": "code",
   "execution_count": 29,
   "metadata": {},
   "outputs": [],
   "source": [
    "df[\"Team\"] = np.where(df.age < 40, 1, 0)"
   ]
  },
  {
   "cell_type": "markdown",
   "metadata": {},
   "source": [
    "#### Automaticamente elige las que puede sumar, y las coge todas"
   ]
  },
  {
   "cell_type": "code",
   "execution_count": 30,
   "metadata": {},
   "outputs": [
    {
     "data": {
      "text/html": [
       "<div>\n",
       "<style scoped>\n",
       "    .dataframe tbody tr th:only-of-type {\n",
       "        vertical-align: middle;\n",
       "    }\n",
       "\n",
       "    .dataframe tbody tr th {\n",
       "        vertical-align: top;\n",
       "    }\n",
       "\n",
       "    .dataframe thead th {\n",
       "        text-align: right;\n",
       "    }\n",
       "</style>\n",
       "<table border=\"1\" class=\"dataframe\">\n",
       "  <thead>\n",
       "    <tr style=\"text-align: right;\">\n",
       "      <th></th>\n",
       "      <th>age</th>\n",
       "      <th>preTestScore</th>\n",
       "      <th>postTestScore</th>\n",
       "    </tr>\n",
       "    <tr>\n",
       "      <th>Team</th>\n",
       "      <th></th>\n",
       "      <th></th>\n",
       "      <th></th>\n",
       "    </tr>\n",
       "  </thead>\n",
       "  <tbody>\n",
       "    <tr>\n",
       "      <th>0</th>\n",
       "      <td>167</td>\n",
       "      <td>31</td>\n",
       "      <td>189</td>\n",
       "    </tr>\n",
       "    <tr>\n",
       "      <th>1</th>\n",
       "      <td>91</td>\n",
       "      <td>63</td>\n",
       "      <td>150</td>\n",
       "    </tr>\n",
       "  </tbody>\n",
       "</table>\n",
       "</div>"
      ],
      "text/plain": [
       "      age  preTestScore  postTestScore\n",
       "Team                                  \n",
       "0     167            31            189\n",
       "1      91            63            150"
      ]
     },
     "execution_count": 30,
     "metadata": {},
     "output_type": "execute_result"
    }
   ],
   "source": [
    "df.groupby(\"Team\").agg(\"sum\")"
   ]
  },
  {
   "cell_type": "markdown",
   "metadata": {},
   "source": [
    "### Seleccionamos las que queremos agregar únicamente"
   ]
  },
  {
   "cell_type": "code",
   "execution_count": 31,
   "metadata": {},
   "outputs": [
    {
     "data": {
      "text/html": [
       "<div>\n",
       "<style scoped>\n",
       "    .dataframe tbody tr th:only-of-type {\n",
       "        vertical-align: middle;\n",
       "    }\n",
       "\n",
       "    .dataframe tbody tr th {\n",
       "        vertical-align: top;\n",
       "    }\n",
       "\n",
       "    .dataframe thead th {\n",
       "        text-align: right;\n",
       "    }\n",
       "</style>\n",
       "<table border=\"1\" class=\"dataframe\">\n",
       "  <thead>\n",
       "    <tr style=\"text-align: right;\">\n",
       "      <th></th>\n",
       "      <th>age</th>\n",
       "      <th>postTestScore</th>\n",
       "    </tr>\n",
       "    <tr>\n",
       "      <th>Team</th>\n",
       "      <th></th>\n",
       "      <th></th>\n",
       "    </tr>\n",
       "  </thead>\n",
       "  <tbody>\n",
       "    <tr>\n",
       "      <th>0</th>\n",
       "      <td>55.666667</td>\n",
       "      <td>189</td>\n",
       "    </tr>\n",
       "    <tr>\n",
       "      <th>1</th>\n",
       "      <td>22.750000</td>\n",
       "      <td>150</td>\n",
       "    </tr>\n",
       "  </tbody>\n",
       "</table>\n",
       "</div>"
      ],
      "text/plain": [
       "            age  postTestScore\n",
       "Team                          \n",
       "0     55.666667            189\n",
       "1     22.750000            150"
      ]
     },
     "execution_count": 31,
     "metadata": {},
     "output_type": "execute_result"
    }
   ],
   "source": [
    "df.groupby(\"Team\").agg({\"age\" : np.average, \"postTestScore\" : np.sum})"
   ]
  },
  {
   "cell_type": "markdown",
   "metadata": {},
   "source": [
    "#### O incluso poner mas de una para un campo"
   ]
  },
  {
   "cell_type": "code",
   "execution_count": null,
   "metadata": {},
   "outputs": [],
   "source": []
  },
  {
   "cell_type": "code",
   "execution_count": 32,
   "metadata": {},
   "outputs": [
    {
     "data": {
      "text/html": [
       "<div>\n",
       "<style scoped>\n",
       "    .dataframe tbody tr th:only-of-type {\n",
       "        vertical-align: middle;\n",
       "    }\n",
       "\n",
       "    .dataframe tbody tr th {\n",
       "        vertical-align: top;\n",
       "    }\n",
       "\n",
       "    .dataframe thead tr th {\n",
       "        text-align: left;\n",
       "    }\n",
       "\n",
       "    .dataframe thead tr:last-of-type th {\n",
       "        text-align: right;\n",
       "    }\n",
       "</style>\n",
       "<table border=\"1\" class=\"dataframe\">\n",
       "  <thead>\n",
       "    <tr>\n",
       "      <th></th>\n",
       "      <th colspan=\"2\" halign=\"left\">age</th>\n",
       "    </tr>\n",
       "    <tr>\n",
       "      <th></th>\n",
       "      <th>average</th>\n",
       "      <th>sum</th>\n",
       "    </tr>\n",
       "    <tr>\n",
       "      <th>Team</th>\n",
       "      <th></th>\n",
       "      <th></th>\n",
       "    </tr>\n",
       "  </thead>\n",
       "  <tbody>\n",
       "    <tr>\n",
       "      <th>0</th>\n",
       "      <td>55.666667</td>\n",
       "      <td>167</td>\n",
       "    </tr>\n",
       "    <tr>\n",
       "      <th>1</th>\n",
       "      <td>22.750000</td>\n",
       "      <td>91</td>\n",
       "    </tr>\n",
       "  </tbody>\n",
       "</table>\n",
       "</div>"
      ],
      "text/plain": [
       "            age     \n",
       "        average  sum\n",
       "Team                \n",
       "0     55.666667  167\n",
       "1     22.750000   91"
      ]
     },
     "execution_count": 32,
     "metadata": {},
     "output_type": "execute_result"
    }
   ],
   "source": [
    "df.groupby(\"Team\").agg({\"age\" : [np.average,np.sum]})"
   ]
  },
  {
   "cell_type": "code",
   "execution_count": 33,
   "metadata": {},
   "outputs": [
    {
     "data": {
      "text/html": [
       "<div>\n",
       "<style scoped>\n",
       "    .dataframe tbody tr th:only-of-type {\n",
       "        vertical-align: middle;\n",
       "    }\n",
       "\n",
       "    .dataframe tbody tr th {\n",
       "        vertical-align: top;\n",
       "    }\n",
       "\n",
       "    .dataframe thead tr th {\n",
       "        text-align: left;\n",
       "    }\n",
       "\n",
       "    .dataframe thead tr:last-of-type th {\n",
       "        text-align: right;\n",
       "    }\n",
       "</style>\n",
       "<table border=\"1\" class=\"dataframe\">\n",
       "  <thead>\n",
       "    <tr>\n",
       "      <th></th>\n",
       "      <th colspan=\"2\" halign=\"left\">age</th>\n",
       "    </tr>\n",
       "    <tr>\n",
       "      <th></th>\n",
       "      <th>average</th>\n",
       "      <th>sum</th>\n",
       "    </tr>\n",
       "    <tr>\n",
       "      <th>Team</th>\n",
       "      <th></th>\n",
       "      <th></th>\n",
       "    </tr>\n",
       "  </thead>\n",
       "  <tbody>\n",
       "    <tr>\n",
       "      <th>0</th>\n",
       "      <td>55.666667</td>\n",
       "      <td>167</td>\n",
       "    </tr>\n",
       "    <tr>\n",
       "      <th>1</th>\n",
       "      <td>22.750000</td>\n",
       "      <td>91</td>\n",
       "    </tr>\n",
       "  </tbody>\n",
       "</table>\n",
       "</div>"
      ],
      "text/plain": [
       "            age     \n",
       "        average  sum\n",
       "Team                \n",
       "0     55.666667  167\n",
       "1     22.750000   91"
      ]
     },
     "execution_count": 33,
     "metadata": {},
     "output_type": "execute_result"
    }
   ],
   "source": [
    "df.groupby(\"Team\").agg({\"age\" : [np.average,'sum']})"
   ]
  },
  {
   "cell_type": "markdown",
   "metadata": {},
   "source": [
    "### Writing your own functions"
   ]
  },
  {
   "cell_type": "code",
   "execution_count": 34,
   "metadata": {},
   "outputs": [],
   "source": [
    "def my_agg(serie):\n",
    "    return serie.sum()\n",
    "\n",
    "def my_agg2(serie):\n",
    "    return serie['age'].sum()"
   ]
  },
  {
   "cell_type": "code",
   "execution_count": 35,
   "metadata": {},
   "outputs": [
    {
     "data": {
      "text/html": [
       "<div>\n",
       "<style scoped>\n",
       "    .dataframe tbody tr th:only-of-type {\n",
       "        vertical-align: middle;\n",
       "    }\n",
       "\n",
       "    .dataframe tbody tr th {\n",
       "        vertical-align: top;\n",
       "    }\n",
       "\n",
       "    .dataframe thead th {\n",
       "        text-align: right;\n",
       "    }\n",
       "</style>\n",
       "<table border=\"1\" class=\"dataframe\">\n",
       "  <thead>\n",
       "    <tr style=\"text-align: right;\">\n",
       "      <th></th>\n",
       "      <th>first_name</th>\n",
       "      <th>last_name</th>\n",
       "      <th>age</th>\n",
       "      <th>preTestScore</th>\n",
       "      <th>postTestScore</th>\n",
       "    </tr>\n",
       "    <tr>\n",
       "      <th>Team</th>\n",
       "      <th></th>\n",
       "      <th></th>\n",
       "      <th></th>\n",
       "      <th></th>\n",
       "      <th></th>\n",
       "    </tr>\n",
       "  </thead>\n",
       "  <tbody>\n",
       "    <tr>\n",
       "      <th>0</th>\n",
       "      <td>JasonMollyAmy</td>\n",
       "      <td>MillerJacobsonCooze</td>\n",
       "      <td>167</td>\n",
       "      <td>31</td>\n",
       "      <td>189</td>\n",
       "    </tr>\n",
       "    <tr>\n",
       "      <th>1</th>\n",
       "      <td>TinaJakeRichyJosh</td>\n",
       "      <td>AliMilnerRecareyBrown</td>\n",
       "      <td>91</td>\n",
       "      <td>63</td>\n",
       "      <td>150</td>\n",
       "    </tr>\n",
       "  </tbody>\n",
       "</table>\n",
       "</div>"
      ],
      "text/plain": [
       "             first_name              last_name  age  preTestScore  \\\n",
       "Team                                                                \n",
       "0         JasonMollyAmy    MillerJacobsonCooze  167            31   \n",
       "1     TinaJakeRichyJosh  AliMilnerRecareyBrown   91            63   \n",
       "\n",
       "      postTestScore  \n",
       "Team                 \n",
       "0               189  \n",
       "1               150  "
      ]
     },
     "execution_count": 35,
     "metadata": {},
     "output_type": "execute_result"
    }
   ],
   "source": [
    "df.groupby(\"Team\").agg(my_agg)"
   ]
  },
  {
   "cell_type": "code",
   "execution_count": 36,
   "metadata": {},
   "outputs": [
    {
     "data": {
      "text/html": [
       "<div>\n",
       "<style scoped>\n",
       "    .dataframe tbody tr th:only-of-type {\n",
       "        vertical-align: middle;\n",
       "    }\n",
       "\n",
       "    .dataframe tbody tr th {\n",
       "        vertical-align: top;\n",
       "    }\n",
       "\n",
       "    .dataframe thead th {\n",
       "        text-align: right;\n",
       "    }\n",
       "</style>\n",
       "<table border=\"1\" class=\"dataframe\">\n",
       "  <thead>\n",
       "    <tr style=\"text-align: right;\">\n",
       "      <th></th>\n",
       "      <th>first_name</th>\n",
       "      <th>last_name</th>\n",
       "      <th>age</th>\n",
       "      <th>preTestScore</th>\n",
       "      <th>postTestScore</th>\n",
       "    </tr>\n",
       "    <tr>\n",
       "      <th>Team</th>\n",
       "      <th></th>\n",
       "      <th></th>\n",
       "      <th></th>\n",
       "      <th></th>\n",
       "      <th></th>\n",
       "    </tr>\n",
       "  </thead>\n",
       "  <tbody>\n",
       "    <tr>\n",
       "      <th>0</th>\n",
       "      <td>JasonMollyAmy</td>\n",
       "      <td>MillerJacobsonCooze</td>\n",
       "      <td>167</td>\n",
       "      <td>31</td>\n",
       "      <td>189</td>\n",
       "    </tr>\n",
       "    <tr>\n",
       "      <th>1</th>\n",
       "      <td>TinaJakeRichyJosh</td>\n",
       "      <td>AliMilnerRecareyBrown</td>\n",
       "      <td>91</td>\n",
       "      <td>63</td>\n",
       "      <td>150</td>\n",
       "    </tr>\n",
       "  </tbody>\n",
       "</table>\n",
       "</div>"
      ],
      "text/plain": [
       "             first_name              last_name  age  preTestScore  \\\n",
       "Team                                                                \n",
       "0         JasonMollyAmy    MillerJacobsonCooze  167            31   \n",
       "1     TinaJakeRichyJosh  AliMilnerRecareyBrown   91            63   \n",
       "\n",
       "      postTestScore  \n",
       "Team                 \n",
       "0               189  \n",
       "1               150  "
      ]
     },
     "execution_count": 36,
     "metadata": {},
     "output_type": "execute_result"
    }
   ],
   "source": [
    "df.groupby(\"Team\").agg(my_agg)"
   ]
  },
  {
   "cell_type": "markdown",
   "metadata": {},
   "source": [
    "# Analisis del objeto groupby"
   ]
  },
  {
   "cell_type": "code",
   "execution_count": 106,
   "metadata": {},
   "outputs": [
    {
     "name": "stdout",
     "output_type": "stream",
     "text": [
      "<class 'pandas.core.groupby.groupby.DataFrameGroupBy'> \n",
      "\n",
      "  first_name last_name  age  preTestScore  postTestScore   Birthday  Team\n",
      "1      Jason    Miller   42             4             25 1994-02-19     0\n",
      "0      Molly  Jacobson   52            24             94 1982-02-07     0\n"
     ]
    }
   ],
   "source": [
    "print(type(df.groupby(\"Team\")), \"\\n\")\n",
    "print(df.head(2))"
   ]
  },
  {
   "cell_type": "code",
   "execution_count": 109,
   "metadata": {},
   "outputs": [
    {
     "data": {
      "text/plain": [
       "<pandas.core.groupby.groupby.SeriesGroupBy object at 0x0000025026F20518>"
      ]
     },
     "execution_count": 109,
     "metadata": {},
     "output_type": "execute_result"
    }
   ],
   "source": [
    "df.groupby(\"Team\").Birthday\n",
    "df.groupby(\"Team\").first_name\n",
    "# etc = EXISTEN y ya estan agrupados!"
   ]
  },
  {
   "cell_type": "code",
   "execution_count": 127,
   "metadata": {},
   "outputs": [
    {
     "data": {
      "text/plain": [
       "0    (0, [1994-02-19 00:00:00, 1982-02-07 00:00:00,...\n",
       "1    (1, [1987-09-11 00:00:00, 1992-08-02 00:00:00,...\n",
       "dtype: object"
      ]
     },
     "execution_count": 127,
     "metadata": {},
     "output_type": "execute_result"
    }
   ],
   "source": [
    "pd.Series(df.groupby(\"Team\").Birthday)"
   ]
  },
  {
   "cell_type": "markdown",
   "metadata": {},
   "source": [
    "### Queda pendiente de mejorar el principio de la notebook y este final"
   ]
  },
  {
   "cell_type": "code",
   "execution_count": 149,
   "metadata": {},
   "outputs": [],
   "source": [
    "def my_agg3(series):\n",
    "    return series.sum()"
   ]
  },
  {
   "cell_type": "code",
   "execution_count": 150,
   "metadata": {},
   "outputs": [
    {
     "data": {
      "text/html": [
       "<div>\n",
       "<style scoped>\n",
       "    .dataframe tbody tr th:only-of-type {\n",
       "        vertical-align: middle;\n",
       "    }\n",
       "\n",
       "    .dataframe tbody tr th {\n",
       "        vertical-align: top;\n",
       "    }\n",
       "\n",
       "    .dataframe thead th {\n",
       "        text-align: right;\n",
       "    }\n",
       "</style>\n",
       "<table border=\"1\" class=\"dataframe\">\n",
       "  <thead>\n",
       "    <tr style=\"text-align: right;\">\n",
       "      <th></th>\n",
       "      <th>age</th>\n",
       "    </tr>\n",
       "    <tr>\n",
       "      <th>Team</th>\n",
       "      <th></th>\n",
       "    </tr>\n",
       "  </thead>\n",
       "  <tbody>\n",
       "    <tr>\n",
       "      <th>0</th>\n",
       "      <td>167</td>\n",
       "    </tr>\n",
       "    <tr>\n",
       "      <th>1</th>\n",
       "      <td>91</td>\n",
       "    </tr>\n",
       "  </tbody>\n",
       "</table>\n",
       "</div>"
      ],
      "text/plain": [
       "      age\n",
       "Team     \n",
       "0     167\n",
       "1      91"
      ]
     },
     "execution_count": 150,
     "metadata": {},
     "output_type": "execute_result"
    }
   ],
   "source": [
    "df.groupby(\"Team\").agg({'age':my_agg3})"
   ]
  },
  {
   "cell_type": "code",
   "execution_count": 151,
   "metadata": {},
   "outputs": [
    {
     "data": {
      "text/html": [
       "<div>\n",
       "<style scoped>\n",
       "    .dataframe tbody tr th:only-of-type {\n",
       "        vertical-align: middle;\n",
       "    }\n",
       "\n",
       "    .dataframe tbody tr th {\n",
       "        vertical-align: top;\n",
       "    }\n",
       "\n",
       "    .dataframe thead th {\n",
       "        text-align: right;\n",
       "    }\n",
       "</style>\n",
       "<table border=\"1\" class=\"dataframe\">\n",
       "  <thead>\n",
       "    <tr style=\"text-align: right;\">\n",
       "      <th></th>\n",
       "      <th>first_name</th>\n",
       "      <th>last_name</th>\n",
       "      <th>age</th>\n",
       "      <th>preTestScore</th>\n",
       "      <th>postTestScore</th>\n",
       "    </tr>\n",
       "    <tr>\n",
       "      <th>Team</th>\n",
       "      <th></th>\n",
       "      <th></th>\n",
       "      <th></th>\n",
       "      <th></th>\n",
       "      <th></th>\n",
       "    </tr>\n",
       "  </thead>\n",
       "  <tbody>\n",
       "    <tr>\n",
       "      <th>0</th>\n",
       "      <td>JasonMollyAmy</td>\n",
       "      <td>MillerJacobsonCooze</td>\n",
       "      <td>167</td>\n",
       "      <td>31</td>\n",
       "      <td>189</td>\n",
       "    </tr>\n",
       "    <tr>\n",
       "      <th>1</th>\n",
       "      <td>TinaJakeRichyJosh</td>\n",
       "      <td>AliMilnerRecareyBrown</td>\n",
       "      <td>91</td>\n",
       "      <td>63</td>\n",
       "      <td>150</td>\n",
       "    </tr>\n",
       "  </tbody>\n",
       "</table>\n",
       "</div>"
      ],
      "text/plain": [
       "             first_name              last_name  age  preTestScore  \\\n",
       "Team                                                                \n",
       "0         JasonMollyAmy    MillerJacobsonCooze  167            31   \n",
       "1     TinaJakeRichyJosh  AliMilnerRecareyBrown   91            63   \n",
       "\n",
       "      postTestScore  \n",
       "Team                 \n",
       "0               189  \n",
       "1               150  "
      ]
     },
     "execution_count": 151,
     "metadata": {},
     "output_type": "execute_result"
    }
   ],
   "source": [
    "df.groupby(\"Team\").agg(my_agg3)"
   ]
  },
  {
   "cell_type": "markdown",
   "metadata": {},
   "source": [
    "https://theplopfactor.wordpress.com/2016/07/22/custom-aggregate-functions-in-pandas/"
   ]
  },
  {
   "cell_type": "code",
   "execution_count": null,
   "metadata": {},
   "outputs": [],
   "source": []
  }
 ],
 "metadata": {
  "kernelspec": {
   "display_name": "Python 3",
   "language": "python",
   "name": "python3"
  },
  "language_info": {
   "codemirror_mode": {
    "name": "ipython",
    "version": 3
   },
   "file_extension": ".py",
   "mimetype": "text/x-python",
   "name": "python",
   "nbconvert_exporter": "python",
   "pygments_lexer": "ipython3",
   "version": "3.6.8"
  }
 },
 "nbformat": 4,
 "nbformat_minor": 2
}
