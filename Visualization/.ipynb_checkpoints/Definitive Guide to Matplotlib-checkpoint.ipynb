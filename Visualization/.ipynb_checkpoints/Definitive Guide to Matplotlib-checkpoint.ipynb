{
 "cells": [
  {
   "cell_type": "markdown",
   "metadata": {},
   "source": [
    "# Guía Definitiva para Pandas"
   ]
  },
  {
   "cell_type": "code",
   "execution_count": 1,
   "metadata": {},
   "outputs": [],
   "source": [
    "# Carga de librerías necesarias\n",
    "\n",
    "import pandas as pd\n",
    "import numpy as np\n",
    "\n",
    "\n",
    "import matplotlib.pyplot as plt\n",
    "from matplotlib.dates import DateFormatter\n",
    "from matplotlib.pylab import rcParams\n",
    "import matplotlib.dates as mdates\n",
    "import matplotlib\n",
    "matplotlib.style.use('ggplot')\n",
    "\n",
    "from matplotlib.ticker import (MultipleLocator, FormatStrFormatter,\n",
    "                               AutoMinorLocator)"
   ]
  },
  {
   "cell_type": "markdown",
   "metadata": {},
   "source": [
    "Pandas es una librería de python que añade una funcionalidad que, a diferencia de R, python no trae en su distribución base: los dataframes. Estos son estructuras similares a las encontradas en las tablas de bases de datos relacionales, en donde los datos se almacenan por filas (registros) y columnas (variables). "
   ]
  },
  {
   "cell_type": "code",
   "execution_count": 2,
   "metadata": {},
   "outputs": [
    {
     "data": {
      "text/html": [
       "<div>\n",
       "<style scoped>\n",
       "    .dataframe tbody tr th:only-of-type {\n",
       "        vertical-align: middle;\n",
       "    }\n",
       "\n",
       "    .dataframe tbody tr th {\n",
       "        vertical-align: top;\n",
       "    }\n",
       "\n",
       "    .dataframe thead th {\n",
       "        text-align: right;\n",
       "    }\n",
       "</style>\n",
       "<table border=\"1\" class=\"dataframe\">\n",
       "  <thead>\n",
       "    <tr style=\"text-align: right;\">\n",
       "      <th></th>\n",
       "      <th>first_name</th>\n",
       "      <th>last_name</th>\n",
       "      <th>age</th>\n",
       "      <th>preTestScore</th>\n",
       "      <th>postTestScore</th>\n",
       "      <th>school_ID</th>\n",
       "      <th>Birthday</th>\n",
       "    </tr>\n",
       "  </thead>\n",
       "  <tbody>\n",
       "    <tr>\n",
       "      <th>0</th>\n",
       "      <td>Jason</td>\n",
       "      <td>Miller</td>\n",
       "      <td>42</td>\n",
       "      <td>4</td>\n",
       "      <td>25</td>\n",
       "      <td>10</td>\n",
       "      <td>1994-02-19</td>\n",
       "    </tr>\n",
       "    <tr>\n",
       "      <th>1</th>\n",
       "      <td>Molly</td>\n",
       "      <td>Jacobson</td>\n",
       "      <td>52</td>\n",
       "      <td>24</td>\n",
       "      <td>94</td>\n",
       "      <td>12</td>\n",
       "      <td>1982-02-07</td>\n",
       "    </tr>\n",
       "    <tr>\n",
       "      <th>2</th>\n",
       "      <td>Tina</td>\n",
       "      <td>Ali</td>\n",
       "      <td>36</td>\n",
       "      <td>31</td>\n",
       "      <td>57</td>\n",
       "      <td>3</td>\n",
       "      <td>1987-09-11</td>\n",
       "    </tr>\n",
       "    <tr>\n",
       "      <th>3</th>\n",
       "      <td>Jake</td>\n",
       "      <td>Milner</td>\n",
       "      <td>24</td>\n",
       "      <td>2</td>\n",
       "      <td>62</td>\n",
       "      <td>4</td>\n",
       "      <td>1992-08-02</td>\n",
       "    </tr>\n",
       "    <tr>\n",
       "      <th>4</th>\n",
       "      <td>Amy</td>\n",
       "      <td>Cooze</td>\n",
       "      <td>73</td>\n",
       "      <td>3</td>\n",
       "      <td>70</td>\n",
       "      <td>5</td>\n",
       "      <td>1994-05-04</td>\n",
       "    </tr>\n",
       "    <tr>\n",
       "      <th>5</th>\n",
       "      <td>Richy</td>\n",
       "      <td>Recarey</td>\n",
       "      <td>12</td>\n",
       "      <td>21</td>\n",
       "      <td>21</td>\n",
       "      <td>2</td>\n",
       "      <td>1992-03-03</td>\n",
       "    </tr>\n",
       "    <tr>\n",
       "      <th>6</th>\n",
       "      <td>Josh</td>\n",
       "      <td>Brown</td>\n",
       "      <td>19</td>\n",
       "      <td>9</td>\n",
       "      <td>10</td>\n",
       "      <td>1</td>\n",
       "      <td>2000-09-12</td>\n",
       "    </tr>\n",
       "  </tbody>\n",
       "</table>\n",
       "</div>"
      ],
      "text/plain": [
       "  first_name last_name  age  preTestScore  postTestScore  school_ID  \\\n",
       "0      Jason    Miller   42             4             25         10   \n",
       "1      Molly  Jacobson   52            24             94         12   \n",
       "2       Tina       Ali   36            31             57          3   \n",
       "3       Jake    Milner   24             2             62          4   \n",
       "4        Amy     Cooze   73             3             70          5   \n",
       "5      Richy   Recarey   12            21             21          2   \n",
       "6       Josh     Brown   19             9             10          1   \n",
       "\n",
       "     Birthday  \n",
       "0  1994-02-19  \n",
       "1  1982-02-07  \n",
       "2  1987-09-11  \n",
       "3  1992-08-02  \n",
       "4  1994-05-04  \n",
       "5  1992-03-03  \n",
       "6  2000-09-12  "
      ]
     },
     "execution_count": 2,
     "metadata": {},
     "output_type": "execute_result"
    }
   ],
   "source": [
    "# Creacion de datos desde un dictionary\n",
    "raw_data = {'first_name': ['Jason', 'Molly', 'Tina', 'Jake', 'Amy', 'Richy', 'Josh'], \n",
    "        'last_name': ['Miller', 'Jacobson', 'Ali', 'Milner', 'Cooze', 'Recarey','Brown'], \n",
    "        'age': [42, 52, 36, 24, 73,12,19], \n",
    "        'preTestScore': [4, 24, 31, 2, 3,21,9],\n",
    "        'postTestScore': [25, 94, 57, 62, 70,21,10],\n",
    "        'school_ID': [10,12,3,4,5,2,1],\n",
    "        'Birthday':['1994-02-19','1982-02-07','1987-09-11','1992-08-02','1994-05-04', '1992-03-03','2000-09-12']}\n",
    "\n",
    "# La creacion es directa, con los nombres de la columna inferido\n",
    "# Ambas versiones son correctas\n",
    "df = pd.DataFrame(raw_data, columns = ['first_name', 'last_name', 'age', 'preTestScore', 'postTestScore', 'Birthday'])\n",
    "df = pd.DataFrame(raw_data)\n",
    "df"
   ]
  },
  {
   "cell_type": "markdown",
   "metadata": {},
   "source": [
    "### Comandos básicos de información sobre el DataFrame"
   ]
  },
  {
   "cell_type": "code",
   "execution_count": 3,
   "metadata": {},
   "outputs": [
    {
     "name": "stdout",
     "output_type": "stream",
     "text": [
      "(7, 7)\n",
      "Index(['first_name', 'last_name', 'age', 'preTestScore', 'postTestScore',\n",
      "       'school_ID', 'Birthday'],\n",
      "      dtype='object')\n"
     ]
    }
   ],
   "source": [
    "# Forma\n",
    "print(df.shape)\n",
    "\n",
    "# Nombre de las columnas\n",
    "print(df.columns)"
   ]
  },
  {
   "cell_type": "markdown",
   "metadata": {},
   "source": [
    "#### Metadata sobre las columnas"
   ]
  },
  {
   "cell_type": "code",
   "execution_count": 4,
   "metadata": {},
   "outputs": [
    {
     "name": "stdout",
     "output_type": "stream",
     "text": [
      "int64\n",
      "object\n",
      "int64\n",
      "datetime64[ns]\n"
     ]
    }
   ],
   "source": [
    "# Tipos de las columnas\n",
    "print(df.age.dtype)\n",
    "print(df.Birthday.dtype)\n",
    "\n",
    "df.Birthday = pd.to_datetime(df.Birthday, format = '%Y-%m-%d')\n",
    "\n",
    "print(df.age.dtype)\n",
    "print(df.Birthday.dtype)"
   ]
  },
  {
   "cell_type": "code",
   "execution_count": 5,
   "metadata": {},
   "outputs": [
    {
     "data": {
      "text/html": [
       "<div>\n",
       "<style scoped>\n",
       "    .dataframe tbody tr th:only-of-type {\n",
       "        vertical-align: middle;\n",
       "    }\n",
       "\n",
       "    .dataframe tbody tr th {\n",
       "        vertical-align: top;\n",
       "    }\n",
       "\n",
       "    .dataframe thead th {\n",
       "        text-align: right;\n",
       "    }\n",
       "</style>\n",
       "<table border=\"1\" class=\"dataframe\">\n",
       "  <thead>\n",
       "    <tr style=\"text-align: right;\">\n",
       "      <th></th>\n",
       "      <th>0</th>\n",
       "      <th>1</th>\n",
       "      <th>2</th>\n",
       "      <th>3</th>\n",
       "      <th>4</th>\n",
       "      <th>5</th>\n",
       "      <th>6</th>\n",
       "    </tr>\n",
       "  </thead>\n",
       "  <tbody>\n",
       "    <tr>\n",
       "      <th>first_name</th>\n",
       "      <td>Jason</td>\n",
       "      <td>Molly</td>\n",
       "      <td>Tina</td>\n",
       "      <td>Jake</td>\n",
       "      <td>Amy</td>\n",
       "      <td>Richy</td>\n",
       "      <td>Josh</td>\n",
       "    </tr>\n",
       "    <tr>\n",
       "      <th>last_name</th>\n",
       "      <td>Miller</td>\n",
       "      <td>Jacobson</td>\n",
       "      <td>Ali</td>\n",
       "      <td>Milner</td>\n",
       "      <td>Cooze</td>\n",
       "      <td>Recarey</td>\n",
       "      <td>Brown</td>\n",
       "    </tr>\n",
       "    <tr>\n",
       "      <th>age</th>\n",
       "      <td>42</td>\n",
       "      <td>52</td>\n",
       "      <td>36</td>\n",
       "      <td>24</td>\n",
       "      <td>73</td>\n",
       "      <td>12</td>\n",
       "      <td>19</td>\n",
       "    </tr>\n",
       "    <tr>\n",
       "      <th>preTestScore</th>\n",
       "      <td>4</td>\n",
       "      <td>24</td>\n",
       "      <td>31</td>\n",
       "      <td>2</td>\n",
       "      <td>3</td>\n",
       "      <td>21</td>\n",
       "      <td>9</td>\n",
       "    </tr>\n",
       "    <tr>\n",
       "      <th>postTestScore</th>\n",
       "      <td>25</td>\n",
       "      <td>94</td>\n",
       "      <td>57</td>\n",
       "      <td>62</td>\n",
       "      <td>70</td>\n",
       "      <td>21</td>\n",
       "      <td>10</td>\n",
       "    </tr>\n",
       "    <tr>\n",
       "      <th>school_ID</th>\n",
       "      <td>10</td>\n",
       "      <td>12</td>\n",
       "      <td>3</td>\n",
       "      <td>4</td>\n",
       "      <td>5</td>\n",
       "      <td>2</td>\n",
       "      <td>1</td>\n",
       "    </tr>\n",
       "    <tr>\n",
       "      <th>Birthday</th>\n",
       "      <td>1994-02-19 00:00:00</td>\n",
       "      <td>1982-02-07 00:00:00</td>\n",
       "      <td>1987-09-11 00:00:00</td>\n",
       "      <td>1992-08-02 00:00:00</td>\n",
       "      <td>1994-05-04 00:00:00</td>\n",
       "      <td>1992-03-03 00:00:00</td>\n",
       "      <td>2000-09-12 00:00:00</td>\n",
       "    </tr>\n",
       "  </tbody>\n",
       "</table>\n",
       "</div>"
      ],
      "text/plain": [
       "                                 0                    1                    2  \\\n",
       "first_name                   Jason                Molly                 Tina   \n",
       "last_name                   Miller             Jacobson                  Ali   \n",
       "age                             42                   52                   36   \n",
       "preTestScore                     4                   24                   31   \n",
       "postTestScore                   25                   94                   57   \n",
       "school_ID                       10                   12                    3   \n",
       "Birthday       1994-02-19 00:00:00  1982-02-07 00:00:00  1987-09-11 00:00:00   \n",
       "\n",
       "                                 3                    4                    5  \\\n",
       "first_name                    Jake                  Amy                Richy   \n",
       "last_name                   Milner                Cooze              Recarey   \n",
       "age                             24                   73                   12   \n",
       "preTestScore                     2                    3                   21   \n",
       "postTestScore                   62                   70                   21   \n",
       "school_ID                        4                    5                    2   \n",
       "Birthday       1992-08-02 00:00:00  1994-05-04 00:00:00  1992-03-03 00:00:00   \n",
       "\n",
       "                                 6  \n",
       "first_name                    Josh  \n",
       "last_name                    Brown  \n",
       "age                             19  \n",
       "preTestScore                     9  \n",
       "postTestScore                   10  \n",
       "school_ID                        1  \n",
       "Birthday       2000-09-12 00:00:00  "
      ]
     },
     "execution_count": 5,
     "metadata": {},
     "output_type": "execute_result"
    }
   ],
   "source": [
    "# Transponer\n",
    "df.T"
   ]
  },
  {
   "cell_type": "code",
   "execution_count": 6,
   "metadata": {},
   "outputs": [
    {
     "name": "stdout",
     "output_type": "stream",
     "text": [
      "[['Jason' 'Miller' 42 4 25 10 Timestamp('1994-02-19 00:00:00')]\n",
      " ['Molly' 'Jacobson' 52 24 94 12 Timestamp('1982-02-07 00:00:00')]\n",
      " ['Tina' 'Ali' 36 31 57 3 Timestamp('1987-09-11 00:00:00')]\n",
      " ['Jake' 'Milner' 24 2 62 4 Timestamp('1992-08-02 00:00:00')]\n",
      " ['Amy' 'Cooze' 73 3 70 5 Timestamp('1994-05-04 00:00:00')]\n",
      " ['Richy' 'Recarey' 12 21 21 2 Timestamp('1992-03-03 00:00:00')]\n",
      " ['Josh' 'Brown' 19 9 10 1 Timestamp('2000-09-12 00:00:00')]] \n",
      "\n",
      "\n",
      "<class 'numpy.ndarray'>\n"
     ]
    }
   ],
   "source": [
    "# Obtenemos un array de arrays, donde cada array va una FILA!\n",
    "print(df.values, '\\n\\n')\n",
    "print(type(df.values))"
   ]
  },
  {
   "cell_type": "markdown",
   "metadata": {},
   "source": [
    "# Slicing básico"
   ]
  },
  {
   "cell_type": "code",
   "execution_count": 7,
   "metadata": {},
   "outputs": [
    {
     "name": "stdout",
     "output_type": "stream",
     "text": [
      "0    Jason\n",
      "1    Molly\n",
      "2     Tina\n",
      "3     Jake\n",
      "4      Amy\n",
      "5    Richy\n",
      "6     Josh\n",
      "Name: first_name, dtype: object\n",
      "<class 'pandas.core.series.Series'>\n",
      "object\n"
     ]
    }
   ],
   "source": [
    "# Acceder a unha columna:\n",
    "## Los datos en si mismos, como clase pd.Series!\n",
    "print(df.first_name)\n",
    "\n",
    "## Que tipo de datos nos dió dicho slice:\n",
    "print(type(df.first_name))\n",
    "\n",
    "print(df.first_name.dtype)"
   ]
  },
  {
   "cell_type": "code",
   "execution_count": 8,
   "metadata": {},
   "outputs": [
    {
     "name": "stdout",
     "output_type": "stream",
     "text": [
      "0    42\n",
      "1    52\n",
      "2    36\n",
      "3    24\n",
      "4    73\n",
      "5    12\n",
      "6    19\n",
      "Name: age, dtype: int64\n",
      "<class 'pandas.core.series.Series'>\n"
     ]
    }
   ],
   "source": [
    "# Acceder a unha columna:\n",
    "## Los datos en si mismos:\n",
    "print(df.age)\n",
    "\n",
    "## Que tipo de datos nos dió dicho slice:\n",
    "print(type(df.age))\n",
    "\n"
   ]
  },
  {
   "cell_type": "markdown",
   "metadata": {},
   "source": [
    "### Slicing básico, estilo R"
   ]
  },
  {
   "cell_type": "markdown",
   "metadata": {},
   "source": [
    "Coge filas por defecto, y por posición como en R."
   ]
  },
  {
   "cell_type": "code",
   "execution_count": 9,
   "metadata": {},
   "outputs": [
    {
     "name": "stdout",
     "output_type": "stream",
     "text": [
      "  first_name last_name  age  preTestScore  postTestScore  school_ID   Birthday\n",
      "2       Tina       Ali   36            31             57          3 1987-09-11\n",
      "3       Jake    Milner   24             2             62          4 1992-08-02\n",
      "4        Amy     Cooze   73             3             70          5 1994-05-04\n",
      "5      Richy   Recarey   12            21             21          2 1992-03-03\n",
      "6       Josh     Brown   19             9             10          1 2000-09-12 \n",
      "\n",
      "\n",
      "  first_name last_name  age  preTestScore  postTestScore  school_ID   Birthday\n",
      "0      Jason    Miller   42             4             25         10 1994-02-19\n",
      "1      Molly  Jacobson   52            24             94         12 1982-02-07\n",
      "2       Tina       Ali   36            31             57          3 1987-09-11\n",
      "3       Jake    Milner   24             2             62          4 1992-08-02\n",
      "4        Amy     Cooze   73             3             70          5 1994-05-04 \n",
      "\n",
      "\n",
      "  first_name last_name  age  preTestScore  postTestScore  school_ID   Birthday\n",
      "1      Molly  Jacobson   52            24             94         12 1982-02-07 \n",
      "\n",
      "\n",
      "  last_name  age  preTestScore\n",
      "2       Ali   36            31\n",
      "3    Milner   24             2\n",
      "4     Cooze   73             3\n",
      "5   Recarey   12            21\n",
      "6     Brown   19             9 \n",
      "\n",
      "\n",
      "<class 'pandas.core.series.Series'> \n",
      "\n",
      "  first_name last_name  age  preTestScore  postTestScore  school_ID   Birthday\n",
      "1      Molly  Jacobson   52            24             94         12 1982-02-07\n",
      "2       Tina       Ali   36            31             57          3 1987-09-11\n",
      "5      Richy   Recarey   12            21             21          2 1992-03-03\n"
     ]
    }
   ],
   "source": [
    "# De la segunda fila, incluido, al final\n",
    "print(df[2:],'\\n\\n')\n",
    "\n",
    "# Del principio hasta la 5ª, sin incluir\n",
    "print(df[:5], '\\n\\n')\n",
    "\n",
    "# Solo una file\n",
    "print(df[1:2],'\\n\\n')\n",
    "\n",
    "# Serie horizontal, por fila, y por posición de columna tambien\n",
    "print(df.iloc[2:, 1:4],'\\n\\n')\n",
    "\n",
    "\n",
    "print(type(df.iloc[1]), \"\\n\")\n",
    "\n",
    "# Si la queremos por etiqueta en vez de posición\n",
    "print(df.loc[[1,2,5]])"
   ]
  },
  {
   "cell_type": "code",
   "execution_count": 10,
   "metadata": {},
   "outputs": [
    {
     "data": {
      "text/plain": [
       "1    Molly\n",
       "2     Tina\n",
       "Name: first_name, dtype: object"
      ]
     },
     "execution_count": 10,
     "metadata": {},
     "output_type": "execute_result"
    }
   ],
   "source": [
    "# Accediendo a una Serie por un indice normal\n",
    "df.first_name[1:3]"
   ]
  },
  {
   "cell_type": "code",
   "execution_count": 11,
   "metadata": {},
   "outputs": [
    {
     "data": {
      "text/plain": [
       "0    42\n",
       "2    36\n",
       "4    73\n",
       "6    19\n",
       "Name: age, dtype: int64"
      ]
     },
     "execution_count": 11,
     "metadata": {},
     "output_type": "execute_result"
    }
   ],
   "source": [
    "# Indexamos cada 2!\n",
    "df.age[::2]"
   ]
  },
  {
   "cell_type": "markdown",
   "metadata": {},
   "source": [
    "### More advanced slicing:"
   ]
  },
  {
   "cell_type": "markdown",
   "metadata": {},
   "source": [
    "- Slicing normal va por posición, y filtra por toda la fila. Una vez hecho, se pueden coger determinadas columnas a mano.\n",
    "- Con .loc se permiten boleans, o etiquetas\n",
    "- Con .iloc NO se permiten boleans, y va por posición\n"
   ]
  },
  {
   "cell_type": "code",
   "execution_count": 12,
   "metadata": {},
   "outputs": [
    {
     "name": "stdout",
     "output_type": "stream",
     "text": [
      "  first_name last_name  age  preTestScore  postTestScore  school_ID   Birthday\n",
      "6       Josh     Brown   19             9             10          1 2000-09-12 \n",
      "\n",
      "\n",
      "  first_name last_name  age  preTestScore  postTestScore  school_ID   Birthday\n",
      "0      Jason    Miller   42             4             25         10 1994-02-19\n",
      "1      Molly  Jacobson   52            24             94         12 1982-02-07\n",
      "2       Tina       Ali   36            31             57          3 1987-09-11\n",
      "3       Jake    Milner   24             2             62          4 1992-08-02\n",
      "4        Amy     Cooze   73             3             70          5 1994-05-04\n"
     ]
    }
   ],
   "source": [
    "print(df[df.age == 19], '\\n\\n')\n",
    "\n",
    "#Se utiliza el operador bitewise \"&\" en pandas!\n",
    "print(df[(df.age > 19) & (df.postTestScore > 10)])"
   ]
  },
  {
   "cell_type": "markdown",
   "metadata": {},
   "source": [
    "### Esto sería lo mismo"
   ]
  },
  {
   "cell_type": "code",
   "execution_count": 13,
   "metadata": {},
   "outputs": [
    {
     "name": "stdout",
     "output_type": "stream",
     "text": [
      "  first_name last_name  age  preTestScore  postTestScore  school_ID   Birthday\n",
      "1      Molly  Jacobson   52            24             94         12 1982-02-07\n",
      "2       Tina       Ali   36            31             57          3 1987-09-11\n"
     ]
    },
    {
     "data": {
      "text/html": [
       "<div>\n",
       "<style scoped>\n",
       "    .dataframe tbody tr th:only-of-type {\n",
       "        vertical-align: middle;\n",
       "    }\n",
       "\n",
       "    .dataframe tbody tr th {\n",
       "        vertical-align: top;\n",
       "    }\n",
       "\n",
       "    .dataframe thead th {\n",
       "        text-align: right;\n",
       "    }\n",
       "</style>\n",
       "<table border=\"1\" class=\"dataframe\">\n",
       "  <thead>\n",
       "    <tr style=\"text-align: right;\">\n",
       "      <th></th>\n",
       "      <th>first_name</th>\n",
       "      <th>last_name</th>\n",
       "      <th>age</th>\n",
       "      <th>preTestScore</th>\n",
       "      <th>postTestScore</th>\n",
       "      <th>school_ID</th>\n",
       "      <th>Birthday</th>\n",
       "    </tr>\n",
       "  </thead>\n",
       "  <tbody>\n",
       "    <tr>\n",
       "      <th>1</th>\n",
       "      <td>Molly</td>\n",
       "      <td>Jacobson</td>\n",
       "      <td>52</td>\n",
       "      <td>24</td>\n",
       "      <td>94</td>\n",
       "      <td>12</td>\n",
       "      <td>1982-02-07</td>\n",
       "    </tr>\n",
       "    <tr>\n",
       "      <th>2</th>\n",
       "      <td>Tina</td>\n",
       "      <td>Ali</td>\n",
       "      <td>36</td>\n",
       "      <td>31</td>\n",
       "      <td>57</td>\n",
       "      <td>3</td>\n",
       "      <td>1987-09-11</td>\n",
       "    </tr>\n",
       "  </tbody>\n",
       "</table>\n",
       "</div>"
      ],
      "text/plain": [
       "  first_name last_name  age  preTestScore  postTestScore  school_ID   Birthday\n",
       "1      Molly  Jacobson   52            24             94         12 1982-02-07\n",
       "2       Tina       Ali   36            31             57          3 1987-09-11"
      ]
     },
     "execution_count": 13,
     "metadata": {},
     "output_type": "execute_result"
    }
   ],
   "source": [
    "print(df.iloc[1:3,:])\n",
    "df[1:3]"
   ]
  },
  {
   "cell_type": "markdown",
   "metadata": {},
   "source": [
    "### Esto también sería lo mismo, ya que loc permite boleans:"
   ]
  },
  {
   "cell_type": "code",
   "execution_count": 14,
   "metadata": {},
   "outputs": [
    {
     "name": "stdout",
     "output_type": "stream",
     "text": [
      "  first_name last_name  age  preTestScore  postTestScore  school_ID   Birthday\n",
      "0      Jason    Miller   42             4             25         10 1994-02-19\n",
      "1      Molly  Jacobson   52            24             94         12 1982-02-07\n",
      "4        Amy     Cooze   73             3             70          5 1994-05-04\n"
     ]
    }
   ],
   "source": [
    "print(df[df.age > 40])"
   ]
  },
  {
   "cell_type": "code",
   "execution_count": 15,
   "metadata": {},
   "outputs": [
    {
     "name": "stdout",
     "output_type": "stream",
     "text": [
      "  first_name last_name  age  preTestScore  postTestScore  school_ID   Birthday\n",
      "0      Jason    Miller   42             4             25         10 1994-02-19\n",
      "1      Molly  Jacobson   52            24             94         12 1982-02-07\n",
      "4        Amy     Cooze   73             3             70          5 1994-05-04\n"
     ]
    }
   ],
   "source": [
    "print(df.loc[df.age > 40,:])"
   ]
  },
  {
   "cell_type": "code",
   "execution_count": 16,
   "metadata": {},
   "outputs": [
    {
     "name": "stdout",
     "output_type": "stream",
     "text": [
      "   age  Team\n",
      "0   42   NaN\n",
      "1   52   NaN\n",
      "4   73   NaN\n"
     ]
    },
    {
     "name": "stderr",
     "output_type": "stream",
     "text": [
      "C:\\Users\\rrecarey\\AppData\\Local\\Continuum\\miniconda3\\lib\\site-packages\\pandas\\core\\indexing.py:1494: FutureWarning: \n",
      "Passing list-likes to .loc or [] with any missing label will raise\n",
      "KeyError in the future, you can use .reindex() as an alternative.\n",
      "\n",
      "See the documentation here:\n",
      "https://pandas.pydata.org/pandas-docs/stable/indexing.html#deprecate-loc-reindex-listlike\n",
      "  return self._getitem_tuple(key)\n"
     ]
    }
   ],
   "source": [
    "# No onstante loc nos permite coger columnas!!\n",
    "print(df.loc[df.age > 40,['age','Team']])"
   ]
  },
  {
   "cell_type": "markdown",
   "metadata": {},
   "source": [
    "### Slicing con %in% bitewise"
   ]
  },
  {
   "cell_type": "code",
   "execution_count": 17,
   "metadata": {},
   "outputs": [
    {
     "name": "stdout",
     "output_type": "stream",
     "text": [
      "0    False\n",
      "1    False\n",
      "2    False\n",
      "3    False\n",
      "4    False\n",
      "5    False\n",
      "6     True\n",
      "Name: age, dtype: bool\n"
     ]
    }
   ],
   "source": [
    "# Pandas permite operaciones del estilo\n",
    "print(df.age == 19)"
   ]
  },
  {
   "cell_type": "code",
   "execution_count": 18,
   "metadata": {},
   "outputs": [
    {
     "ename": "ValueError",
     "evalue": "The truth value of a Series is ambiguous. Use a.empty, a.bool(), a.item(), a.any() or a.all().",
     "output_type": "error",
     "traceback": [
      "\u001b[1;31m---------------------------------------------------------------------------\u001b[0m",
      "\u001b[1;31mValueError\u001b[0m                                Traceback (most recent call last)",
      "\u001b[1;32m<ipython-input-18-7d3219d62ea6>\u001b[0m in \u001b[0;36m<module>\u001b[1;34m\u001b[0m\n\u001b[0;32m      1\u001b[0m \u001b[1;31m# Pero no del estilo:\u001b[0m\u001b[1;33m\u001b[0m\u001b[1;33m\u001b[0m\u001b[1;33m\u001b[0m\u001b[0m\n\u001b[1;32m----> 2\u001b[1;33m \u001b[0mprint\u001b[0m\u001b[1;33m(\u001b[0m\u001b[0mdf\u001b[0m\u001b[1;33m.\u001b[0m\u001b[0mage\u001b[0m \u001b[1;32min\u001b[0m \u001b[1;33m[\u001b[0m\u001b[1;36m18\u001b[0m\u001b[1;33m,\u001b[0m\u001b[1;36m19\u001b[0m\u001b[1;33m,\u001b[0m\u001b[1;36m20\u001b[0m\u001b[1;33m,\u001b[0m\u001b[1;36m21\u001b[0m\u001b[1;33m,\u001b[0m\u001b[1;36m22\u001b[0m\u001b[1;33m,\u001b[0m\u001b[1;36m23\u001b[0m\u001b[1;33m,\u001b[0m\u001b[1;36m24\u001b[0m\u001b[1;33m,\u001b[0m\u001b[1;36m25\u001b[0m\u001b[1;33m]\u001b[0m\u001b[1;33m)\u001b[0m\u001b[1;33m\u001b[0m\u001b[1;33m\u001b[0m\u001b[0m\n\u001b[0m",
      "\u001b[1;32m~\\AppData\\Local\\Continuum\\miniconda3\\lib\\site-packages\\pandas\\core\\generic.py\u001b[0m in \u001b[0;36m__nonzero__\u001b[1;34m(self)\u001b[0m\n\u001b[0;32m   1476\u001b[0m         raise ValueError(\"The truth value of a {0} is ambiguous. \"\n\u001b[0;32m   1477\u001b[0m                          \u001b[1;34m\"Use a.empty, a.bool(), a.item(), a.any() or a.all().\"\u001b[0m\u001b[1;33m\u001b[0m\u001b[1;33m\u001b[0m\u001b[0m\n\u001b[1;32m-> 1478\u001b[1;33m                          .format(self.__class__.__name__))\n\u001b[0m\u001b[0;32m   1479\u001b[0m \u001b[1;33m\u001b[0m\u001b[0m\n\u001b[0;32m   1480\u001b[0m     \u001b[0m__bool__\u001b[0m \u001b[1;33m=\u001b[0m \u001b[0m__nonzero__\u001b[0m\u001b[1;33m\u001b[0m\u001b[1;33m\u001b[0m\u001b[0m\n",
      "\u001b[1;31mValueError\u001b[0m: The truth value of a Series is ambiguous. Use a.empty, a.bool(), a.item(), a.any() or a.all()."
     ]
    }
   ],
   "source": [
    "# Pero no del estilo:\n",
    "print(df.age in [18,19,20,21,22,23,24,25])"
   ]
  },
  {
   "cell_type": "code",
   "execution_count": null,
   "metadata": {},
   "outputs": [],
   "source": [
    "# Esa se haría de forma:\n",
    "print(df.age.isin([18,19,20,21,22,23,24,25]))"
   ]
  },
  {
   "cell_type": "markdown",
   "metadata": {},
   "source": [
    "# Nota sobre el rendimiento de '.isin' vs 'in'"
   ]
  },
  {
   "cell_type": "code",
   "execution_count": null,
   "metadata": {},
   "outputs": [],
   "source": [
    "%timeit df[df.age.isin([18,19,20,21,22,23,24,25])]"
   ]
  },
  {
   "cell_type": "code",
   "execution_count": null,
   "metadata": {},
   "outputs": [],
   "source": [
    "%timeit df[[i in [18,19,20,21,22,23,24,25] for i in df.age]]"
   ]
  },
  {
   "cell_type": "markdown",
   "metadata": {},
   "source": [
    "##### Información sobre el índice:"
   ]
  },
  {
   "cell_type": "code",
   "execution_count": null,
   "metadata": {},
   "outputs": [],
   "source": [
    "print(df.index)\n",
    "\n",
    "print(type(df.index))\n",
    "\n",
    "data = pd.Series([0.25, 0.5, 0.75, 1.0], index = ['a', 'b', 'c', 'd'])\n",
    "\n",
    "# Ya no es el por defecto\n",
    "print(data.index)\n",
    "\n",
    "print(type(data.index))"
   ]
  },
  {
   "cell_type": "code",
   "execution_count": null,
   "metadata": {},
   "outputs": [],
   "source": [
    "# Los objetos de tipo Index son inmutables: Más info sobre ellos:\n",
    "print(df.index.size, df.index.shape, df.index.ndim, df.index.dtype)"
   ]
  },
  {
   "cell_type": "markdown",
   "metadata": {},
   "source": [
    "# iloc vs loc"
   ]
  },
  {
   "cell_type": "code",
   "execution_count": null,
   "metadata": {},
   "outputs": [],
   "source": [
    "df.index = [1,0,4,5,2,3,6]\n",
    "print(df, \"\\n\")\n",
    "# loc: Etiquetas y booleans por fila: A por Jason\n",
    "print(df.loc[[1,2]], \"\\n\") # Fila con el indice 1 o 2!\n",
    "print(df.loc[(df.index == 1) | (df.index == 2)], \"\\n\") # Igual\n",
    "# Filas con las posicion 1 y 2\n",
    "print(df[1:3])"
   ]
  },
  {
   "cell_type": "code",
   "execution_count": null,
   "metadata": {},
   "outputs": [],
   "source": [
    "print(df.iloc[1])"
   ]
  },
  {
   "cell_type": "code",
   "execution_count": null,
   "metadata": {},
   "outputs": [],
   "source": [
    "print(df, '\\n')\n",
    "print(df.iloc[0:3, 0:2])\n",
    "df.loc[0:3, ['first_name', 'last_name']]"
   ]
  },
  {
   "cell_type": "code",
   "execution_count": null,
   "metadata": {},
   "outputs": [],
   "source": [
    "print(df.iloc[2])\n",
    "df.loc[df.age == 42, 'age']\n"
   ]
  },
  {
   "cell_type": "code",
   "execution_count": null,
   "metadata": {},
   "outputs": [],
   "source": [
    "# Booleans en columnas con loc\n",
    "print(df.loc[1:5,:]) # Todas las columnas entre la etiqueta 1 y 5\n",
    "# queremos las columnas tal que age es 24"
   ]
  },
  {
   "cell_type": "code",
   "execution_count": null,
   "metadata": {},
   "outputs": [],
   "source": [
    "data = pd.Series(['a', 'b', 'c'], index=[1, 5, 3])\n",
    "print(data)"
   ]
  },
  {
   "cell_type": "code",
   "execution_count": null,
   "metadata": {},
   "outputs": [],
   "source": [
    "# Slicing por indice\n",
    "print(data[1])"
   ]
  },
  {
   "cell_type": "code",
   "execution_count": null,
   "metadata": {},
   "outputs": [],
   "source": [
    "# loc permite indexar mediante índice normal\n",
    "print(data.loc[1])\n",
    "print(data.loc[1])"
   ]
  },
  {
   "cell_type": "code",
   "execution_count": null,
   "metadata": {},
   "outputs": [],
   "source": [
    "# iloc permite indexar de manera convencional\n",
    "print(data.iloc[0])"
   ]
  },
  {
   "cell_type": "code",
   "execution_count": null,
   "metadata": {},
   "outputs": [],
   "source": [
    "print(data.loc[data == 'a'])\n",
    "print(data[data == 'a'])\n",
    "print(data == 'a')"
   ]
  },
  {
   "cell_type": "markdown",
   "metadata": {},
   "source": [
    "##### iloc permite slicing como el de R, con loc hai que ser congruente"
   ]
  },
  {
   "cell_type": "code",
   "execution_count": null,
   "metadata": {},
   "outputs": [],
   "source": [
    "print(df.loc[1,'age'])\n",
    "# print(df[1,'age']) # ERROR!\n",
    "print(df.iloc[1,2])"
   ]
  },
  {
   "cell_type": "code",
   "execution_count": null,
   "metadata": {},
   "outputs": [],
   "source": [
    "# Para este tipo de indexado se utiliza iloc\n",
    "df.iloc[1:2,2]"
   ]
  },
  {
   "cell_type": "markdown",
   "metadata": {},
   "source": [
    "# Group by"
   ]
  },
  {
   "cell_type": "code",
   "execution_count": null,
   "metadata": {},
   "outputs": [],
   "source": [
    "df"
   ]
  },
  {
   "cell_type": "code",
   "execution_count": null,
   "metadata": {},
   "outputs": [],
   "source": [
    "df[\"Team\"] = np.where(df.age < 40, 1, 0)"
   ]
  },
  {
   "cell_type": "markdown",
   "metadata": {},
   "source": [
    "#### Automaticamente elige las que puede sumar, y las coge todas"
   ]
  },
  {
   "cell_type": "code",
   "execution_count": null,
   "metadata": {},
   "outputs": [],
   "source": [
    "df.groupby(\"Team\").agg(\"sum\")"
   ]
  },
  {
   "cell_type": "markdown",
   "metadata": {},
   "source": [
    "### Seleccionamos las que queremos agregar únicamente"
   ]
  },
  {
   "cell_type": "code",
   "execution_count": null,
   "metadata": {},
   "outputs": [],
   "source": [
    "df.groupby(\"Team\").agg({\"age\" : np.average, \"postTestScore\" : np.sum})"
   ]
  },
  {
   "cell_type": "markdown",
   "metadata": {},
   "source": [
    "#### O incluso poner mas de una para un campo"
   ]
  },
  {
   "cell_type": "code",
   "execution_count": null,
   "metadata": {},
   "outputs": [],
   "source": []
  },
  {
   "cell_type": "code",
   "execution_count": null,
   "metadata": {},
   "outputs": [],
   "source": [
    "df.groupby(\"Team\").agg({\"age\" : [np.average,np.sum]})"
   ]
  },
  {
   "cell_type": "code",
   "execution_count": null,
   "metadata": {},
   "outputs": [],
   "source": [
    "df.groupby(\"Team\").agg({\"age\" : [np.average,'sum']})"
   ]
  },
  {
   "cell_type": "markdown",
   "metadata": {},
   "source": [
    "### Writing your own functions"
   ]
  },
  {
   "cell_type": "code",
   "execution_count": null,
   "metadata": {},
   "outputs": [],
   "source": [
    "def my_agg(serie):\n",
    "    return serie.sum()\n",
    "\n",
    "def my_agg2(serie):\n",
    "    return serie['age'].sum()"
   ]
  },
  {
   "cell_type": "code",
   "execution_count": null,
   "metadata": {},
   "outputs": [],
   "source": [
    "df.groupby(\"Team\").agg(my_agg)"
   ]
  },
  {
   "cell_type": "code",
   "execution_count": null,
   "metadata": {},
   "outputs": [],
   "source": [
    "df.groupby(\"Team\").agg(my_agg)"
   ]
  },
  {
   "cell_type": "markdown",
   "metadata": {},
   "source": [
    "# Analisis del objeto groupby"
   ]
  },
  {
   "cell_type": "code",
   "execution_count": null,
   "metadata": {},
   "outputs": [],
   "source": [
    "print(type(df.groupby(\"Team\")), \"\\n\")\n",
    "print(df.head(2))"
   ]
  },
  {
   "cell_type": "code",
   "execution_count": null,
   "metadata": {},
   "outputs": [],
   "source": [
    "df.groupby(\"Team\").Birthday\n",
    "df.groupby(\"Team\").first_name\n",
    "# etc = EXISTEN y ya estan agrupados!"
   ]
  },
  {
   "cell_type": "code",
   "execution_count": null,
   "metadata": {},
   "outputs": [],
   "source": [
    "pd.Series(df.groupby(\"Team\").Birthday)"
   ]
  },
  {
   "cell_type": "markdown",
   "metadata": {},
   "source": [
    "### Queda pendiente de mejorar el principio de la notebook y este final"
   ]
  },
  {
   "cell_type": "code",
   "execution_count": null,
   "metadata": {},
   "outputs": [],
   "source": [
    "def my_agg3(series):\n",
    "    return series.sum()"
   ]
  },
  {
   "cell_type": "code",
   "execution_count": null,
   "metadata": {},
   "outputs": [],
   "source": [
    "df.groupby(\"Team\").agg({'age':my_agg3})"
   ]
  },
  {
   "cell_type": "code",
   "execution_count": null,
   "metadata": {},
   "outputs": [],
   "source": [
    "df.groupby(\"Team\").agg(my_agg3)"
   ]
  },
  {
   "cell_type": "markdown",
   "metadata": {},
   "source": [
    "https://theplopfactor.wordpress.com/2016/07/22/custom-aggregate-functions-in-pandas/"
   ]
  },
  {
   "cell_type": "markdown",
   "metadata": {},
   "source": [
    "# Joins! "
   ]
  },
  {
   "cell_type": "markdown",
   "metadata": {},
   "source": [
    "Imaginemos que queremos agregar el nombre del colegio haciendo lookup con el siguiente diccionario."
   ]
  },
  {
   "cell_type": "code",
   "execution_count": null,
   "metadata": {},
   "outputs": [],
   "source": [
    "dict_lu = {1 : \"Nombre1\",\n",
    "           2 : \"Nombre2\",\n",
    "           3 : \"Nombre3\",\n",
    "           4 : \"Nombre4\",\n",
    "           5 : \"Nombre5\",\n",
    "           6 : \"Nombre6\",\n",
    "           7 : \"Nombre7\",\n",
    "           8 : \"Nombre8\",\n",
    "           9 : \"Nombre9\",\n",
    "           10 : \"Nombre10\",\n",
    "           11 : \"Nombre11\",\n",
    "           12 : \"Nombre12\"}"
   ]
  },
  {
   "cell_type": "code",
   "execution_count": null,
   "metadata": {},
   "outputs": [],
   "source": [
    "df"
   ]
  },
  {
   "cell_type": "code",
   "execution_count": null,
   "metadata": {},
   "outputs": [],
   "source": [
    "%timeit df['Nombre'] = df.school_ID.map(dict_lu)"
   ]
  },
  {
   "cell_type": "code",
   "execution_count": null,
   "metadata": {},
   "outputs": [],
   "source": [
    "%timeit df['Nombre1'] = df.school_ID.apply(lambda x: dict_lu[x])"
   ]
  },
  {
   "cell_type": "code",
   "execution_count": null,
   "metadata": {},
   "outputs": [],
   "source": [
    "%%timeit \n",
    "aux = pd.DataFrame.from_dict(dict_lu, orient = 'index', columns = [\"Nombre\"])\n",
    "df.merge(aux, left_on = 'school_ID', right_index = True)"
   ]
  },
  {
   "cell_type": "code",
   "execution_count": null,
   "metadata": {},
   "outputs": [],
   "source": []
  },
  {
   "cell_type": "code",
   "execution_count": null,
   "metadata": {},
   "outputs": [],
   "source": []
  },
  {
   "cell_type": "code",
   "execution_count": null,
   "metadata": {},
   "outputs": [],
   "source": []
  },
  {
   "cell_type": "code",
   "execution_count": null,
   "metadata": {},
   "outputs": [],
   "source": []
  }
 ],
 "metadata": {
  "kernelspec": {
   "display_name": "Python 3",
   "language": "python",
   "name": "python3"
  },
  "language_info": {
   "codemirror_mode": {
    "name": "ipython",
    "version": 3
   },
   "file_extension": ".py",
   "mimetype": "text/x-python",
   "name": "python",
   "nbconvert_exporter": "python",
   "pygments_lexer": "ipython3",
   "version": "3.6.8"
  }
 },
 "nbformat": 4,
 "nbformat_minor": 2
}
