{
 "cells": [
  {
   "cell_type": "markdown",
   "metadata": {},
   "source": [
    "# *Definitive Guide to sklearn*"
   ]
  },
  {
   "cell_type": "markdown",
   "metadata": {},
   "source": [
    "- Creador: &emsp;&emsp;&emsp;&emsp;&emsp; Ricardo Recarey Fernández [(LinkedIn)](https://www.linkedin.com/in/richyrecarey/)\n",
    "- Creación: &emsp;&emsp;&emsp;&emsp;&emsp;2019-10-10  \n",
    "- Última modificación: &nbsp;2019-10-10"
   ]
  },
  {
   "cell_type": "code",
   "execution_count": 14,
   "metadata": {},
   "outputs": [],
   "source": [
    "# Imports básicos\n",
    "import sys\n",
    "\n",
    "import pandas as pd\n",
    "import numpy as np\n",
    "import matplotlib.pyplot as plt\n",
    "import matplotlib.cm as color_maps\n",
    "plt.style.use(\"ggplot\")\n",
    "\n",
    "# Modelos concretos \n",
    "from sklearn import svm\n",
    "from sklearn.linear_model import LinearRegression\n",
    "from sklearn.linear_model import LinearRegression\n",
    "from sklearn.svm import SVC\n",
    "from sklearn.naive_bayes import GaussianNB\n",
    "\n",
    "\n",
    "# Preprocesado:\n",
    "from sklearn import datasets\n",
    "from sklearn.preprocessing import StandardScaler\n",
    "from sklearn.preprocessing import Normalizer\n",
    "from sklearn.preprocessing import Binarizer\n",
    "\n",
    "from sklearn.preprocessing import LabelEncoder\n",
    "from sklearn.preprocessing import OneHotEncoder\n",
    "\n",
    "# Transformaciones:\n",
    "from sklearn.decomposition import PCA\n",
    "\n",
    "# Selección de modelo:\n",
    "from sklearn.model_selection import train_test_split\n",
    "from sklearn.model_selection import cross_val_score\n",
    "from sklearn.model_selection import cross_validate\n",
    "\n",
    "from sklearn.model_selection import GridSearchCV\n",
    "\n",
    "# Métricas de validación:\n",
    "from sklearn.metrics import make_scorer\n",
    "\n",
    "from sklearn.metrics import classification_report\n",
    "from sklearn.metrics import confusion_matrix\n",
    "from sklearn.metrics import mean_absolute_error\n",
    "from sklearn.metrics import mean_squared_error\n",
    "from sklearn.metrics import r2_score\n",
    "from sklearn.metrics import accuracy_score\n"
   ]
  },
  {
   "cell_type": "code",
   "execution_count": 101,
   "metadata": {},
   "outputs": [
    {
     "name": "stdout",
     "output_type": "stream",
     "text": [
      "Python version:  3.6.8 |Anaconda custom (64-bit)| (default, Feb 21 2019, 18:30:04) [MSC v.1916 64 bit (AMD64)]\n",
      "sklearn version: 0.20.3\n",
      "pandas version:  0.24.2\n",
      "numpy version:   1.16.2\n"
     ]
    }
   ],
   "source": [
    "print(\"Python version: \", sys.version)\n",
    "import sklearn; print(\"sklearn version:\", sklearn.__version__)\n",
    "print(\"pandas version: \", pd.__version__)\n",
    "print(\"numpy version:  \", np.__version__)\n"
   ]
  },
  {
   "cell_type": "markdown",
   "metadata": {},
   "source": [
    "The data has to be __numeric__ and stored as a numpy-like array (i.e., a type that is convertible to numeric array, like Pandas DataFrame for example) or SciPy sparse matrices. "
   ]
  },
  {
   "cell_type": "code",
   "execution_count": 16,
   "metadata": {},
   "outputs": [],
   "source": [
    "iris = datasets.load_iris()\n",
    "digits = datasets.load_digits()"
   ]
  },
  {
   "cell_type": "code",
   "execution_count": 17,
   "metadata": {},
   "outputs": [
    {
     "name": "stdout",
     "output_type": "stream",
     "text": [
      "The type of iris is <class 'sklearn.utils.Bunch'>\n",
      "\n",
      "The type of iris is <class 'sklearn.utils.Bunch'>\n",
      "\n"
     ]
    },
    {
     "data": {
      "text/plain": [
       "sklearn.utils.Bunch"
      ]
     },
     "execution_count": 17,
     "metadata": {},
     "output_type": "execute_result"
    }
   ],
   "source": [
    "print(f\"The type of iris is {type(iris)}\\n\")\n",
    "print(f\"The type of iris is {type(digits)}\\n\")\n",
    "type(iris)"
   ]
  },
  {
   "cell_type": "markdown",
   "metadata": {},
   "source": [
    "A __bunch__ is a container object for datasets. It contains the following:"
   ]
  },
  {
   "cell_type": "code",
   "execution_count": 18,
   "metadata": {},
   "outputs": [
    {
     "data": {
      "text/plain": [
       "['DESCR', 'data', 'feature_names', 'filename', 'target', 'target_names']"
      ]
     },
     "execution_count": 18,
     "metadata": {},
     "output_type": "execute_result"
    }
   ],
   "source": [
    "dir(iris)"
   ]
  },
  {
   "cell_type": "code",
   "execution_count": 19,
   "metadata": {},
   "outputs": [
    {
     "name": "stdout",
     "output_type": "stream",
     "text": [
      "<class 'str'>\n",
      "<class 'numpy.ndarray'>\n",
      "<class 'list'>\n",
      "<class 'str'>\n",
      "<class 'numpy.ndarray'>\n",
      "<class 'numpy.ndarray'>\n"
     ]
    }
   ],
   "source": [
    "for i in dir(iris):\n",
    "    print(type(iris[i]))"
   ]
  },
  {
   "cell_type": "markdown",
   "metadata": {},
   "source": [
    "Obviamente, se puede ver que hay y de que forma son los datos de cada uno de los __bunchs__"
   ]
  },
  {
   "cell_type": "code",
   "execution_count": 20,
   "metadata": {},
   "outputs": [
    {
     "name": "stdout",
     "output_type": "stream",
     "text": [
      "(1797, 64)\n",
      "(filas, cols)\n"
     ]
    }
   ],
   "source": [
    "print(digits.data.shape)\n",
    "print(\"(filas, cols)\")"
   ]
  },
  {
   "cell_type": "markdown",
   "metadata": {},
   "source": [
    "# 1. Preprocesadro básico"
   ]
  },
  {
   "cell_type": "markdown",
   "metadata": {},
   "source": [
    "## 1.1. Estandarización de los datos"
   ]
  },
  {
   "cell_type": "markdown",
   "metadata": {},
   "source": [
    "La __estandarización__ y la __normalización__ son cosas distintas: [__Link__](https://stats.stackexchange.com/questions/10289/whats-the-difference-between-normalization-and-standardization)\n",
    "\n",
    "- Por un lado la estandarización es (x-min)/(max-min). Lo que da lugar a que todos los datos se \"estandarizarán\" entre 0 y 1, dejando a los más \"outliers\" por arriba y por abajo en 1 y 0 respectivamente. Puede ser muy agresivo, pero por otra parte todos los datos tienen la misma escala positiva.\n",
    "\n",
    "- Por otro lado la normalización sigue la ecuación de (x-mu)/sigma clásica, donde se resta la media y se divide por la desviación típica. Suele ser más __recomendada__ para la mayoría de casos de uso. Además, no obliga a todos los datos a estar entre 0 y 1 necesariamente, lo cual es más razonable."
   ]
  },
  {
   "cell_type": "code",
   "execution_count": 21,
   "metadata": {},
   "outputs": [
    {
     "name": "stdout",
     "output_type": "stream",
     "text": [
      "[4.9 3.  1.4 0.2]\n",
      "[-1.14301691 -0.13197948 -1.34022653 -1.3154443 ]\n"
     ]
    }
   ],
   "source": [
    "# Cargamos un scaler: \n",
    "from sklearn.preprocessing import StandardScaler\n",
    "scaler = StandardScaler().fit(iris.data)\n",
    "\n",
    "# Una vez construido el scaler, podemos transformar los datos originales\n",
    "std_iris = scaler.transform(iris.data)\n",
    "\n",
    "# Comprobamos que efectivamente cada una de las 4 variables se ha estandarizado con el método escogido.\n",
    "print(iris.data[1, :])\n",
    "print(std_iris[1, :])"
   ]
  },
  {
   "cell_type": "markdown",
   "metadata": {},
   "source": [
    "## 1.2. Normalización de los datos"
   ]
  },
  {
   "cell_type": "code",
   "execution_count": 22,
   "metadata": {},
   "outputs": [
    {
     "name": "stdout",
     "output_type": "stream",
     "text": [
      "[4.9 3.  1.4 0.2]\n",
      "[0.82813287 0.50702013 0.23660939 0.03380134]\n"
     ]
    }
   ],
   "source": [
    "# Cargamos otro scaler:\n",
    "from sklearn.preprocessing import Normalizer\n",
    "scaler = Normalizer().fit(iris.data)\n",
    "\n",
    "norm_iris = scaler.transform(iris.data)\n",
    "\n",
    "# Comprobamos cambios\n",
    "print(iris.data[1, :])\n",
    "print(norm_iris[1, :])"
   ]
  },
  {
   "cell_type": "markdown",
   "metadata": {},
   "source": [
    "## 1.3. Binarización de los datos"
   ]
  },
  {
   "cell_type": "code",
   "execution_count": 23,
   "metadata": {},
   "outputs": [
    {
     "name": "stdout",
     "output_type": "stream",
     "text": [
      "[4.9 3.  1.4 0.2]\n",
      "[1. 1. 1. 1.]\n"
     ]
    }
   ],
   "source": [
    "from sklearn.preprocessing import Binarizer\n",
    "binarizer = Binarizer(threshold=0.0).fit(iris.data)\n",
    "binary_iris = binarizer.transform(iris.data)\n",
    "\n",
    "# Comprobamos cambios\n",
    "print(iris.data[1, :])\n",
    "print(binary_iris[1, :])"
   ]
  },
  {
   "cell_type": "markdown",
   "metadata": {},
   "source": [
    "## 1.4. Codificación de los datos"
   ]
  },
  {
   "cell_type": "markdown",
   "metadata": {},
   "source": [
    "### 1.4.1. Pasar de objetos arbitrários a una etiqueta o código"
   ]
  },
  {
   "cell_type": "code",
   "execution_count": 24,
   "metadata": {},
   "outputs": [],
   "source": [
    "from sklearn.preprocessing import LabelEncoder\n",
    "enc = LabelEncoder()\n",
    "encoded_target = enc.fit_transform(np.array([\"hola\",\"Hola\",\"adios\",\"adios\"]))"
   ]
  },
  {
   "cell_type": "code",
   "execution_count": 25,
   "metadata": {},
   "outputs": [
    {
     "data": {
      "text/plain": [
       "array([2, 0, 1, 1], dtype=int64)"
      ]
     },
     "execution_count": 25,
     "metadata": {},
     "output_type": "execute_result"
    }
   ],
   "source": [
    "encoded_target"
   ]
  },
  {
   "cell_type": "markdown",
   "metadata": {},
   "source": [
    "### 1.4.2. OneHotEncoder: Pasar a código multidimensional para no tener problemas de orden."
   ]
  },
  {
   "cell_type": "code",
   "execution_count": 109,
   "metadata": {},
   "outputs": [
    {
     "data": {
      "text/plain": [
       "array([[0., 0., 1.],\n",
       "       [0., 1., 0.],\n",
       "       [1., 0., 0.],\n",
       "       [0., 0., 1.],\n",
       "       [0., 0., 1.]])"
      ]
     },
     "execution_count": 109,
     "metadata": {},
     "output_type": "execute_result"
    }
   ],
   "source": [
    "from sklearn.preprocessing import OneHotEncoder\n",
    "\n",
    "\n",
    "# Tenemos la variable respuesta en y_train, con 3 posibles valores\n",
    "enc = OneHotEncoder(handle_unknown='ignore')\n",
    "enc.fit_transform(y_train.reshape(-1,1)).toarray()[:5,:]"
   ]
  },
  {
   "cell_type": "markdown",
   "metadata": {},
   "source": [
    "El problema es que así no sabríamos de una forma muy fácil a que se refiere cada una de las columnas."
   ]
  },
  {
   "cell_type": "code",
   "execution_count": 128,
   "metadata": {},
   "outputs": [
    {
     "data": {
      "text/html": [
       "<div>\n",
       "<style scoped>\n",
       "    .dataframe tbody tr th:only-of-type {\n",
       "        vertical-align: middle;\n",
       "    }\n",
       "\n",
       "    .dataframe tbody tr th {\n",
       "        vertical-align: top;\n",
       "    }\n",
       "\n",
       "    .dataframe thead th {\n",
       "        text-align: right;\n",
       "    }\n",
       "</style>\n",
       "<table border=\"1\" class=\"dataframe\">\n",
       "  <thead>\n",
       "    <tr style=\"text-align: right;\">\n",
       "      <th></th>\n",
       "      <th>v1</th>\n",
       "      <th>v2</th>\n",
       "      <th>v3</th>\n",
       "      <th>v4</th>\n",
       "      <th>Class</th>\n",
       "    </tr>\n",
       "  </thead>\n",
       "  <tbody>\n",
       "    <tr>\n",
       "      <th>0</th>\n",
       "      <td>5.1</td>\n",
       "      <td>3.5</td>\n",
       "      <td>1.4</td>\n",
       "      <td>0.2</td>\n",
       "      <td>0</td>\n",
       "    </tr>\n",
       "    <tr>\n",
       "      <th>1</th>\n",
       "      <td>4.9</td>\n",
       "      <td>3.0</td>\n",
       "      <td>1.4</td>\n",
       "      <td>0.2</td>\n",
       "      <td>0</td>\n",
       "    </tr>\n",
       "    <tr>\n",
       "      <th>2</th>\n",
       "      <td>4.7</td>\n",
       "      <td>3.2</td>\n",
       "      <td>1.3</td>\n",
       "      <td>0.2</td>\n",
       "      <td>0</td>\n",
       "    </tr>\n",
       "    <tr>\n",
       "      <th>3</th>\n",
       "      <td>4.6</td>\n",
       "      <td>3.1</td>\n",
       "      <td>1.5</td>\n",
       "      <td>0.2</td>\n",
       "      <td>0</td>\n",
       "    </tr>\n",
       "    <tr>\n",
       "      <th>4</th>\n",
       "      <td>5.0</td>\n",
       "      <td>3.6</td>\n",
       "      <td>1.4</td>\n",
       "      <td>0.2</td>\n",
       "      <td>0</td>\n",
       "    </tr>\n",
       "  </tbody>\n",
       "</table>\n",
       "</div>"
      ],
      "text/plain": [
       "    v1   v2   v3   v4  Class\n",
       "0  5.1  3.5  1.4  0.2      0\n",
       "1  4.9  3.0  1.4  0.2      0\n",
       "2  4.7  3.2  1.3  0.2      0\n",
       "3  4.6  3.1  1.5  0.2      0\n",
       "4  5.0  3.6  1.4  0.2      0"
      ]
     },
     "execution_count": 128,
     "metadata": {},
     "output_type": "execute_result"
    }
   ],
   "source": [
    "# Lo convertimos en df y le ponemos la class\n",
    "iris_df = pd.concat([pd.DataFrame(iris.data, columns = ['v1', 'v2', 'v3', 'v4']),\n",
    "                     pd.DataFrame(iris.target, columns = ['Class'])],\n",
    "                    axis = 1)\n",
    "iris_df[:5]"
   ]
  },
  {
   "cell_type": "code",
   "execution_count": 137,
   "metadata": {},
   "outputs": [
    {
     "data": {
      "text/html": [
       "<div>\n",
       "<style scoped>\n",
       "    .dataframe tbody tr th:only-of-type {\n",
       "        vertical-align: middle;\n",
       "    }\n",
       "\n",
       "    .dataframe tbody tr th {\n",
       "        vertical-align: top;\n",
       "    }\n",
       "\n",
       "    .dataframe thead th {\n",
       "        text-align: right;\n",
       "    }\n",
       "</style>\n",
       "<table border=\"1\" class=\"dataframe\">\n",
       "  <thead>\n",
       "    <tr style=\"text-align: right;\">\n",
       "      <th></th>\n",
       "      <th>v1</th>\n",
       "      <th>v2</th>\n",
       "      <th>v3</th>\n",
       "      <th>v4</th>\n",
       "      <th>Class</th>\n",
       "      <th>0</th>\n",
       "      <th>1</th>\n",
       "      <th>2</th>\n",
       "    </tr>\n",
       "  </thead>\n",
       "  <tbody>\n",
       "    <tr>\n",
       "      <th>1</th>\n",
       "      <td>4.9</td>\n",
       "      <td>3.0</td>\n",
       "      <td>1.4</td>\n",
       "      <td>0.2</td>\n",
       "      <td>0</td>\n",
       "      <td>1</td>\n",
       "      <td>0</td>\n",
       "      <td>0</td>\n",
       "    </tr>\n",
       "    <tr>\n",
       "      <th>77</th>\n",
       "      <td>6.7</td>\n",
       "      <td>3.0</td>\n",
       "      <td>5.0</td>\n",
       "      <td>1.7</td>\n",
       "      <td>1</td>\n",
       "      <td>0</td>\n",
       "      <td>1</td>\n",
       "      <td>0</td>\n",
       "    </tr>\n",
       "    <tr>\n",
       "      <th>100</th>\n",
       "      <td>6.3</td>\n",
       "      <td>3.3</td>\n",
       "      <td>6.0</td>\n",
       "      <td>2.5</td>\n",
       "      <td>2</td>\n",
       "      <td>0</td>\n",
       "      <td>0</td>\n",
       "      <td>1</td>\n",
       "    </tr>\n",
       "  </tbody>\n",
       "</table>\n",
       "</div>"
      ],
      "text/plain": [
       "      v1   v2   v3   v4  Class  0  1  2\n",
       "1    4.9  3.0  1.4  0.2      0  1  0  0\n",
       "77   6.7  3.0  5.0  1.7      1  0  1  0\n",
       "100  6.3  3.3  6.0  2.5      2  0  0  1"
      ]
     },
     "execution_count": 137,
     "metadata": {},
     "output_type": "execute_result"
    }
   ],
   "source": [
    "iris_df_OneHot = pd.concat([iris_df, \n",
    "                            pd.get_dummies(iris_df[\"Class\"])], \n",
    "                           axis = 1)\n",
    "iris_df_OneHot.iloc[[1,77,100],]"
   ]
  },
  {
   "cell_type": "code",
   "execution_count": null,
   "metadata": {},
   "outputs": [],
   "source": []
  },
  {
   "cell_type": "code",
   "execution_count": null,
   "metadata": {},
   "outputs": [],
   "source": []
  },
  {
   "cell_type": "markdown",
   "metadata": {},
   "source": [
    "# 2. Decomposiciones - Transformaciones complejas:"
   ]
  },
  {
   "cell_type": "markdown",
   "metadata": {},
   "source": [
    "## 2.1. PCA"
   ]
  },
  {
   "cell_type": "markdown",
   "metadata": {},
   "source": [
    "Principal Component Analysis:"
   ]
  },
  {
   "cell_type": "code",
   "execution_count": 26,
   "metadata": {},
   "outputs": [
    {
     "data": {
      "text/plain": [
       "<matplotlib.collections.PathCollection at 0x1e3788a63c8>"
      ]
     },
     "execution_count": 26,
     "metadata": {},
     "output_type": "execute_result"
    },
    {
     "data": {
      "image/png": "[encoded data removed]",
      "text/plain": [
       "<Figure size 432x288 with 2 Axes>"
      ]
     },
     "metadata": {},
     "output_type": "display_data"
    }
   ],
   "source": [
    "from sklearn.decomposition import PCA\n",
    "\n",
    "# Creamos el constructor de PCA\n",
    "pca = PCA(n_components=2)\n",
    "\n",
    "# Lo fiteamos con nuestros datos, dándonos ya las proyecciones\n",
    "pca_model = pca.fit_transform(iris.data)\n",
    "\n",
    "# fig, axs = plt.subplots(2) # Vertical\n",
    "fig, (ax1, ax2) = plt.subplots(1, 2) # Horizontal\n",
    "fig.suptitle('Horizontally stacked subplots')\n",
    "ax1.scatter(iris.data[:,0], iris.data[:,1], marker = 'o', c = iris.target)\n",
    "ax2.scatter(pca_model[:,0], pca_model[:,1], marker = 'o', c = iris.target)"
   ]
  },
  {
   "cell_type": "code",
   "execution_count": 27,
   "metadata": {},
   "outputs": [
    {
     "data": {
      "text/plain": [
       "array([0.92461872, 0.05306648])"
      ]
     },
     "execution_count": 27,
     "metadata": {},
     "output_type": "execute_result"
    }
   ],
   "source": [
    "pca.explained_variance_ratio_"
   ]
  },
  {
   "cell_type": "markdown",
   "metadata": {},
   "source": [
    "# 3. Dividir entreno y test"
   ]
  },
  {
   "cell_type": "code",
   "execution_count": 28,
   "metadata": {},
   "outputs": [],
   "source": [
    "from sklearn.model_selection import train_test_split\n",
    "\n",
    "# Autoexplicativa\n",
    "X_train, X_test, y_train, y_test = train_test_split(iris.data,\n",
    "                                                    iris.target,\n",
    "                                                    test_size = 0.2,\n",
    "                                                    random_state=0)"
   ]
  },
  {
   "cell_type": "markdown",
   "metadata": {},
   "source": [
    "# 4. Creación & Entreno de modelos"
   ]
  },
  {
   "cell_type": "markdown",
   "metadata": {},
   "source": [
    "## 4.1. Modelos supervisados clásicos"
   ]
  },
  {
   "cell_type": "markdown",
   "metadata": {},
   "source": [
    "La __API__ es consistente a lo largo de toda la librería:\n",
    "- model = ModelConstructor(param1 = a, param2 = b, ...)\n",
    "- model.fit(X_train, y_train)\n",
    "- model.predict(X_test)\n",
    "- model.score(X_test, y_test)"
   ]
  },
  {
   "cell_type": "markdown",
   "metadata": {},
   "source": [
    "#### LinearRegression"
   ]
  },
  {
   "cell_type": "code",
   "execution_count": 29,
   "metadata": {},
   "outputs": [
    {
     "name": "stdout",
     "output_type": "stream",
     "text": [
      "[2, 0, 0, 1, 0, 2, 0, 1, 1, 1, 1, 1, 1, 1, 1, 0, 1, 1, 0, 0, 1, 1, 0, 0, 1, 0, 0, 1, 0, 0]\n",
      "[2 1 0 2 0 2 0 1 1 1 2 1 1 1 1 0 1 1 0 0 2 1 0 0 2 0 0 1 1 0]\n"
     ]
    }
   ],
   "source": [
    "from sklearn.linear_model import LinearRegression\n",
    "\n",
    "# Creamos el modelo\n",
    "lr = LinearRegression(normalize=True)\n",
    "\n",
    "# Lo entrenamos, y ya podemos predecir sobre la instancia\n",
    "lr.fit(X_train, y_train)\n",
    "y_pred = lr.predict(X_test)\n",
    "\n",
    "# Raro, ya que estamos intentando predecir una clase\n",
    "print([int(i) for i in y_pred])\n",
    "print(y_test)"
   ]
  },
  {
   "cell_type": "markdown",
   "metadata": {},
   "source": [
    "#### SVC"
   ]
  },
  {
   "cell_type": "code",
   "execution_count": 30,
   "metadata": {},
   "outputs": [
    {
     "name": "stdout",
     "output_type": "stream",
     "text": [
      "[2 1 0 2 0 2 0 1 1 1 2 1 1 1 1 0 1 1 0 0 2 1 0 0 2 0 0 1 1 0]\n",
      "[2 1 0 2 0 2 0 1 1 1 2 1 1 1 1 0 1 1 0 0 2 1 0 0 2 0 0 1 1 0]\n"
     ]
    }
   ],
   "source": [
    "from sklearn.svm import SVC\n",
    "\n",
    "# Creamos el modelo\n",
    "svc = SVC(kernel='linear')\n",
    "\n",
    "# Lo entrenamos, y ya podemos predecir sobre la instancia\n",
    "svc.fit(X_train, y_train)\n",
    "y_pred = svc.predict(X_test)\n",
    "\n",
    "print(y_pred)\n",
    "print(y_test)"
   ]
  },
  {
   "cell_type": "markdown",
   "metadata": {},
   "source": [
    "#### GaussianNB"
   ]
  },
  {
   "cell_type": "code",
   "execution_count": 31,
   "metadata": {},
   "outputs": [
    {
     "name": "stdout",
     "output_type": "stream",
     "text": [
      "[2 1 0 2 0 2 0 1 1 1 1 1 1 1 1 0 1 1 0 0 2 1 0 0 2 0 0 1 1 0]\n",
      "[2 1 0 2 0 2 0 1 1 1 2 1 1 1 1 0 1 1 0 0 2 1 0 0 2 0 0 1 1 0]\n"
     ]
    }
   ],
   "source": [
    "from sklearn.naive_bayes import GaussianNB\n",
    "\n",
    "# Creamos el modelo\n",
    "gnb = GaussianNB()\n",
    "\n",
    "# Lo entrenamos, y ya podemos predecir sobre la instancia\n",
    "gnb.fit(X_train, y_train)\n",
    "y_pred = gnb.predict(X_test)\n",
    "\n",
    "print(y_pred)\n",
    "print(y_test)"
   ]
  },
  {
   "cell_type": "markdown",
   "metadata": {},
   "source": [
    "#### kNN"
   ]
  },
  {
   "cell_type": "code",
   "execution_count": 32,
   "metadata": {},
   "outputs": [
    {
     "name": "stdout",
     "output_type": "stream",
     "text": [
      "[2 1 0 2 0 2 0 1 1 1 2 1 1 1 2 0 1 1 0 0 2 1 0 0 2 0 0 1 1 0]\n",
      "[2 1 0 2 0 2 0 1 1 1 2 1 1 1 1 0 1 1 0 0 2 1 0 0 2 0 0 1 1 0]\n"
     ]
    }
   ],
   "source": [
    "from sklearn import neighbors\n",
    "\n",
    "# Creamos el modelo\n",
    "knn = neighbors.KNeighborsClassifier(n_neighbors=5)\n",
    "\n",
    "# Lo entrenamos, y ya podemos predecir sobre la instancia\n",
    "knn.fit(X_train, y_train)\n",
    "y_pred = knn.predict(X_test)\n",
    "\n",
    "print(y_pred)\n",
    "print(y_test)"
   ]
  },
  {
   "cell_type": "markdown",
   "metadata": {},
   "source": [
    "## 4.2. Modelos no supervisados"
   ]
  },
  {
   "cell_type": "markdown",
   "metadata": {},
   "source": [
    "Por crear."
   ]
  },
  {
   "cell_type": "markdown",
   "metadata": {},
   "source": [
    "# 5. Validación de modelos"
   ]
  },
  {
   "cell_type": "code",
   "execution_count": 33,
   "metadata": {},
   "outputs": [
    {
     "name": "stdout",
     "output_type": "stream",
     "text": [
      "knn accuracy: \t 0.9666666666666667\n",
      "knn accuracy: \t 0.9666666666666667\n",
      "knn mean ERR: \t 0.03333333333333333\n",
      "knn sq. ERR: \t 0.03333333333333333\n",
      "knn r2: \t 0.9381443298969072 \n",
      "\n"
     ]
    }
   ],
   "source": [
    "from sklearn.metrics import accuracy_score\n",
    "from sklearn.metrics import classification_report\n",
    "from sklearn.metrics import confusion_matrix\n",
    "from sklearn.metrics import mean_absolute_error\n",
    "from sklearn.metrics import mean_squared_error\n",
    "from sklearn.metrics import r2_score\n",
    "\n",
    "# Accuracy:\n",
    "# Este en concreto ya lo tiene el modelo, ya hace el predict, y utiliza los scores por defecto:\n",
    "    # sklearn.metrics.accuracy_score for classification and sklearn.metrics.r2_score for regression\n",
    "print(\"knn accuracy: \\t\",knn.score(X_test, y_test)) \n",
    "print(\"knn accuracy: \\t\",accuracy_score(y_test, y_pred))\n",
    "print(\"knn mean ERR: \\t\",mean_absolute_error(y_test, y_pred))\n",
    "print(\"knn sq. ERR: \\t\",mean_squared_error(y_test, y_pred))\n",
    "print(\"knn r2: \\t\",r2_score(y_test, y_pred), \"\\n\")"
   ]
  },
  {
   "cell_type": "code",
   "execution_count": 34,
   "metadata": {},
   "outputs": [
    {
     "name": "stdout",
     "output_type": "stream",
     "text": [
      "              precision    recall  f1-score   support\n",
      "\n",
      "           0       1.00      1.00      1.00        11\n",
      "           1       1.00      0.92      0.96        13\n",
      "           2       0.86      1.00      0.92         6\n",
      "\n",
      "   micro avg       0.97      0.97      0.97        30\n",
      "   macro avg       0.95      0.97      0.96        30\n",
      "weighted avg       0.97      0.97      0.97        30\n",
      "\n"
     ]
    }
   ],
   "source": [
    "# Report classificación métricas\n",
    "print(classification_report(y_test, y_pred))"
   ]
  },
  {
   "cell_type": "code",
   "execution_count": 35,
   "metadata": {},
   "outputs": [
    {
     "name": "stdout",
     "output_type": "stream",
     "text": [
      "[[11  0  0]\n",
      " [ 0 12  1]\n",
      " [ 0  0  6]]\n"
     ]
    }
   ],
   "source": [
    "# Matriz de confusion\n",
    "print(confusion_matrix(y_test, y_pred))"
   ]
  },
  {
   "cell_type": "markdown",
   "metadata": {},
   "source": [
    "## 5.1. Validación cruzada simple"
   ]
  },
  {
   "cell_type": "markdown",
   "metadata": {},
   "source": [
    "__cross_val_score__ te da el score de hacer N veces una k-fold validación cruzadas, utilizando para ello solo el __train__ set. La diferencia con __cross_validate__ es que la última te permite utilizar varios scores, no solo uno. \n",
    "\n",
    "Para cada una de las k-fold, se hará lo siguiente:\n",
    "- Primero se aleatoriza el train set, y se divide en k grupos. Por defecto 3.\n",
    "- Se entrena el algoritmo en k-1 y se testea en el k-th restante, dando lugar a un score. \n",
    "- Se hace esto para las demás k posibilidades de selección del 'test' set, entrenando así k veces el algoritmo\n",
    "- Hacemos la media de los k scores.\n",
    "\n",
    "Lista de métricas a utilizar => [__Lista de scorer's__](https://scikit-learn.org/stable/modules/model_evaluation.html#scoring-parameter)"
   ]
  },
  {
   "cell_type": "code",
   "execution_count": 36,
   "metadata": {},
   "outputs": [
    {
     "name": "stdout",
     "output_type": "stream",
     "text": [
      "[0.96774194 0.93333333 1.         0.93103448]\n"
     ]
    }
   ],
   "source": [
    "from sklearn.model_selection import cross_val_score\n",
    "\n",
    "# Por defecto utilizará el score por defecto del método!\n",
    "print(cross_val_score(knn, \n",
    "                      X_train, \n",
    "                      y_train, \n",
    "                      cv=4))"
   ]
  },
  {
   "cell_type": "markdown",
   "metadata": {},
   "source": [
    "__cross_validate__ permite utilizas más de una métrica al mismo tiempo. Probaremos con estas tres, para knn:\n",
    "\n",
    "- ‘accuracy’\t \n",
    "- ‘balanced_accuracy’\t\n",
    "- ‘average_precision’"
   ]
  },
  {
   "cell_type": "code",
   "execution_count": 37,
   "metadata": {},
   "outputs": [
    {
     "data": {
      "text/plain": [
       "{'fit_time': array([0.00100303, 0.00100231, 0.00100112]),\n",
       " 'score_time': array([0.00300837, 0.00501227, 0.00400901]),\n",
       " 'test_accuracy': array([0.90909091, 1.        , 0.77777778]),\n",
       " 'train_accuracy': array([0.89473684, 0.95      , 0.95238095]),\n",
       " 'test_balanced_accuracy': array([0.83333333, 1.        , 0.66666667]),\n",
       " 'train_balanced_accuracy': array([0.83333333, 0.91666667, 0.91666667])}"
      ]
     },
     "execution_count": 37,
     "metadata": {},
     "output_type": "execute_result"
    }
   ],
   "source": [
    "from sklearn.model_selection import cross_validate\n",
    "\n",
    "cv_results = cross_validate(knn, \n",
    "                            X_test, \n",
    "                            y_test, \n",
    "                            scoring = ['accuracy', 'balanced_accuracy'],\n",
    "                            cv=3, \n",
    "                            return_train_score=True)\n",
    "cv_results"
   ]
  },
  {
   "cell_type": "code",
   "execution_count": 38,
   "metadata": {},
   "outputs": [
    {
     "name": "stdout",
     "output_type": "stream",
     "text": [
      "[[5.8 2.8 5.1 2.4]\n",
      " [6.  2.2 4.  1. ]\n",
      " [5.5 4.2 1.4 0.2]\n",
      " [7.3 2.9 6.3 1.8]\n",
      " [5.  3.4 1.5 0.2]\n",
      " [6.3 3.3 6.  2.5]] \n",
      "\n",
      "(array([0, 3, 4]), array([1, 2, 5]))\n",
      "(array([1, 2, 5]), array([0, 3, 4]))\n"
     ]
    }
   ],
   "source": [
    "# Por debajo tiran de KFold, que hace lo siguiente:\n",
    "from sklearn.model_selection import KFold\n",
    "\n",
    "print(X_test[:6,:], \"\\n\")\n",
    "kf = KFold(2, shuffle = True, random_state = 0)\n",
    "\n",
    "# Nos daria los índices para train y test de cada kfold\n",
    "for i in kf.split(X_test[:6,:]):\n",
    "    print(i)"
   ]
  },
  {
   "cell_type": "markdown",
   "metadata": {},
   "source": [
    "# 6. Creado nuestras propias métricas (o Scores)"
   ]
  },
  {
   "cell_type": "markdown",
   "metadata": {},
   "source": [
    "En los apartados anteriores, utilizamos siempre scorers predefinidos por __sklearn__. Las funciones anteriores, como cross_validate, y por ejemplo GridSearch (que veremos a continuación), permiten utilizar métricas definidas por el usuario.\n",
    "\n",
    "Las funciones que tienen el parámetro 'scoring', suelen aceptar un string con las funciones predefinidas antes descritas (y listadas en [__Lista de scorer's__](https://scikit-learn.org/stable/modules/model_evaluation.html#scoring-parameter)), o un 'callable' construído con __make_scorer()__ a partir de una métrica, como puede ser por ejemplo **fbeta_score** (en este caso, algunas veces es necesario construir el scorer desde la métrica, si por ejemplo necesitara de parámetros extra para su correcto funcionamiento).\n",
    "\n",
    "__NOTA__: Hay una tercer manera de crear un scorer totalmente de cero, pero no la vamos a ver aquí."
   ]
  },
  {
   "cell_type": "code",
   "execution_count": 39,
   "metadata": {},
   "outputs": [
    {
     "name": "stdout",
     "output_type": "stream",
     "text": [
      "0.5\n",
      "0.5\n",
      "-0.5\n"
     ]
    }
   ],
   "source": [
    "from sklearn.metrics import make_scorer\n",
    "\n",
    "# Creamos nuestra 'métrica', primero. Tiene que devolver un único valor, dado el vector de predicciones y y_test.\n",
    "def my_own_metric(y_true, y_pred, a = 1):\n",
    "    aux = a / (max(y_true) - min(y_pred))\n",
    "    return aux\n",
    "\n",
    "# Creamos el scorer:\n",
    "my_own_score = make_scorer(my_own_metric, greater_is_better=True, a = 1)\n",
    "\n",
    "my_own_score_2 = make_scorer(my_own_metric, greater_is_better=False, a = 1)\n",
    "\n",
    "# Probamos tanto la metrica (simple función), como el scorer\n",
    "print(my_own_metric(knn.predict(X_test), y_test))\n",
    "print(my_own_score(knn, X_test, y_test))\n",
    "print(my_own_score_2(knn, X_test, y_test))"
   ]
  },
  {
   "cell_type": "markdown",
   "metadata": {},
   "source": [
    "#### Por qué greater_is_better = False niega la métrica?"
   ]
  },
  {
   "cell_type": "markdown",
   "metadata": {},
   "source": [
    "Cuando utilizamos un scorer en una función simple como cross_validate, se devuelven todos los resultados, no hay un componente de 'selección' de modelo como tal, sino que únicamente se valida como se comporta un determinado modelo con un determinado sets de parámetros.\n",
    "\n",
    "En cambio, cuando utilizamos funciones como GridSearchCV, el algoritmo ejecutara la validación cruzada (una o varias veces) para cada una de las tuplas de parámetros a estudiar, asignando así a cada una de ellas un score. Al final, el algoritmo devolverá el set de parámetros con mejor score. Si se pone __greater_is_better = False__, significa que nuestra función es una 'loss'. Negando el resultado, conseguimos que las funciones de búsqueda traten como mejor a un set de parámetros que a otro si tiene menor loss, ya que si utilizaramos mayor score, al no ser un score, estaríamos cogiendo el peor."
   ]
  },
  {
   "cell_type": "markdown",
   "metadata": {},
   "source": [
    "Ahora podemos hacer lo que hicimos antes con __cross_validate__, pero añadiendo nuestra nueva métrica."
   ]
  },
  {
   "cell_type": "code",
   "execution_count": 40,
   "metadata": {},
   "outputs": [
    {
     "data": {
      "text/plain": [
       "{'fit_time': array([0.0009954 , 0.00100279, 0.00100017]),\n",
       " 'score_time': array([0.00601792, 0.00401211, 0.00501513]),\n",
       " 'test_Acc': array([0.90909091, 1.        , 0.77777778]),\n",
       " 'train_Acc': array([0.89473684, 0.95      , 0.95238095]),\n",
       " 'test_BAcc': array([0.83333333, 1.        , 0.66666667]),\n",
       " 'train_BAcc': array([0.83333333, 0.91666667, 0.91666667]),\n",
       " 'test_Own': array([0.5, 0.5, 0.5]),\n",
       " 'train_Own': array([0.5, 0.5, 0.5])}"
      ]
     },
     "execution_count": 40,
     "metadata": {},
     "output_type": "execute_result"
    }
   ],
   "source": [
    "from sklearn.model_selection import cross_validate\n",
    "\n",
    "# Como hay mezcla de predefinidas y scorers, hay que hacer un dict!\n",
    "scorers = {'Acc' : 'accuracy',\n",
    "           'BAcc' : 'balanced_accuracy',\n",
    "           'Own' : my_own_score}\n",
    "\n",
    "cv_results = cross_validate(knn, \n",
    "                            X_test, \n",
    "                            y_test, \n",
    "                            scoring = scorers,\n",
    "                            cv=3, \n",
    "                            return_train_score=True)\n",
    "cv_results"
   ]
  },
  {
   "cell_type": "markdown",
   "metadata": {},
   "source": [
    "# 7. Selección de modelo"
   ]
  },
  {
   "cell_type": "markdown",
   "metadata": {},
   "source": [
    "Obviamente, **sklearn** dispone de herramientas para entrenar un modelo con distintos sets de parámetros a la vez, quedándose con el que da mejores resultados. Esto se consigue con GridSearchCV.\n",
    ":"
   ]
  },
  {
   "cell_type": "markdown",
   "metadata": {},
   "source": [
    "## 7.1. Simple GridSearchCV"
   ]
  },
  {
   "cell_type": "code",
   "execution_count": 84,
   "metadata": {},
   "outputs": [],
   "source": [
    "# Como antes, comenzamos con el modelo knn:\n",
    "from sklearn import neighbors\n",
    "from sklearn.model_selection import GridSearchCV\n",
    "\n",
    "# Creamos el modelo, sin parámetros, ya que se van a escoger más tarde.\n",
    "knn = neighbors.KNeighborsClassifier()\n",
    "\n",
    "# Creamos el grid de paramámetros\n",
    "param_grid = {'n_neighbors' : range(1,15)}\n",
    "\n",
    "# Ejemplo de uno un poco más difícil\n",
    "param_grid_example = [\n",
    "  {'C': [1, 10, 100, 1000], 'kernel': ['linear']},\n",
    "  {'C': [1, 10, 100, 1000], 'gamma': [0.001, 0.0001], 'kernel': ['rbf']},\n",
    "]\n",
    "\n",
    "# Creamos el objeto GridSearch\n",
    "gs = GridSearchCV(\n",
    "        estimator=knn,\n",
    "        param_grid=param_grid, \n",
    "        cv=5, \n",
    "        n_jobs=1, \n",
    "        scoring='accuracy',\n",
    "        verbose=0,\n",
    "        return_train_score = False,\n",
    "        iid = False,\n",
    "        # refit lo que hace es entrenar con TODOS los datos con los parametros optimizados\n",
    "        # no puede haber ambiguedad de metricas. En este caso escojería la única que hay.\n",
    "        refit = True\n",
    ")"
   ]
  },
  {
   "cell_type": "code",
   "execution_count": 85,
   "metadata": {},
   "outputs": [],
   "source": [
    "# Entrenamos el gs en si, que significa: Ves lor mejores parámetros bajo la métrica indicada.\n",
    "x = gs.fit(X_train, y_train)"
   ]
  },
  {
   "cell_type": "markdown",
   "metadata": {},
   "source": [
    "En **best_params_** tenemos los mejores parámetros. En **best_estimator_** tenemos ya el mejor estimador, es decir, el modelo escogido ya con los **best_params_**. "
   ]
  },
  {
   "cell_type": "code",
   "execution_count": 88,
   "metadata": {},
   "outputs": [
    {
     "data": {
      "text/plain": [
       "{'n_neighbors': 12}"
      ]
     },
     "execution_count": 88,
     "metadata": {},
     "output_type": "execute_result"
    }
   ],
   "source": [
    "gs.best_params_"
   ]
  },
  {
   "cell_type": "code",
   "execution_count": 89,
   "metadata": {},
   "outputs": [
    {
     "data": {
      "text/plain": [
       "KNeighborsClassifier(algorithm='auto', leaf_size=30, metric='minkowski',\n",
       "           metric_params=None, n_jobs=None, n_neighbors=12, p=2,\n",
       "           weights='uniform')"
      ]
     },
     "execution_count": 89,
     "metadata": {},
     "output_type": "execute_result"
    }
   ],
   "source": [
    "gs.best_estimator_"
   ]
  },
  {
   "cell_type": "code",
   "execution_count": 100,
   "metadata": {},
   "outputs": [
    {
     "name": "stdout",
     "output_type": "stream",
     "text": [
      "[2 1 0 2 0 2 0 1 1 1 2 1 1 1 1 0 1 1 0 0 2 1 0 0 2 0 0 1 1 0] \n",
      "\n",
      "[[0.         0.08333333 0.91666667]\n",
      " [0.         1.         0.        ]\n",
      " [1.         0.         0.        ]]\n"
     ]
    }
   ],
   "source": [
    "# También se puede predecir directamente!\n",
    "y_pred = gs.predict(X_test)\n",
    "print(y_pred, \"\\n\")\n",
    "\n",
    "y_pred_prob = gs.predict_proba(X_test)\n",
    "print(y_pred_prob[:3,:])"
   ]
  },
  {
   "cell_type": "code",
   "execution_count": 94,
   "metadata": {},
   "outputs": [
    {
     "name": "stdout",
     "output_type": "stream",
     "text": [
      "knn accuracy: \t 1.0\n",
      "knn accuracy: \t 1.0\n",
      "knn mean ERR: \t 0.0\n",
      "knn sq. ERR: \t 0.0\n",
      "knn r2: \t 1.0 \n",
      "\n",
      "[[11  0  0]\n",
      " [ 0 13  0]\n",
      " [ 0  0  6]]\n"
     ]
    }
   ],
   "source": [
    "# Y obviamente, utilizar las métricas antes vistas!\n",
    "# Este en concreto ya lo tiene el modelo, ya hace el predict y utiliza la métrica por defecto\n",
    "print(\"knn accuracy: \\t\",gs.score(X_test, y_test)) \n",
    "print(\"knn accuracy: \\t\",accuracy_score(y_test, y_pred))\n",
    "print(\"knn mean ERR: \\t\",mean_absolute_error(y_test, y_pred))\n",
    "print(\"knn sq. ERR: \\t\",mean_squared_error(y_test, y_pred))\n",
    "print(\"knn r2: \\t\",r2_score(y_test, y_pred), \"\\n\")\n",
    "\n",
    "# Matriz de confusion\n",
    "print(confusion_matrix(y_test, y_pred))"
   ]
  },
  {
   "cell_type": "markdown",
   "metadata": {},
   "source": [
    "## 7.2. GridSearchCV con varias métricas de evaluación, entre ellas propias"
   ]
  },
  {
   "cell_type": "code",
   "execution_count": 166,
   "metadata": {},
   "outputs": [],
   "source": [
    "# Como antes, comenzamos con el modelo. Ahora cambiamos a SVC para hacerlo más interesnate\n",
    "from sklearn.model_selection import GridSearchCV\n",
    "from sklearn.svm import SVC\n",
    "\n",
    "# Creamos el modelo\n",
    "svc = SVC()\n",
    "\n",
    "\n",
    "# Ejemplo de uno un poco más difícil\n",
    "# Como vemos, hay una lista de dicts para hacer más combinatoria\n",
    "param_grid = [\n",
    "  {'C': [1, 10, 100, 1000], 'kernel': ['linear']},\n",
    "  {'C': [1, 10, 100, 1000], 'gamma': [0.001, 0.0001], 'kernel': ['rbf']},\n",
    "]\n",
    "\n",
    "scorers = {'Acc' : 'accuracy',\n",
    "           'BAcc' : 'balanced_accuracy',\n",
    "           'Own' : my_own_score}\n",
    "\n",
    "# Creamos el objeto GridSearch\n",
    "gs = GridSearchCV(\n",
    "        estimator=svc,\n",
    "        param_grid=param_grid, \n",
    "        cv=5, \n",
    "        n_jobs=1, \n",
    "        scoring= scorers,\n",
    "        verbose=0,\n",
    "        return_train_score = False,\n",
    "        iid = False,\n",
    "        # Como en este caso hay varios criterios de score, habría que poner un scorer concreto (Callable)\n",
    "        # O poner un False para que no se recalcule\n",
    "        refit = 'Acc'\n",
    ")"
   ]
  },
  {
   "cell_type": "code",
   "execution_count": 167,
   "metadata": {},
   "outputs": [
    {
     "name": "stderr",
     "output_type": "stream",
     "text": [
      "C:\\Users\\rrecarey\\AppData\\Local\\Continuum\\miniconda3\\lib\\site-packages\\ipykernel_launcher.py:5: RuntimeWarning: divide by zero encountered in long_scalars\n",
      "  \"\"\"\n",
      "C:\\Users\\rrecarey\\AppData\\Local\\Continuum\\miniconda3\\lib\\site-packages\\ipykernel_launcher.py:5: RuntimeWarning: divide by zero encountered in long_scalars\n",
      "  \"\"\"\n",
      "C:\\Users\\rrecarey\\AppData\\Local\\Continuum\\miniconda3\\lib\\site-packages\\ipykernel_launcher.py:5: RuntimeWarning: divide by zero encountered in long_scalars\n",
      "  \"\"\"\n",
      "C:\\Users\\rrecarey\\AppData\\Local\\Continuum\\miniconda3\\lib\\site-packages\\ipykernel_launcher.py:5: RuntimeWarning: divide by zero encountered in long_scalars\n",
      "  \"\"\"\n",
      "C:\\Users\\rrecarey\\AppData\\Local\\Continuum\\miniconda3\\lib\\site-packages\\ipykernel_launcher.py:5: RuntimeWarning: divide by zero encountered in long_scalars\n",
      "  \"\"\"\n",
      "C:\\Users\\rrecarey\\AppData\\Local\\Continuum\\miniconda3\\lib\\site-packages\\sklearn\\model_selection\\_search.py:791: RuntimeWarning: invalid value encountered in subtract\n",
      "  array_means[:, np.newaxis]) ** 2,\n"
     ]
    }
   ],
   "source": [
    "# Entrenamos el gs en si, que significa: Ves lor mejores parámetros bajo la métrica indicada.\n",
    "x = gs.fit(X_train, y_train)"
   ]
  },
  {
   "cell_type": "code",
   "execution_count": null,
   "metadata": {},
   "outputs": [],
   "source": []
  },
  {
   "cell_type": "code",
   "execution_count": null,
   "metadata": {},
   "outputs": [],
   "source": []
  },
  {
   "cell_type": "code",
   "execution_count": null,
   "metadata": {},
   "outputs": [],
   "source": []
  }
 ],
 "metadata": {
  "kernelspec": {
   "display_name": "Python 3",
   "language": "python",
   "name": "python3"
  },
  "language_info": {
   "codemirror_mode": {
    "name": "ipython",
    "version": 3
   },
   "file_extension": ".py",
   "mimetype": "text/x-python",
   "name": "python",
   "nbconvert_exporter": "python",
   "pygments_lexer": "ipython3",
   "version": "3.6.8"
  }
 },
 "nbformat": 4,
 "nbformat_minor": 2
}
